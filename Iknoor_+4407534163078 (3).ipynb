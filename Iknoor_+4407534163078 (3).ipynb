{
  "nbformat": 4,
  "nbformat_minor": 0,
  "metadata": {
    "colab": {
      "name": "Iknoor_+4407534163078.ipynb",
      "provenance": [],
      "collapsed_sections": [],
      "toc_visible": true
    },
    "kernelspec": {
      "name": "python3",
      "display_name": "Python 3"
    },
    "accelerator": "GPU",
    "widgets": {
      "application/vnd.jupyter.widget-state+json": {
        "13e883b6e4da4327998918a1e950cac5": {
          "model_module": "@jupyter-widgets/controls",
          "model_name": "HBoxModel",
          "state": {
            "_view_name": "HBoxView",
            "_dom_classes": [],
            "_model_name": "HBoxModel",
            "_view_module": "@jupyter-widgets/controls",
            "_model_module_version": "1.5.0",
            "_view_count": null,
            "_view_module_version": "1.5.0",
            "box_style": "",
            "layout": "IPY_MODEL_7b7fc1af40134f14a8307381f2850923",
            "_model_module": "@jupyter-widgets/controls",
            "children": [
              "IPY_MODEL_04eba43d3ae8429ebcc0e025775d0b9c",
              "IPY_MODEL_15feae22d6d84c6a882013c1b4161ff6"
            ]
          }
        },
        "7b7fc1af40134f14a8307381f2850923": {
          "model_module": "@jupyter-widgets/base",
          "model_name": "LayoutModel",
          "state": {
            "_view_name": "LayoutView",
            "grid_template_rows": null,
            "right": null,
            "justify_content": null,
            "_view_module": "@jupyter-widgets/base",
            "overflow": null,
            "_model_module_version": "1.2.0",
            "_view_count": null,
            "flex_flow": null,
            "width": null,
            "min_width": null,
            "border": null,
            "align_items": null,
            "bottom": null,
            "_model_module": "@jupyter-widgets/base",
            "top": null,
            "grid_column": null,
            "overflow_y": null,
            "overflow_x": null,
            "grid_auto_flow": null,
            "grid_area": null,
            "grid_template_columns": null,
            "flex": null,
            "_model_name": "LayoutModel",
            "justify_items": null,
            "grid_row": null,
            "max_height": null,
            "align_content": null,
            "visibility": null,
            "align_self": null,
            "height": null,
            "min_height": null,
            "padding": null,
            "grid_auto_rows": null,
            "grid_gap": null,
            "max_width": null,
            "order": null,
            "_view_module_version": "1.2.0",
            "grid_template_areas": null,
            "object_position": null,
            "object_fit": null,
            "grid_auto_columns": null,
            "margin": null,
            "display": null,
            "left": null
          }
        },
        "04eba43d3ae8429ebcc0e025775d0b9c": {
          "model_module": "@jupyter-widgets/controls",
          "model_name": "IntProgressModel",
          "state": {
            "_view_name": "ProgressView",
            "style": "IPY_MODEL_4769408c645248c3a3569bb9886e0ca7",
            "_dom_classes": [],
            "description": "Downloading",
            "_model_name": "IntProgressModel",
            "bar_style": "success",
            "max": 524,
            "_view_module": "@jupyter-widgets/controls",
            "_model_module_version": "1.5.0",
            "value": 524,
            "_view_count": null,
            "_view_module_version": "1.5.0",
            "orientation": "horizontal",
            "min": 0,
            "description_tooltip": null,
            "_model_module": "@jupyter-widgets/controls",
            "layout": "IPY_MODEL_bfd022f1c7b04e318bc490eca47e8aa0"
          }
        },
        "15feae22d6d84c6a882013c1b4161ff6": {
          "model_module": "@jupyter-widgets/controls",
          "model_name": "HTMLModel",
          "state": {
            "_view_name": "HTMLView",
            "style": "IPY_MODEL_978deb49cdae4a6794e7ec6c1c0cb4b6",
            "_dom_classes": [],
            "description": "",
            "_model_name": "HTMLModel",
            "placeholder": "​",
            "_view_module": "@jupyter-widgets/controls",
            "_model_module_version": "1.5.0",
            "value": "100% 524/524 [00:00&lt;00:00, 14.5kB/s]",
            "_view_count": null,
            "_view_module_version": "1.5.0",
            "description_tooltip": null,
            "_model_module": "@jupyter-widgets/controls",
            "layout": "IPY_MODEL_f90152abc60341fe905f7881e52cd38c"
          }
        },
        "4769408c645248c3a3569bb9886e0ca7": {
          "model_module": "@jupyter-widgets/controls",
          "model_name": "ProgressStyleModel",
          "state": {
            "_view_name": "StyleView",
            "_model_name": "ProgressStyleModel",
            "description_width": "initial",
            "_view_module": "@jupyter-widgets/base",
            "_model_module_version": "1.5.0",
            "_view_count": null,
            "_view_module_version": "1.2.0",
            "bar_color": null,
            "_model_module": "@jupyter-widgets/controls"
          }
        },
        "bfd022f1c7b04e318bc490eca47e8aa0": {
          "model_module": "@jupyter-widgets/base",
          "model_name": "LayoutModel",
          "state": {
            "_view_name": "LayoutView",
            "grid_template_rows": null,
            "right": null,
            "justify_content": null,
            "_view_module": "@jupyter-widgets/base",
            "overflow": null,
            "_model_module_version": "1.2.0",
            "_view_count": null,
            "flex_flow": null,
            "width": null,
            "min_width": null,
            "border": null,
            "align_items": null,
            "bottom": null,
            "_model_module": "@jupyter-widgets/base",
            "top": null,
            "grid_column": null,
            "overflow_y": null,
            "overflow_x": null,
            "grid_auto_flow": null,
            "grid_area": null,
            "grid_template_columns": null,
            "flex": null,
            "_model_name": "LayoutModel",
            "justify_items": null,
            "grid_row": null,
            "max_height": null,
            "align_content": null,
            "visibility": null,
            "align_self": null,
            "height": null,
            "min_height": null,
            "padding": null,
            "grid_auto_rows": null,
            "grid_gap": null,
            "max_width": null,
            "order": null,
            "_view_module_version": "1.2.0",
            "grid_template_areas": null,
            "object_position": null,
            "object_fit": null,
            "grid_auto_columns": null,
            "margin": null,
            "display": null,
            "left": null
          }
        },
        "978deb49cdae4a6794e7ec6c1c0cb4b6": {
          "model_module": "@jupyter-widgets/controls",
          "model_name": "DescriptionStyleModel",
          "state": {
            "_view_name": "StyleView",
            "_model_name": "DescriptionStyleModel",
            "description_width": "",
            "_view_module": "@jupyter-widgets/base",
            "_model_module_version": "1.5.0",
            "_view_count": null,
            "_view_module_version": "1.2.0",
            "_model_module": "@jupyter-widgets/controls"
          }
        },
        "f90152abc60341fe905f7881e52cd38c": {
          "model_module": "@jupyter-widgets/base",
          "model_name": "LayoutModel",
          "state": {
            "_view_name": "LayoutView",
            "grid_template_rows": null,
            "right": null,
            "justify_content": null,
            "_view_module": "@jupyter-widgets/base",
            "overflow": null,
            "_model_module_version": "1.2.0",
            "_view_count": null,
            "flex_flow": null,
            "width": null,
            "min_width": null,
            "border": null,
            "align_items": null,
            "bottom": null,
            "_model_module": "@jupyter-widgets/base",
            "top": null,
            "grid_column": null,
            "overflow_y": null,
            "overflow_x": null,
            "grid_auto_flow": null,
            "grid_area": null,
            "grid_template_columns": null,
            "flex": null,
            "_model_name": "LayoutModel",
            "justify_items": null,
            "grid_row": null,
            "max_height": null,
            "align_content": null,
            "visibility": null,
            "align_self": null,
            "height": null,
            "min_height": null,
            "padding": null,
            "grid_auto_rows": null,
            "grid_gap": null,
            "max_width": null,
            "order": null,
            "_view_module_version": "1.2.0",
            "grid_template_areas": null,
            "object_position": null,
            "object_fit": null,
            "grid_auto_columns": null,
            "margin": null,
            "display": null,
            "left": null
          }
        },
        "49b18aabf79844d5b1e8990b6aac8670": {
          "model_module": "@jupyter-widgets/controls",
          "model_name": "HBoxModel",
          "state": {
            "_view_name": "HBoxView",
            "_dom_classes": [],
            "_model_name": "HBoxModel",
            "_view_module": "@jupyter-widgets/controls",
            "_model_module_version": "1.5.0",
            "_view_count": null,
            "_view_module_version": "1.5.0",
            "box_style": "",
            "layout": "IPY_MODEL_9acfb19776d64edfb5ad5952d4f0265d",
            "_model_module": "@jupyter-widgets/controls",
            "children": [
              "IPY_MODEL_6a43d5d4ce8748b2af27f90e4ba600cd",
              "IPY_MODEL_63b2273fa2964685904b031a83d8d7ee"
            ]
          }
        },
        "9acfb19776d64edfb5ad5952d4f0265d": {
          "model_module": "@jupyter-widgets/base",
          "model_name": "LayoutModel",
          "state": {
            "_view_name": "LayoutView",
            "grid_template_rows": null,
            "right": null,
            "justify_content": null,
            "_view_module": "@jupyter-widgets/base",
            "overflow": null,
            "_model_module_version": "1.2.0",
            "_view_count": null,
            "flex_flow": null,
            "width": null,
            "min_width": null,
            "border": null,
            "align_items": null,
            "bottom": null,
            "_model_module": "@jupyter-widgets/base",
            "top": null,
            "grid_column": null,
            "overflow_y": null,
            "overflow_x": null,
            "grid_auto_flow": null,
            "grid_area": null,
            "grid_template_columns": null,
            "flex": null,
            "_model_name": "LayoutModel",
            "justify_items": null,
            "grid_row": null,
            "max_height": null,
            "align_content": null,
            "visibility": null,
            "align_self": null,
            "height": null,
            "min_height": null,
            "padding": null,
            "grid_auto_rows": null,
            "grid_gap": null,
            "max_width": null,
            "order": null,
            "_view_module_version": "1.2.0",
            "grid_template_areas": null,
            "object_position": null,
            "object_fit": null,
            "grid_auto_columns": null,
            "margin": null,
            "display": null,
            "left": null
          }
        },
        "6a43d5d4ce8748b2af27f90e4ba600cd": {
          "model_module": "@jupyter-widgets/controls",
          "model_name": "IntProgressModel",
          "state": {
            "_view_name": "ProgressView",
            "style": "IPY_MODEL_c9064ce10e294a6a840d2d56dbea213f",
            "_dom_classes": [],
            "description": "Downloading",
            "_model_name": "IntProgressModel",
            "bar_style": "success",
            "max": 501200538,
            "_view_module": "@jupyter-widgets/controls",
            "_model_module_version": "1.5.0",
            "value": 501200538,
            "_view_count": null,
            "_view_module_version": "1.5.0",
            "orientation": "horizontal",
            "min": 0,
            "description_tooltip": null,
            "_model_module": "@jupyter-widgets/controls",
            "layout": "IPY_MODEL_a4189fffdd0a4d18940468d4844fec7a"
          }
        },
        "63b2273fa2964685904b031a83d8d7ee": {
          "model_module": "@jupyter-widgets/controls",
          "model_name": "HTMLModel",
          "state": {
            "_view_name": "HTMLView",
            "style": "IPY_MODEL_a6023971a1e342eba031078c8a5e96a3",
            "_dom_classes": [],
            "description": "",
            "_model_name": "HTMLModel",
            "placeholder": "​",
            "_view_module": "@jupyter-widgets/controls",
            "_model_module_version": "1.5.0",
            "value": "100% 501M/501M [00:44&lt;00:00, 11.2MB/s]",
            "_view_count": null,
            "_view_module_version": "1.5.0",
            "description_tooltip": null,
            "_model_module": "@jupyter-widgets/controls",
            "layout": "IPY_MODEL_8ddc84c734344c67b2b7d4ea273fdc26"
          }
        },
        "c9064ce10e294a6a840d2d56dbea213f": {
          "model_module": "@jupyter-widgets/controls",
          "model_name": "ProgressStyleModel",
          "state": {
            "_view_name": "StyleView",
            "_model_name": "ProgressStyleModel",
            "description_width": "initial",
            "_view_module": "@jupyter-widgets/base",
            "_model_module_version": "1.5.0",
            "_view_count": null,
            "_view_module_version": "1.2.0",
            "bar_color": null,
            "_model_module": "@jupyter-widgets/controls"
          }
        },
        "a4189fffdd0a4d18940468d4844fec7a": {
          "model_module": "@jupyter-widgets/base",
          "model_name": "LayoutModel",
          "state": {
            "_view_name": "LayoutView",
            "grid_template_rows": null,
            "right": null,
            "justify_content": null,
            "_view_module": "@jupyter-widgets/base",
            "overflow": null,
            "_model_module_version": "1.2.0",
            "_view_count": null,
            "flex_flow": null,
            "width": null,
            "min_width": null,
            "border": null,
            "align_items": null,
            "bottom": null,
            "_model_module": "@jupyter-widgets/base",
            "top": null,
            "grid_column": null,
            "overflow_y": null,
            "overflow_x": null,
            "grid_auto_flow": null,
            "grid_area": null,
            "grid_template_columns": null,
            "flex": null,
            "_model_name": "LayoutModel",
            "justify_items": null,
            "grid_row": null,
            "max_height": null,
            "align_content": null,
            "visibility": null,
            "align_self": null,
            "height": null,
            "min_height": null,
            "padding": null,
            "grid_auto_rows": null,
            "grid_gap": null,
            "max_width": null,
            "order": null,
            "_view_module_version": "1.2.0",
            "grid_template_areas": null,
            "object_position": null,
            "object_fit": null,
            "grid_auto_columns": null,
            "margin": null,
            "display": null,
            "left": null
          }
        },
        "a6023971a1e342eba031078c8a5e96a3": {
          "model_module": "@jupyter-widgets/controls",
          "model_name": "DescriptionStyleModel",
          "state": {
            "_view_name": "StyleView",
            "_model_name": "DescriptionStyleModel",
            "description_width": "",
            "_view_module": "@jupyter-widgets/base",
            "_model_module_version": "1.5.0",
            "_view_count": null,
            "_view_module_version": "1.2.0",
            "_model_module": "@jupyter-widgets/controls"
          }
        },
        "8ddc84c734344c67b2b7d4ea273fdc26": {
          "model_module": "@jupyter-widgets/base",
          "model_name": "LayoutModel",
          "state": {
            "_view_name": "LayoutView",
            "grid_template_rows": null,
            "right": null,
            "justify_content": null,
            "_view_module": "@jupyter-widgets/base",
            "overflow": null,
            "_model_module_version": "1.2.0",
            "_view_count": null,
            "flex_flow": null,
            "width": null,
            "min_width": null,
            "border": null,
            "align_items": null,
            "bottom": null,
            "_model_module": "@jupyter-widgets/base",
            "top": null,
            "grid_column": null,
            "overflow_y": null,
            "overflow_x": null,
            "grid_auto_flow": null,
            "grid_area": null,
            "grid_template_columns": null,
            "flex": null,
            "_model_name": "LayoutModel",
            "justify_items": null,
            "grid_row": null,
            "max_height": null,
            "align_content": null,
            "visibility": null,
            "align_self": null,
            "height": null,
            "min_height": null,
            "padding": null,
            "grid_auto_rows": null,
            "grid_gap": null,
            "max_width": null,
            "order": null,
            "_view_module_version": "1.2.0",
            "grid_template_areas": null,
            "object_position": null,
            "object_fit": null,
            "grid_auto_columns": null,
            "margin": null,
            "display": null,
            "left": null
          }
        },
        "46cd239c31c54f7a875d7fcdb20793fd": {
          "model_module": "@jupyter-widgets/controls",
          "model_name": "HBoxModel",
          "state": {
            "_view_name": "HBoxView",
            "_dom_classes": [],
            "_model_name": "HBoxModel",
            "_view_module": "@jupyter-widgets/controls",
            "_model_module_version": "1.5.0",
            "_view_count": null,
            "_view_module_version": "1.5.0",
            "box_style": "",
            "layout": "IPY_MODEL_268350f20f30433699c77fc67d70c737",
            "_model_module": "@jupyter-widgets/controls",
            "children": [
              "IPY_MODEL_7c20c03585604549805bcdf106246845",
              "IPY_MODEL_c1affec57346458c8e2b5143a3dfdc04"
            ]
          }
        },
        "268350f20f30433699c77fc67d70c737": {
          "model_module": "@jupyter-widgets/base",
          "model_name": "LayoutModel",
          "state": {
            "_view_name": "LayoutView",
            "grid_template_rows": null,
            "right": null,
            "justify_content": null,
            "_view_module": "@jupyter-widgets/base",
            "overflow": null,
            "_model_module_version": "1.2.0",
            "_view_count": null,
            "flex_flow": null,
            "width": null,
            "min_width": null,
            "border": null,
            "align_items": null,
            "bottom": null,
            "_model_module": "@jupyter-widgets/base",
            "top": null,
            "grid_column": null,
            "overflow_y": null,
            "overflow_x": null,
            "grid_auto_flow": null,
            "grid_area": null,
            "grid_template_columns": null,
            "flex": null,
            "_model_name": "LayoutModel",
            "justify_items": null,
            "grid_row": null,
            "max_height": null,
            "align_content": null,
            "visibility": null,
            "align_self": null,
            "height": null,
            "min_height": null,
            "padding": null,
            "grid_auto_rows": null,
            "grid_gap": null,
            "max_width": null,
            "order": null,
            "_view_module_version": "1.2.0",
            "grid_template_areas": null,
            "object_position": null,
            "object_fit": null,
            "grid_auto_columns": null,
            "margin": null,
            "display": null,
            "left": null
          }
        },
        "7c20c03585604549805bcdf106246845": {
          "model_module": "@jupyter-widgets/controls",
          "model_name": "IntProgressModel",
          "state": {
            "_view_name": "ProgressView",
            "style": "IPY_MODEL_efd31b50b2f745ef9e7a2d5806ae8293",
            "_dom_classes": [],
            "description": "Downloading",
            "_model_name": "IntProgressModel",
            "bar_style": "success",
            "max": 898823,
            "_view_module": "@jupyter-widgets/controls",
            "_model_module_version": "1.5.0",
            "value": 898823,
            "_view_count": null,
            "_view_module_version": "1.5.0",
            "orientation": "horizontal",
            "min": 0,
            "description_tooltip": null,
            "_model_module": "@jupyter-widgets/controls",
            "layout": "IPY_MODEL_b4dc1108fe1e4b34b38fc837ec1755ff"
          }
        },
        "c1affec57346458c8e2b5143a3dfdc04": {
          "model_module": "@jupyter-widgets/controls",
          "model_name": "HTMLModel",
          "state": {
            "_view_name": "HTMLView",
            "style": "IPY_MODEL_825bb9ca60cb4b348263aaeab803f467",
            "_dom_classes": [],
            "description": "",
            "_model_name": "HTMLModel",
            "placeholder": "​",
            "_view_module": "@jupyter-widgets/controls",
            "_model_module_version": "1.5.0",
            "value": "100% 899k/899k [00:01&lt;00:00, 827kB/s]",
            "_view_count": null,
            "_view_module_version": "1.5.0",
            "description_tooltip": null,
            "_model_module": "@jupyter-widgets/controls",
            "layout": "IPY_MODEL_cfc1ed2c842c46c7a24b06f531fd63c3"
          }
        },
        "efd31b50b2f745ef9e7a2d5806ae8293": {
          "model_module": "@jupyter-widgets/controls",
          "model_name": "ProgressStyleModel",
          "state": {
            "_view_name": "StyleView",
            "_model_name": "ProgressStyleModel",
            "description_width": "initial",
            "_view_module": "@jupyter-widgets/base",
            "_model_module_version": "1.5.0",
            "_view_count": null,
            "_view_module_version": "1.2.0",
            "bar_color": null,
            "_model_module": "@jupyter-widgets/controls"
          }
        },
        "b4dc1108fe1e4b34b38fc837ec1755ff": {
          "model_module": "@jupyter-widgets/base",
          "model_name": "LayoutModel",
          "state": {
            "_view_name": "LayoutView",
            "grid_template_rows": null,
            "right": null,
            "justify_content": null,
            "_view_module": "@jupyter-widgets/base",
            "overflow": null,
            "_model_module_version": "1.2.0",
            "_view_count": null,
            "flex_flow": null,
            "width": null,
            "min_width": null,
            "border": null,
            "align_items": null,
            "bottom": null,
            "_model_module": "@jupyter-widgets/base",
            "top": null,
            "grid_column": null,
            "overflow_y": null,
            "overflow_x": null,
            "grid_auto_flow": null,
            "grid_area": null,
            "grid_template_columns": null,
            "flex": null,
            "_model_name": "LayoutModel",
            "justify_items": null,
            "grid_row": null,
            "max_height": null,
            "align_content": null,
            "visibility": null,
            "align_self": null,
            "height": null,
            "min_height": null,
            "padding": null,
            "grid_auto_rows": null,
            "grid_gap": null,
            "max_width": null,
            "order": null,
            "_view_module_version": "1.2.0",
            "grid_template_areas": null,
            "object_position": null,
            "object_fit": null,
            "grid_auto_columns": null,
            "margin": null,
            "display": null,
            "left": null
          }
        },
        "825bb9ca60cb4b348263aaeab803f467": {
          "model_module": "@jupyter-widgets/controls",
          "model_name": "DescriptionStyleModel",
          "state": {
            "_view_name": "StyleView",
            "_model_name": "DescriptionStyleModel",
            "description_width": "",
            "_view_module": "@jupyter-widgets/base",
            "_model_module_version": "1.5.0",
            "_view_count": null,
            "_view_module_version": "1.2.0",
            "_model_module": "@jupyter-widgets/controls"
          }
        },
        "cfc1ed2c842c46c7a24b06f531fd63c3": {
          "model_module": "@jupyter-widgets/base",
          "model_name": "LayoutModel",
          "state": {
            "_view_name": "LayoutView",
            "grid_template_rows": null,
            "right": null,
            "justify_content": null,
            "_view_module": "@jupyter-widgets/base",
            "overflow": null,
            "_model_module_version": "1.2.0",
            "_view_count": null,
            "flex_flow": null,
            "width": null,
            "min_width": null,
            "border": null,
            "align_items": null,
            "bottom": null,
            "_model_module": "@jupyter-widgets/base",
            "top": null,
            "grid_column": null,
            "overflow_y": null,
            "overflow_x": null,
            "grid_auto_flow": null,
            "grid_area": null,
            "grid_template_columns": null,
            "flex": null,
            "_model_name": "LayoutModel",
            "justify_items": null,
            "grid_row": null,
            "max_height": null,
            "align_content": null,
            "visibility": null,
            "align_self": null,
            "height": null,
            "min_height": null,
            "padding": null,
            "grid_auto_rows": null,
            "grid_gap": null,
            "max_width": null,
            "order": null,
            "_view_module_version": "1.2.0",
            "grid_template_areas": null,
            "object_position": null,
            "object_fit": null,
            "grid_auto_columns": null,
            "margin": null,
            "display": null,
            "left": null
          }
        },
        "3c29f15feb2947fe81e52c769ede1ca9": {
          "model_module": "@jupyter-widgets/controls",
          "model_name": "HBoxModel",
          "state": {
            "_view_name": "HBoxView",
            "_dom_classes": [],
            "_model_name": "HBoxModel",
            "_view_module": "@jupyter-widgets/controls",
            "_model_module_version": "1.5.0",
            "_view_count": null,
            "_view_module_version": "1.5.0",
            "box_style": "",
            "layout": "IPY_MODEL_befcf89bd41048838900bec053e224c4",
            "_model_module": "@jupyter-widgets/controls",
            "children": [
              "IPY_MODEL_0a8860edea434a66b295ea946db71dc8",
              "IPY_MODEL_902b3dc64aef4548bb05828c196bc232"
            ]
          }
        },
        "befcf89bd41048838900bec053e224c4": {
          "model_module": "@jupyter-widgets/base",
          "model_name": "LayoutModel",
          "state": {
            "_view_name": "LayoutView",
            "grid_template_rows": null,
            "right": null,
            "justify_content": null,
            "_view_module": "@jupyter-widgets/base",
            "overflow": null,
            "_model_module_version": "1.2.0",
            "_view_count": null,
            "flex_flow": null,
            "width": null,
            "min_width": null,
            "border": null,
            "align_items": null,
            "bottom": null,
            "_model_module": "@jupyter-widgets/base",
            "top": null,
            "grid_column": null,
            "overflow_y": null,
            "overflow_x": null,
            "grid_auto_flow": null,
            "grid_area": null,
            "grid_template_columns": null,
            "flex": null,
            "_model_name": "LayoutModel",
            "justify_items": null,
            "grid_row": null,
            "max_height": null,
            "align_content": null,
            "visibility": null,
            "align_self": null,
            "height": null,
            "min_height": null,
            "padding": null,
            "grid_auto_rows": null,
            "grid_gap": null,
            "max_width": null,
            "order": null,
            "_view_module_version": "1.2.0",
            "grid_template_areas": null,
            "object_position": null,
            "object_fit": null,
            "grid_auto_columns": null,
            "margin": null,
            "display": null,
            "left": null
          }
        },
        "0a8860edea434a66b295ea946db71dc8": {
          "model_module": "@jupyter-widgets/controls",
          "model_name": "IntProgressModel",
          "state": {
            "_view_name": "ProgressView",
            "style": "IPY_MODEL_6d4e4c1166284d1ea082f8e4c908ff8a",
            "_dom_classes": [],
            "description": "Downloading",
            "_model_name": "IntProgressModel",
            "bar_style": "success",
            "max": 456318,
            "_view_module": "@jupyter-widgets/controls",
            "_model_module_version": "1.5.0",
            "value": 456318,
            "_view_count": null,
            "_view_module_version": "1.5.0",
            "orientation": "horizontal",
            "min": 0,
            "description_tooltip": null,
            "_model_module": "@jupyter-widgets/controls",
            "layout": "IPY_MODEL_b81f3e2fe8bc41e89537660f20e30322"
          }
        },
        "902b3dc64aef4548bb05828c196bc232": {
          "model_module": "@jupyter-widgets/controls",
          "model_name": "HTMLModel",
          "state": {
            "_view_name": "HTMLView",
            "style": "IPY_MODEL_3c35bd991c7f41499bdff4c6b208bd8c",
            "_dom_classes": [],
            "description": "",
            "_model_name": "HTMLModel",
            "placeholder": "​",
            "_view_module": "@jupyter-widgets/controls",
            "_model_module_version": "1.5.0",
            "value": "100% 456k/456k [00:00&lt;00:00, 504kB/s]",
            "_view_count": null,
            "_view_module_version": "1.5.0",
            "description_tooltip": null,
            "_model_module": "@jupyter-widgets/controls",
            "layout": "IPY_MODEL_75ae524108d5444ba79c170812c7e215"
          }
        },
        "6d4e4c1166284d1ea082f8e4c908ff8a": {
          "model_module": "@jupyter-widgets/controls",
          "model_name": "ProgressStyleModel",
          "state": {
            "_view_name": "StyleView",
            "_model_name": "ProgressStyleModel",
            "description_width": "initial",
            "_view_module": "@jupyter-widgets/base",
            "_model_module_version": "1.5.0",
            "_view_count": null,
            "_view_module_version": "1.2.0",
            "bar_color": null,
            "_model_module": "@jupyter-widgets/controls"
          }
        },
        "b81f3e2fe8bc41e89537660f20e30322": {
          "model_module": "@jupyter-widgets/base",
          "model_name": "LayoutModel",
          "state": {
            "_view_name": "LayoutView",
            "grid_template_rows": null,
            "right": null,
            "justify_content": null,
            "_view_module": "@jupyter-widgets/base",
            "overflow": null,
            "_model_module_version": "1.2.0",
            "_view_count": null,
            "flex_flow": null,
            "width": null,
            "min_width": null,
            "border": null,
            "align_items": null,
            "bottom": null,
            "_model_module": "@jupyter-widgets/base",
            "top": null,
            "grid_column": null,
            "overflow_y": null,
            "overflow_x": null,
            "grid_auto_flow": null,
            "grid_area": null,
            "grid_template_columns": null,
            "flex": null,
            "_model_name": "LayoutModel",
            "justify_items": null,
            "grid_row": null,
            "max_height": null,
            "align_content": null,
            "visibility": null,
            "align_self": null,
            "height": null,
            "min_height": null,
            "padding": null,
            "grid_auto_rows": null,
            "grid_gap": null,
            "max_width": null,
            "order": null,
            "_view_module_version": "1.2.0",
            "grid_template_areas": null,
            "object_position": null,
            "object_fit": null,
            "grid_auto_columns": null,
            "margin": null,
            "display": null,
            "left": null
          }
        },
        "3c35bd991c7f41499bdff4c6b208bd8c": {
          "model_module": "@jupyter-widgets/controls",
          "model_name": "DescriptionStyleModel",
          "state": {
            "_view_name": "StyleView",
            "_model_name": "DescriptionStyleModel",
            "description_width": "",
            "_view_module": "@jupyter-widgets/base",
            "_model_module_version": "1.5.0",
            "_view_count": null,
            "_view_module_version": "1.2.0",
            "_model_module": "@jupyter-widgets/controls"
          }
        },
        "75ae524108d5444ba79c170812c7e215": {
          "model_module": "@jupyter-widgets/base",
          "model_name": "LayoutModel",
          "state": {
            "_view_name": "LayoutView",
            "grid_template_rows": null,
            "right": null,
            "justify_content": null,
            "_view_module": "@jupyter-widgets/base",
            "overflow": null,
            "_model_module_version": "1.2.0",
            "_view_count": null,
            "flex_flow": null,
            "width": null,
            "min_width": null,
            "border": null,
            "align_items": null,
            "bottom": null,
            "_model_module": "@jupyter-widgets/base",
            "top": null,
            "grid_column": null,
            "overflow_y": null,
            "overflow_x": null,
            "grid_auto_flow": null,
            "grid_area": null,
            "grid_template_columns": null,
            "flex": null,
            "_model_name": "LayoutModel",
            "justify_items": null,
            "grid_row": null,
            "max_height": null,
            "align_content": null,
            "visibility": null,
            "align_self": null,
            "height": null,
            "min_height": null,
            "padding": null,
            "grid_auto_rows": null,
            "grid_gap": null,
            "max_width": null,
            "order": null,
            "_view_module_version": "1.2.0",
            "grid_template_areas": null,
            "object_position": null,
            "object_fit": null,
            "grid_auto_columns": null,
            "margin": null,
            "display": null,
            "left": null
          }
        },
        "38de734c303f424680728a6906058848": {
          "model_module": "@jupyter-widgets/controls",
          "model_name": "HBoxModel",
          "state": {
            "_view_name": "HBoxView",
            "_dom_classes": [],
            "_model_name": "HBoxModel",
            "_view_module": "@jupyter-widgets/controls",
            "_model_module_version": "1.5.0",
            "_view_count": null,
            "_view_module_version": "1.5.0",
            "box_style": "",
            "layout": "IPY_MODEL_471bbece28f845e09819083810d98a7a",
            "_model_module": "@jupyter-widgets/controls",
            "children": [
              "IPY_MODEL_d8e2c93f5e6c4f429131d05061266c4b",
              "IPY_MODEL_0a1c2d7eb6284f5ab7dce8d3b2a5c1b5"
            ]
          }
        },
        "471bbece28f845e09819083810d98a7a": {
          "model_module": "@jupyter-widgets/base",
          "model_name": "LayoutModel",
          "state": {
            "_view_name": "LayoutView",
            "grid_template_rows": null,
            "right": null,
            "justify_content": null,
            "_view_module": "@jupyter-widgets/base",
            "overflow": null,
            "_model_module_version": "1.2.0",
            "_view_count": null,
            "flex_flow": null,
            "width": null,
            "min_width": null,
            "border": null,
            "align_items": null,
            "bottom": null,
            "_model_module": "@jupyter-widgets/base",
            "top": null,
            "grid_column": null,
            "overflow_y": null,
            "overflow_x": null,
            "grid_auto_flow": null,
            "grid_area": null,
            "grid_template_columns": null,
            "flex": null,
            "_model_name": "LayoutModel",
            "justify_items": null,
            "grid_row": null,
            "max_height": null,
            "align_content": null,
            "visibility": null,
            "align_self": null,
            "height": null,
            "min_height": null,
            "padding": null,
            "grid_auto_rows": null,
            "grid_gap": null,
            "max_width": null,
            "order": null,
            "_view_module_version": "1.2.0",
            "grid_template_areas": null,
            "object_position": null,
            "object_fit": null,
            "grid_auto_columns": null,
            "margin": null,
            "display": null,
            "left": null
          }
        },
        "d8e2c93f5e6c4f429131d05061266c4b": {
          "model_module": "@jupyter-widgets/controls",
          "model_name": "IntProgressModel",
          "state": {
            "_view_name": "ProgressView",
            "style": "IPY_MODEL_e5ec5dbfef6f4e6f82d479633297ca88",
            "_dom_classes": [],
            "description": "",
            "_model_name": "IntProgressModel",
            "bar_style": "success",
            "max": 670,
            "_view_module": "@jupyter-widgets/controls",
            "_model_module_version": "1.5.0",
            "value": 670,
            "_view_count": null,
            "_view_module_version": "1.5.0",
            "orientation": "horizontal",
            "min": 0,
            "description_tooltip": null,
            "_model_module": "@jupyter-widgets/controls",
            "layout": "IPY_MODEL_68fbc9ed644d4f3c9333265a3b6c589e"
          }
        },
        "0a1c2d7eb6284f5ab7dce8d3b2a5c1b5": {
          "model_module": "@jupyter-widgets/controls",
          "model_name": "HTMLModel",
          "state": {
            "_view_name": "HTMLView",
            "style": "IPY_MODEL_e26f268f2b534f42bec315d8a7603f0f",
            "_dom_classes": [],
            "description": "",
            "_model_name": "HTMLModel",
            "placeholder": "​",
            "_view_module": "@jupyter-widgets/controls",
            "_model_module_version": "1.5.0",
            "value": "100% 670/670 [00:00&lt;00:00, 752.32it/s]",
            "_view_count": null,
            "_view_module_version": "1.5.0",
            "description_tooltip": null,
            "_model_module": "@jupyter-widgets/controls",
            "layout": "IPY_MODEL_c7560bc05df84e8b995d8d34ce262881"
          }
        },
        "e5ec5dbfef6f4e6f82d479633297ca88": {
          "model_module": "@jupyter-widgets/controls",
          "model_name": "ProgressStyleModel",
          "state": {
            "_view_name": "StyleView",
            "_model_name": "ProgressStyleModel",
            "description_width": "",
            "_view_module": "@jupyter-widgets/base",
            "_model_module_version": "1.5.0",
            "_view_count": null,
            "_view_module_version": "1.2.0",
            "bar_color": null,
            "_model_module": "@jupyter-widgets/controls"
          }
        },
        "68fbc9ed644d4f3c9333265a3b6c589e": {
          "model_module": "@jupyter-widgets/base",
          "model_name": "LayoutModel",
          "state": {
            "_view_name": "LayoutView",
            "grid_template_rows": null,
            "right": null,
            "justify_content": null,
            "_view_module": "@jupyter-widgets/base",
            "overflow": null,
            "_model_module_version": "1.2.0",
            "_view_count": null,
            "flex_flow": null,
            "width": null,
            "min_width": null,
            "border": null,
            "align_items": null,
            "bottom": null,
            "_model_module": "@jupyter-widgets/base",
            "top": null,
            "grid_column": null,
            "overflow_y": null,
            "overflow_x": null,
            "grid_auto_flow": null,
            "grid_area": null,
            "grid_template_columns": null,
            "flex": null,
            "_model_name": "LayoutModel",
            "justify_items": null,
            "grid_row": null,
            "max_height": null,
            "align_content": null,
            "visibility": null,
            "align_self": null,
            "height": null,
            "min_height": null,
            "padding": null,
            "grid_auto_rows": null,
            "grid_gap": null,
            "max_width": null,
            "order": null,
            "_view_module_version": "1.2.0",
            "grid_template_areas": null,
            "object_position": null,
            "object_fit": null,
            "grid_auto_columns": null,
            "margin": null,
            "display": null,
            "left": null
          }
        },
        "e26f268f2b534f42bec315d8a7603f0f": {
          "model_module": "@jupyter-widgets/controls",
          "model_name": "DescriptionStyleModel",
          "state": {
            "_view_name": "StyleView",
            "_model_name": "DescriptionStyleModel",
            "description_width": "",
            "_view_module": "@jupyter-widgets/base",
            "_model_module_version": "1.5.0",
            "_view_count": null,
            "_view_module_version": "1.2.0",
            "_model_module": "@jupyter-widgets/controls"
          }
        },
        "c7560bc05df84e8b995d8d34ce262881": {
          "model_module": "@jupyter-widgets/base",
          "model_name": "LayoutModel",
          "state": {
            "_view_name": "LayoutView",
            "grid_template_rows": null,
            "right": null,
            "justify_content": null,
            "_view_module": "@jupyter-widgets/base",
            "overflow": null,
            "_model_module_version": "1.2.0",
            "_view_count": null,
            "flex_flow": null,
            "width": null,
            "min_width": null,
            "border": null,
            "align_items": null,
            "bottom": null,
            "_model_module": "@jupyter-widgets/base",
            "top": null,
            "grid_column": null,
            "overflow_y": null,
            "overflow_x": null,
            "grid_auto_flow": null,
            "grid_area": null,
            "grid_template_columns": null,
            "flex": null,
            "_model_name": "LayoutModel",
            "justify_items": null,
            "grid_row": null,
            "max_height": null,
            "align_content": null,
            "visibility": null,
            "align_self": null,
            "height": null,
            "min_height": null,
            "padding": null,
            "grid_auto_rows": null,
            "grid_gap": null,
            "max_width": null,
            "order": null,
            "_view_module_version": "1.2.0",
            "grid_template_areas": null,
            "object_position": null,
            "object_fit": null,
            "grid_auto_columns": null,
            "margin": null,
            "display": null,
            "left": null
          }
        },
        "0051814f3b964b91aaa375e332e41ade": {
          "model_module": "@jupyter-widgets/controls",
          "model_name": "HBoxModel",
          "state": {
            "_view_name": "HBoxView",
            "_dom_classes": [],
            "_model_name": "HBoxModel",
            "_view_module": "@jupyter-widgets/controls",
            "_model_module_version": "1.5.0",
            "_view_count": null,
            "_view_module_version": "1.5.0",
            "box_style": "",
            "layout": "IPY_MODEL_b0091cc2837c41e1b4597291144a2bc8",
            "_model_module": "@jupyter-widgets/controls",
            "children": [
              "IPY_MODEL_cc72e42abb8f4bb9b4daddcc276cef0d",
              "IPY_MODEL_7db7d0a0ddff46808a5f7a1b76eb3bbb"
            ]
          }
        },
        "b0091cc2837c41e1b4597291144a2bc8": {
          "model_module": "@jupyter-widgets/base",
          "model_name": "LayoutModel",
          "state": {
            "_view_name": "LayoutView",
            "grid_template_rows": null,
            "right": null,
            "justify_content": null,
            "_view_module": "@jupyter-widgets/base",
            "overflow": null,
            "_model_module_version": "1.2.0",
            "_view_count": null,
            "flex_flow": null,
            "width": null,
            "min_width": null,
            "border": null,
            "align_items": null,
            "bottom": null,
            "_model_module": "@jupyter-widgets/base",
            "top": null,
            "grid_column": null,
            "overflow_y": null,
            "overflow_x": null,
            "grid_auto_flow": null,
            "grid_area": null,
            "grid_template_columns": null,
            "flex": null,
            "_model_name": "LayoutModel",
            "justify_items": null,
            "grid_row": null,
            "max_height": null,
            "align_content": null,
            "visibility": null,
            "align_self": null,
            "height": null,
            "min_height": null,
            "padding": null,
            "grid_auto_rows": null,
            "grid_gap": null,
            "max_width": null,
            "order": null,
            "_view_module_version": "1.2.0",
            "grid_template_areas": null,
            "object_position": null,
            "object_fit": null,
            "grid_auto_columns": null,
            "margin": null,
            "display": null,
            "left": null
          }
        },
        "cc72e42abb8f4bb9b4daddcc276cef0d": {
          "model_module": "@jupyter-widgets/controls",
          "model_name": "IntProgressModel",
          "state": {
            "_view_name": "ProgressView",
            "style": "IPY_MODEL_a8c743cdb5db42d2833015ffbe42c8cd",
            "_dom_classes": [],
            "description": "Epoch",
            "_model_name": "IntProgressModel",
            "bar_style": "success",
            "max": 3,
            "_view_module": "@jupyter-widgets/controls",
            "_model_module_version": "1.5.0",
            "value": 3,
            "_view_count": null,
            "_view_module_version": "1.5.0",
            "orientation": "horizontal",
            "min": 0,
            "description_tooltip": null,
            "_model_module": "@jupyter-widgets/controls",
            "layout": "IPY_MODEL_a496726918ac4059aca8aa265cc479cc"
          }
        },
        "7db7d0a0ddff46808a5f7a1b76eb3bbb": {
          "model_module": "@jupyter-widgets/controls",
          "model_name": "HTMLModel",
          "state": {
            "_view_name": "HTMLView",
            "style": "IPY_MODEL_93289f23b7ef41429570d17383c59d70",
            "_dom_classes": [],
            "description": "",
            "_model_name": "HTMLModel",
            "placeholder": "​",
            "_view_module": "@jupyter-widgets/controls",
            "_model_module_version": "1.5.0",
            "value": "100% 3/3 [08:27&lt;00:00, 169.21s/it]",
            "_view_count": null,
            "_view_module_version": "1.5.0",
            "description_tooltip": null,
            "_model_module": "@jupyter-widgets/controls",
            "layout": "IPY_MODEL_ab45960c29c7449cb4647de2c04cea62"
          }
        },
        "a8c743cdb5db42d2833015ffbe42c8cd": {
          "model_module": "@jupyter-widgets/controls",
          "model_name": "ProgressStyleModel",
          "state": {
            "_view_name": "StyleView",
            "_model_name": "ProgressStyleModel",
            "description_width": "initial",
            "_view_module": "@jupyter-widgets/base",
            "_model_module_version": "1.5.0",
            "_view_count": null,
            "_view_module_version": "1.2.0",
            "bar_color": null,
            "_model_module": "@jupyter-widgets/controls"
          }
        },
        "a496726918ac4059aca8aa265cc479cc": {
          "model_module": "@jupyter-widgets/base",
          "model_name": "LayoutModel",
          "state": {
            "_view_name": "LayoutView",
            "grid_template_rows": null,
            "right": null,
            "justify_content": null,
            "_view_module": "@jupyter-widgets/base",
            "overflow": null,
            "_model_module_version": "1.2.0",
            "_view_count": null,
            "flex_flow": null,
            "width": null,
            "min_width": null,
            "border": null,
            "align_items": null,
            "bottom": null,
            "_model_module": "@jupyter-widgets/base",
            "top": null,
            "grid_column": null,
            "overflow_y": null,
            "overflow_x": null,
            "grid_auto_flow": null,
            "grid_area": null,
            "grid_template_columns": null,
            "flex": null,
            "_model_name": "LayoutModel",
            "justify_items": null,
            "grid_row": null,
            "max_height": null,
            "align_content": null,
            "visibility": null,
            "align_self": null,
            "height": null,
            "min_height": null,
            "padding": null,
            "grid_auto_rows": null,
            "grid_gap": null,
            "max_width": null,
            "order": null,
            "_view_module_version": "1.2.0",
            "grid_template_areas": null,
            "object_position": null,
            "object_fit": null,
            "grid_auto_columns": null,
            "margin": null,
            "display": null,
            "left": null
          }
        },
        "93289f23b7ef41429570d17383c59d70": {
          "model_module": "@jupyter-widgets/controls",
          "model_name": "DescriptionStyleModel",
          "state": {
            "_view_name": "StyleView",
            "_model_name": "DescriptionStyleModel",
            "description_width": "",
            "_view_module": "@jupyter-widgets/base",
            "_model_module_version": "1.5.0",
            "_view_count": null,
            "_view_module_version": "1.2.0",
            "_model_module": "@jupyter-widgets/controls"
          }
        },
        "ab45960c29c7449cb4647de2c04cea62": {
          "model_module": "@jupyter-widgets/base",
          "model_name": "LayoutModel",
          "state": {
            "_view_name": "LayoutView",
            "grid_template_rows": null,
            "right": null,
            "justify_content": null,
            "_view_module": "@jupyter-widgets/base",
            "overflow": null,
            "_model_module_version": "1.2.0",
            "_view_count": null,
            "flex_flow": null,
            "width": null,
            "min_width": null,
            "border": null,
            "align_items": null,
            "bottom": null,
            "_model_module": "@jupyter-widgets/base",
            "top": null,
            "grid_column": null,
            "overflow_y": null,
            "overflow_x": null,
            "grid_auto_flow": null,
            "grid_area": null,
            "grid_template_columns": null,
            "flex": null,
            "_model_name": "LayoutModel",
            "justify_items": null,
            "grid_row": null,
            "max_height": null,
            "align_content": null,
            "visibility": null,
            "align_self": null,
            "height": null,
            "min_height": null,
            "padding": null,
            "grid_auto_rows": null,
            "grid_gap": null,
            "max_width": null,
            "order": null,
            "_view_module_version": "1.2.0",
            "grid_template_areas": null,
            "object_position": null,
            "object_fit": null,
            "grid_auto_columns": null,
            "margin": null,
            "display": null,
            "left": null
          }
        },
        "bae2c99d262445f18c8a24cdf1919430": {
          "model_module": "@jupyter-widgets/controls",
          "model_name": "HBoxModel",
          "state": {
            "_view_name": "HBoxView",
            "_dom_classes": [],
            "_model_name": "HBoxModel",
            "_view_module": "@jupyter-widgets/controls",
            "_model_module_version": "1.5.0",
            "_view_count": null,
            "_view_module_version": "1.5.0",
            "box_style": "",
            "layout": "IPY_MODEL_9877345a50db4ca4aefad5fac2483229",
            "_model_module": "@jupyter-widgets/controls",
            "children": [
              "IPY_MODEL_a125b64c7d3444a7a72a301c8f07b095",
              "IPY_MODEL_17005a1a66e64fb4beb5d82eecb17e90"
            ]
          }
        },
        "9877345a50db4ca4aefad5fac2483229": {
          "model_module": "@jupyter-widgets/base",
          "model_name": "LayoutModel",
          "state": {
            "_view_name": "LayoutView",
            "grid_template_rows": null,
            "right": null,
            "justify_content": null,
            "_view_module": "@jupyter-widgets/base",
            "overflow": null,
            "_model_module_version": "1.2.0",
            "_view_count": null,
            "flex_flow": null,
            "width": null,
            "min_width": null,
            "border": null,
            "align_items": null,
            "bottom": null,
            "_model_module": "@jupyter-widgets/base",
            "top": null,
            "grid_column": null,
            "overflow_y": null,
            "overflow_x": null,
            "grid_auto_flow": null,
            "grid_area": null,
            "grid_template_columns": null,
            "flex": null,
            "_model_name": "LayoutModel",
            "justify_items": null,
            "grid_row": null,
            "max_height": null,
            "align_content": null,
            "visibility": null,
            "align_self": null,
            "height": null,
            "min_height": null,
            "padding": null,
            "grid_auto_rows": null,
            "grid_gap": null,
            "max_width": null,
            "order": null,
            "_view_module_version": "1.2.0",
            "grid_template_areas": null,
            "object_position": null,
            "object_fit": null,
            "grid_auto_columns": null,
            "margin": null,
            "display": null,
            "left": null
          }
        },
        "a125b64c7d3444a7a72a301c8f07b095": {
          "model_module": "@jupyter-widgets/controls",
          "model_name": "IntProgressModel",
          "state": {
            "_view_name": "ProgressView",
            "style": "IPY_MODEL_011d3293bebd4aa6802bffede3fe6285",
            "_dom_classes": [],
            "description": "Current iteration",
            "_model_name": "IntProgressModel",
            "bar_style": "success",
            "max": 335,
            "_view_module": "@jupyter-widgets/controls",
            "_model_module_version": "1.5.0",
            "value": 335,
            "_view_count": null,
            "_view_module_version": "1.5.0",
            "orientation": "horizontal",
            "min": 0,
            "description_tooltip": null,
            "_model_module": "@jupyter-widgets/controls",
            "layout": "IPY_MODEL_27bc9a848e6c41f58a609455c12a4a3e"
          }
        },
        "17005a1a66e64fb4beb5d82eecb17e90": {
          "model_module": "@jupyter-widgets/controls",
          "model_name": "HTMLModel",
          "state": {
            "_view_name": "HTMLView",
            "style": "IPY_MODEL_d0bf0db59aba4cf59e143fbcce721064",
            "_dom_classes": [],
            "description": "",
            "_model_name": "HTMLModel",
            "placeholder": "​",
            "_view_module": "@jupyter-widgets/controls",
            "_model_module_version": "1.5.0",
            "value": "100% 335/335 [02:47&lt;00:00,  1.99it/s]",
            "_view_count": null,
            "_view_module_version": "1.5.0",
            "description_tooltip": null,
            "_model_module": "@jupyter-widgets/controls",
            "layout": "IPY_MODEL_c4d745b48f0a47dc895bfd33eba2f181"
          }
        },
        "011d3293bebd4aa6802bffede3fe6285": {
          "model_module": "@jupyter-widgets/controls",
          "model_name": "ProgressStyleModel",
          "state": {
            "_view_name": "StyleView",
            "_model_name": "ProgressStyleModel",
            "description_width": "initial",
            "_view_module": "@jupyter-widgets/base",
            "_model_module_version": "1.5.0",
            "_view_count": null,
            "_view_module_version": "1.2.0",
            "bar_color": null,
            "_model_module": "@jupyter-widgets/controls"
          }
        },
        "27bc9a848e6c41f58a609455c12a4a3e": {
          "model_module": "@jupyter-widgets/base",
          "model_name": "LayoutModel",
          "state": {
            "_view_name": "LayoutView",
            "grid_template_rows": null,
            "right": null,
            "justify_content": null,
            "_view_module": "@jupyter-widgets/base",
            "overflow": null,
            "_model_module_version": "1.2.0",
            "_view_count": null,
            "flex_flow": null,
            "width": null,
            "min_width": null,
            "border": null,
            "align_items": null,
            "bottom": null,
            "_model_module": "@jupyter-widgets/base",
            "top": null,
            "grid_column": null,
            "overflow_y": null,
            "overflow_x": null,
            "grid_auto_flow": null,
            "grid_area": null,
            "grid_template_columns": null,
            "flex": null,
            "_model_name": "LayoutModel",
            "justify_items": null,
            "grid_row": null,
            "max_height": null,
            "align_content": null,
            "visibility": null,
            "align_self": null,
            "height": null,
            "min_height": null,
            "padding": null,
            "grid_auto_rows": null,
            "grid_gap": null,
            "max_width": null,
            "order": null,
            "_view_module_version": "1.2.0",
            "grid_template_areas": null,
            "object_position": null,
            "object_fit": null,
            "grid_auto_columns": null,
            "margin": null,
            "display": null,
            "left": null
          }
        },
        "d0bf0db59aba4cf59e143fbcce721064": {
          "model_module": "@jupyter-widgets/controls",
          "model_name": "DescriptionStyleModel",
          "state": {
            "_view_name": "StyleView",
            "_model_name": "DescriptionStyleModel",
            "description_width": "",
            "_view_module": "@jupyter-widgets/base",
            "_model_module_version": "1.5.0",
            "_view_count": null,
            "_view_module_version": "1.2.0",
            "_model_module": "@jupyter-widgets/controls"
          }
        },
        "c4d745b48f0a47dc895bfd33eba2f181": {
          "model_module": "@jupyter-widgets/base",
          "model_name": "LayoutModel",
          "state": {
            "_view_name": "LayoutView",
            "grid_template_rows": null,
            "right": null,
            "justify_content": null,
            "_view_module": "@jupyter-widgets/base",
            "overflow": null,
            "_model_module_version": "1.2.0",
            "_view_count": null,
            "flex_flow": null,
            "width": null,
            "min_width": null,
            "border": null,
            "align_items": null,
            "bottom": null,
            "_model_module": "@jupyter-widgets/base",
            "top": null,
            "grid_column": null,
            "overflow_y": null,
            "overflow_x": null,
            "grid_auto_flow": null,
            "grid_area": null,
            "grid_template_columns": null,
            "flex": null,
            "_model_name": "LayoutModel",
            "justify_items": null,
            "grid_row": null,
            "max_height": null,
            "align_content": null,
            "visibility": null,
            "align_self": null,
            "height": null,
            "min_height": null,
            "padding": null,
            "grid_auto_rows": null,
            "grid_gap": null,
            "max_width": null,
            "order": null,
            "_view_module_version": "1.2.0",
            "grid_template_areas": null,
            "object_position": null,
            "object_fit": null,
            "grid_auto_columns": null,
            "margin": null,
            "display": null,
            "left": null
          }
        },
        "b79c8942e1b5485c9b64c53101653888": {
          "model_module": "@jupyter-widgets/controls",
          "model_name": "HBoxModel",
          "state": {
            "_view_name": "HBoxView",
            "_dom_classes": [],
            "_model_name": "HBoxModel",
            "_view_module": "@jupyter-widgets/controls",
            "_model_module_version": "1.5.0",
            "_view_count": null,
            "_view_module_version": "1.5.0",
            "box_style": "",
            "layout": "IPY_MODEL_8bcf4eb88d5d49e997b471eb00c38bab",
            "_model_module": "@jupyter-widgets/controls",
            "children": [
              "IPY_MODEL_39ab48f5be674560917ff2a045ec0326",
              "IPY_MODEL_f821c352751345a09ab4228067eca6b7"
            ]
          }
        },
        "8bcf4eb88d5d49e997b471eb00c38bab": {
          "model_module": "@jupyter-widgets/base",
          "model_name": "LayoutModel",
          "state": {
            "_view_name": "LayoutView",
            "grid_template_rows": null,
            "right": null,
            "justify_content": null,
            "_view_module": "@jupyter-widgets/base",
            "overflow": null,
            "_model_module_version": "1.2.0",
            "_view_count": null,
            "flex_flow": null,
            "width": null,
            "min_width": null,
            "border": null,
            "align_items": null,
            "bottom": null,
            "_model_module": "@jupyter-widgets/base",
            "top": null,
            "grid_column": null,
            "overflow_y": null,
            "overflow_x": null,
            "grid_auto_flow": null,
            "grid_area": null,
            "grid_template_columns": null,
            "flex": null,
            "_model_name": "LayoutModel",
            "justify_items": null,
            "grid_row": null,
            "max_height": null,
            "align_content": null,
            "visibility": null,
            "align_self": null,
            "height": null,
            "min_height": null,
            "padding": null,
            "grid_auto_rows": null,
            "grid_gap": null,
            "max_width": null,
            "order": null,
            "_view_module_version": "1.2.0",
            "grid_template_areas": null,
            "object_position": null,
            "object_fit": null,
            "grid_auto_columns": null,
            "margin": null,
            "display": null,
            "left": null
          }
        },
        "39ab48f5be674560917ff2a045ec0326": {
          "model_module": "@jupyter-widgets/controls",
          "model_name": "IntProgressModel",
          "state": {
            "_view_name": "ProgressView",
            "style": "IPY_MODEL_5a0ea1c598c64d8cb81ce3c798002f18",
            "_dom_classes": [],
            "description": "Current iteration",
            "_model_name": "IntProgressModel",
            "bar_style": "success",
            "max": 335,
            "_view_module": "@jupyter-widgets/controls",
            "_model_module_version": "1.5.0",
            "value": 335,
            "_view_count": null,
            "_view_module_version": "1.5.0",
            "orientation": "horizontal",
            "min": 0,
            "description_tooltip": null,
            "_model_module": "@jupyter-widgets/controls",
            "layout": "IPY_MODEL_cb566694599048ea82990549413eb8b6"
          }
        },
        "f821c352751345a09ab4228067eca6b7": {
          "model_module": "@jupyter-widgets/controls",
          "model_name": "HTMLModel",
          "state": {
            "_view_name": "HTMLView",
            "style": "IPY_MODEL_32aa37d6f77f4e7a8f72339ce4f2ea13",
            "_dom_classes": [],
            "description": "",
            "_model_name": "HTMLModel",
            "placeholder": "​",
            "_view_module": "@jupyter-widgets/controls",
            "_model_module_version": "1.5.0",
            "value": "100% 335/335 [02:47&lt;00:00,  2.00it/s]",
            "_view_count": null,
            "_view_module_version": "1.5.0",
            "description_tooltip": null,
            "_model_module": "@jupyter-widgets/controls",
            "layout": "IPY_MODEL_ad7531f49d5e4878b979d541f2f82669"
          }
        },
        "5a0ea1c598c64d8cb81ce3c798002f18": {
          "model_module": "@jupyter-widgets/controls",
          "model_name": "ProgressStyleModel",
          "state": {
            "_view_name": "StyleView",
            "_model_name": "ProgressStyleModel",
            "description_width": "initial",
            "_view_module": "@jupyter-widgets/base",
            "_model_module_version": "1.5.0",
            "_view_count": null,
            "_view_module_version": "1.2.0",
            "bar_color": null,
            "_model_module": "@jupyter-widgets/controls"
          }
        },
        "cb566694599048ea82990549413eb8b6": {
          "model_module": "@jupyter-widgets/base",
          "model_name": "LayoutModel",
          "state": {
            "_view_name": "LayoutView",
            "grid_template_rows": null,
            "right": null,
            "justify_content": null,
            "_view_module": "@jupyter-widgets/base",
            "overflow": null,
            "_model_module_version": "1.2.0",
            "_view_count": null,
            "flex_flow": null,
            "width": null,
            "min_width": null,
            "border": null,
            "align_items": null,
            "bottom": null,
            "_model_module": "@jupyter-widgets/base",
            "top": null,
            "grid_column": null,
            "overflow_y": null,
            "overflow_x": null,
            "grid_auto_flow": null,
            "grid_area": null,
            "grid_template_columns": null,
            "flex": null,
            "_model_name": "LayoutModel",
            "justify_items": null,
            "grid_row": null,
            "max_height": null,
            "align_content": null,
            "visibility": null,
            "align_self": null,
            "height": null,
            "min_height": null,
            "padding": null,
            "grid_auto_rows": null,
            "grid_gap": null,
            "max_width": null,
            "order": null,
            "_view_module_version": "1.2.0",
            "grid_template_areas": null,
            "object_position": null,
            "object_fit": null,
            "grid_auto_columns": null,
            "margin": null,
            "display": null,
            "left": null
          }
        },
        "32aa37d6f77f4e7a8f72339ce4f2ea13": {
          "model_module": "@jupyter-widgets/controls",
          "model_name": "DescriptionStyleModel",
          "state": {
            "_view_name": "StyleView",
            "_model_name": "DescriptionStyleModel",
            "description_width": "",
            "_view_module": "@jupyter-widgets/base",
            "_model_module_version": "1.5.0",
            "_view_count": null,
            "_view_module_version": "1.2.0",
            "_model_module": "@jupyter-widgets/controls"
          }
        },
        "ad7531f49d5e4878b979d541f2f82669": {
          "model_module": "@jupyter-widgets/base",
          "model_name": "LayoutModel",
          "state": {
            "_view_name": "LayoutView",
            "grid_template_rows": null,
            "right": null,
            "justify_content": null,
            "_view_module": "@jupyter-widgets/base",
            "overflow": null,
            "_model_module_version": "1.2.0",
            "_view_count": null,
            "flex_flow": null,
            "width": null,
            "min_width": null,
            "border": null,
            "align_items": null,
            "bottom": null,
            "_model_module": "@jupyter-widgets/base",
            "top": null,
            "grid_column": null,
            "overflow_y": null,
            "overflow_x": null,
            "grid_auto_flow": null,
            "grid_area": null,
            "grid_template_columns": null,
            "flex": null,
            "_model_name": "LayoutModel",
            "justify_items": null,
            "grid_row": null,
            "max_height": null,
            "align_content": null,
            "visibility": null,
            "align_self": null,
            "height": null,
            "min_height": null,
            "padding": null,
            "grid_auto_rows": null,
            "grid_gap": null,
            "max_width": null,
            "order": null,
            "_view_module_version": "1.2.0",
            "grid_template_areas": null,
            "object_position": null,
            "object_fit": null,
            "grid_auto_columns": null,
            "margin": null,
            "display": null,
            "left": null
          }
        },
        "5c4d4645bca54dd9b9f0ac4217eebcbd": {
          "model_module": "@jupyter-widgets/controls",
          "model_name": "HBoxModel",
          "state": {
            "_view_name": "HBoxView",
            "_dom_classes": [],
            "_model_name": "HBoxModel",
            "_view_module": "@jupyter-widgets/controls",
            "_model_module_version": "1.5.0",
            "_view_count": null,
            "_view_module_version": "1.5.0",
            "box_style": "",
            "layout": "IPY_MODEL_4992ad77c92440078c2b99fc996c249b",
            "_model_module": "@jupyter-widgets/controls",
            "children": [
              "IPY_MODEL_623424eac309421483b644b6afed4146",
              "IPY_MODEL_0ec2814edd5b4360b9d0c28f9aa3e13b"
            ]
          }
        },
        "4992ad77c92440078c2b99fc996c249b": {
          "model_module": "@jupyter-widgets/base",
          "model_name": "LayoutModel",
          "state": {
            "_view_name": "LayoutView",
            "grid_template_rows": null,
            "right": null,
            "justify_content": null,
            "_view_module": "@jupyter-widgets/base",
            "overflow": null,
            "_model_module_version": "1.2.0",
            "_view_count": null,
            "flex_flow": null,
            "width": null,
            "min_width": null,
            "border": null,
            "align_items": null,
            "bottom": null,
            "_model_module": "@jupyter-widgets/base",
            "top": null,
            "grid_column": null,
            "overflow_y": null,
            "overflow_x": null,
            "grid_auto_flow": null,
            "grid_area": null,
            "grid_template_columns": null,
            "flex": null,
            "_model_name": "LayoutModel",
            "justify_items": null,
            "grid_row": null,
            "max_height": null,
            "align_content": null,
            "visibility": null,
            "align_self": null,
            "height": null,
            "min_height": null,
            "padding": null,
            "grid_auto_rows": null,
            "grid_gap": null,
            "max_width": null,
            "order": null,
            "_view_module_version": "1.2.0",
            "grid_template_areas": null,
            "object_position": null,
            "object_fit": null,
            "grid_auto_columns": null,
            "margin": null,
            "display": null,
            "left": null
          }
        },
        "623424eac309421483b644b6afed4146": {
          "model_module": "@jupyter-widgets/controls",
          "model_name": "IntProgressModel",
          "state": {
            "_view_name": "ProgressView",
            "style": "IPY_MODEL_3fa978f52e5b464ba03a1d6267a2fdf6",
            "_dom_classes": [],
            "description": "Current iteration",
            "_model_name": "IntProgressModel",
            "bar_style": "success",
            "max": 335,
            "_view_module": "@jupyter-widgets/controls",
            "_model_module_version": "1.5.0",
            "value": 335,
            "_view_count": null,
            "_view_module_version": "1.5.0",
            "orientation": "horizontal",
            "min": 0,
            "description_tooltip": null,
            "_model_module": "@jupyter-widgets/controls",
            "layout": "IPY_MODEL_f5c0a7363d82410fa12e6e13db194beb"
          }
        },
        "0ec2814edd5b4360b9d0c28f9aa3e13b": {
          "model_module": "@jupyter-widgets/controls",
          "model_name": "HTMLModel",
          "state": {
            "_view_name": "HTMLView",
            "style": "IPY_MODEL_89eee77ee5da4bf38c9c058d593971c0",
            "_dom_classes": [],
            "description": "",
            "_model_name": "HTMLModel",
            "placeholder": "​",
            "_view_module": "@jupyter-widgets/controls",
            "_model_module_version": "1.5.0",
            "value": "100% 335/335 [02:47&lt;00:00,  1.99it/s]",
            "_view_count": null,
            "_view_module_version": "1.5.0",
            "description_tooltip": null,
            "_model_module": "@jupyter-widgets/controls",
            "layout": "IPY_MODEL_f4af19a009d84cd7ac5b50aba27fd501"
          }
        },
        "3fa978f52e5b464ba03a1d6267a2fdf6": {
          "model_module": "@jupyter-widgets/controls",
          "model_name": "ProgressStyleModel",
          "state": {
            "_view_name": "StyleView",
            "_model_name": "ProgressStyleModel",
            "description_width": "initial",
            "_view_module": "@jupyter-widgets/base",
            "_model_module_version": "1.5.0",
            "_view_count": null,
            "_view_module_version": "1.2.0",
            "bar_color": null,
            "_model_module": "@jupyter-widgets/controls"
          }
        },
        "f5c0a7363d82410fa12e6e13db194beb": {
          "model_module": "@jupyter-widgets/base",
          "model_name": "LayoutModel",
          "state": {
            "_view_name": "LayoutView",
            "grid_template_rows": null,
            "right": null,
            "justify_content": null,
            "_view_module": "@jupyter-widgets/base",
            "overflow": null,
            "_model_module_version": "1.2.0",
            "_view_count": null,
            "flex_flow": null,
            "width": null,
            "min_width": null,
            "border": null,
            "align_items": null,
            "bottom": null,
            "_model_module": "@jupyter-widgets/base",
            "top": null,
            "grid_column": null,
            "overflow_y": null,
            "overflow_x": null,
            "grid_auto_flow": null,
            "grid_area": null,
            "grid_template_columns": null,
            "flex": null,
            "_model_name": "LayoutModel",
            "justify_items": null,
            "grid_row": null,
            "max_height": null,
            "align_content": null,
            "visibility": null,
            "align_self": null,
            "height": null,
            "min_height": null,
            "padding": null,
            "grid_auto_rows": null,
            "grid_gap": null,
            "max_width": null,
            "order": null,
            "_view_module_version": "1.2.0",
            "grid_template_areas": null,
            "object_position": null,
            "object_fit": null,
            "grid_auto_columns": null,
            "margin": null,
            "display": null,
            "left": null
          }
        },
        "89eee77ee5da4bf38c9c058d593971c0": {
          "model_module": "@jupyter-widgets/controls",
          "model_name": "DescriptionStyleModel",
          "state": {
            "_view_name": "StyleView",
            "_model_name": "DescriptionStyleModel",
            "description_width": "",
            "_view_module": "@jupyter-widgets/base",
            "_model_module_version": "1.5.0",
            "_view_count": null,
            "_view_module_version": "1.2.0",
            "_model_module": "@jupyter-widgets/controls"
          }
        },
        "f4af19a009d84cd7ac5b50aba27fd501": {
          "model_module": "@jupyter-widgets/base",
          "model_name": "LayoutModel",
          "state": {
            "_view_name": "LayoutView",
            "grid_template_rows": null,
            "right": null,
            "justify_content": null,
            "_view_module": "@jupyter-widgets/base",
            "overflow": null,
            "_model_module_version": "1.2.0",
            "_view_count": null,
            "flex_flow": null,
            "width": null,
            "min_width": null,
            "border": null,
            "align_items": null,
            "bottom": null,
            "_model_module": "@jupyter-widgets/base",
            "top": null,
            "grid_column": null,
            "overflow_y": null,
            "overflow_x": null,
            "grid_auto_flow": null,
            "grid_area": null,
            "grid_template_columns": null,
            "flex": null,
            "_model_name": "LayoutModel",
            "justify_items": null,
            "grid_row": null,
            "max_height": null,
            "align_content": null,
            "visibility": null,
            "align_self": null,
            "height": null,
            "min_height": null,
            "padding": null,
            "grid_auto_rows": null,
            "grid_gap": null,
            "max_width": null,
            "order": null,
            "_view_module_version": "1.2.0",
            "grid_template_areas": null,
            "object_position": null,
            "object_fit": null,
            "grid_auto_columns": null,
            "margin": null,
            "display": null,
            "left": null
          }
        },
        "d0962a2e2ed84a3eae6ff1fdedad54a6": {
          "model_module": "@jupyter-widgets/controls",
          "model_name": "HBoxModel",
          "state": {
            "_view_name": "HBoxView",
            "_dom_classes": [],
            "_model_name": "HBoxModel",
            "_view_module": "@jupyter-widgets/controls",
            "_model_module_version": "1.5.0",
            "_view_count": null,
            "_view_module_version": "1.5.0",
            "box_style": "",
            "layout": "IPY_MODEL_7fca5e3610284dc6be3b0e881646a5db",
            "_model_module": "@jupyter-widgets/controls",
            "children": [
              "IPY_MODEL_623124f1dfa341cda237f7e66f8c0620",
              "IPY_MODEL_7f2bad6736324c4681758f6db1ebe984"
            ]
          }
        },
        "7fca5e3610284dc6be3b0e881646a5db": {
          "model_module": "@jupyter-widgets/base",
          "model_name": "LayoutModel",
          "state": {
            "_view_name": "LayoutView",
            "grid_template_rows": null,
            "right": null,
            "justify_content": null,
            "_view_module": "@jupyter-widgets/base",
            "overflow": null,
            "_model_module_version": "1.2.0",
            "_view_count": null,
            "flex_flow": null,
            "width": null,
            "min_width": null,
            "border": null,
            "align_items": null,
            "bottom": null,
            "_model_module": "@jupyter-widgets/base",
            "top": null,
            "grid_column": null,
            "overflow_y": null,
            "overflow_x": null,
            "grid_auto_flow": null,
            "grid_area": null,
            "grid_template_columns": null,
            "flex": null,
            "_model_name": "LayoutModel",
            "justify_items": null,
            "grid_row": null,
            "max_height": null,
            "align_content": null,
            "visibility": null,
            "align_self": null,
            "height": null,
            "min_height": null,
            "padding": null,
            "grid_auto_rows": null,
            "grid_gap": null,
            "max_width": null,
            "order": null,
            "_view_module_version": "1.2.0",
            "grid_template_areas": null,
            "object_position": null,
            "object_fit": null,
            "grid_auto_columns": null,
            "margin": null,
            "display": null,
            "left": null
          }
        },
        "623124f1dfa341cda237f7e66f8c0620": {
          "model_module": "@jupyter-widgets/controls",
          "model_name": "IntProgressModel",
          "state": {
            "_view_name": "ProgressView",
            "style": "IPY_MODEL_3faccdccf430421285b7872937c71545",
            "_dom_classes": [],
            "description": "",
            "_model_name": "IntProgressModel",
            "bar_style": "success",
            "max": 75,
            "_view_module": "@jupyter-widgets/controls",
            "_model_module_version": "1.5.0",
            "value": 75,
            "_view_count": null,
            "_view_module_version": "1.5.0",
            "orientation": "horizontal",
            "min": 0,
            "description_tooltip": null,
            "_model_module": "@jupyter-widgets/controls",
            "layout": "IPY_MODEL_a650c3b5c26a424d88936f1649d3006d"
          }
        },
        "7f2bad6736324c4681758f6db1ebe984": {
          "model_module": "@jupyter-widgets/controls",
          "model_name": "HTMLModel",
          "state": {
            "_view_name": "HTMLView",
            "style": "IPY_MODEL_e034539201e14adc844dd761375f1b44",
            "_dom_classes": [],
            "description": "",
            "_model_name": "HTMLModel",
            "placeholder": "​",
            "_view_module": "@jupyter-widgets/controls",
            "_model_module_version": "1.5.0",
            "value": "100% 75/75 [00:00&lt;00:00, 339.23it/s]",
            "_view_count": null,
            "_view_module_version": "1.5.0",
            "description_tooltip": null,
            "_model_module": "@jupyter-widgets/controls",
            "layout": "IPY_MODEL_fbb21e1d7d93443fb25d05e218b8848c"
          }
        },
        "3faccdccf430421285b7872937c71545": {
          "model_module": "@jupyter-widgets/controls",
          "model_name": "ProgressStyleModel",
          "state": {
            "_view_name": "StyleView",
            "_model_name": "ProgressStyleModel",
            "description_width": "",
            "_view_module": "@jupyter-widgets/base",
            "_model_module_version": "1.5.0",
            "_view_count": null,
            "_view_module_version": "1.2.0",
            "bar_color": null,
            "_model_module": "@jupyter-widgets/controls"
          }
        },
        "a650c3b5c26a424d88936f1649d3006d": {
          "model_module": "@jupyter-widgets/base",
          "model_name": "LayoutModel",
          "state": {
            "_view_name": "LayoutView",
            "grid_template_rows": null,
            "right": null,
            "justify_content": null,
            "_view_module": "@jupyter-widgets/base",
            "overflow": null,
            "_model_module_version": "1.2.0",
            "_view_count": null,
            "flex_flow": null,
            "width": null,
            "min_width": null,
            "border": null,
            "align_items": null,
            "bottom": null,
            "_model_module": "@jupyter-widgets/base",
            "top": null,
            "grid_column": null,
            "overflow_y": null,
            "overflow_x": null,
            "grid_auto_flow": null,
            "grid_area": null,
            "grid_template_columns": null,
            "flex": null,
            "_model_name": "LayoutModel",
            "justify_items": null,
            "grid_row": null,
            "max_height": null,
            "align_content": null,
            "visibility": null,
            "align_self": null,
            "height": null,
            "min_height": null,
            "padding": null,
            "grid_auto_rows": null,
            "grid_gap": null,
            "max_width": null,
            "order": null,
            "_view_module_version": "1.2.0",
            "grid_template_areas": null,
            "object_position": null,
            "object_fit": null,
            "grid_auto_columns": null,
            "margin": null,
            "display": null,
            "left": null
          }
        },
        "e034539201e14adc844dd761375f1b44": {
          "model_module": "@jupyter-widgets/controls",
          "model_name": "DescriptionStyleModel",
          "state": {
            "_view_name": "StyleView",
            "_model_name": "DescriptionStyleModel",
            "description_width": "",
            "_view_module": "@jupyter-widgets/base",
            "_model_module_version": "1.5.0",
            "_view_count": null,
            "_view_module_version": "1.2.0",
            "_model_module": "@jupyter-widgets/controls"
          }
        },
        "fbb21e1d7d93443fb25d05e218b8848c": {
          "model_module": "@jupyter-widgets/base",
          "model_name": "LayoutModel",
          "state": {
            "_view_name": "LayoutView",
            "grid_template_rows": null,
            "right": null,
            "justify_content": null,
            "_view_module": "@jupyter-widgets/base",
            "overflow": null,
            "_model_module_version": "1.2.0",
            "_view_count": null,
            "flex_flow": null,
            "width": null,
            "min_width": null,
            "border": null,
            "align_items": null,
            "bottom": null,
            "_model_module": "@jupyter-widgets/base",
            "top": null,
            "grid_column": null,
            "overflow_y": null,
            "overflow_x": null,
            "grid_auto_flow": null,
            "grid_area": null,
            "grid_template_columns": null,
            "flex": null,
            "_model_name": "LayoutModel",
            "justify_items": null,
            "grid_row": null,
            "max_height": null,
            "align_content": null,
            "visibility": null,
            "align_self": null,
            "height": null,
            "min_height": null,
            "padding": null,
            "grid_auto_rows": null,
            "grid_gap": null,
            "max_width": null,
            "order": null,
            "_view_module_version": "1.2.0",
            "grid_template_areas": null,
            "object_position": null,
            "object_fit": null,
            "grid_auto_columns": null,
            "margin": null,
            "display": null,
            "left": null
          }
        },
        "d92d018e91c24494b25c0c8138f373a8": {
          "model_module": "@jupyter-widgets/controls",
          "model_name": "HBoxModel",
          "state": {
            "_view_name": "HBoxView",
            "_dom_classes": [],
            "_model_name": "HBoxModel",
            "_view_module": "@jupyter-widgets/controls",
            "_model_module_version": "1.5.0",
            "_view_count": null,
            "_view_module_version": "1.5.0",
            "box_style": "",
            "layout": "IPY_MODEL_b87f91bb0d66467c8e32e681e3d15e0d",
            "_model_module": "@jupyter-widgets/controls",
            "children": [
              "IPY_MODEL_8c2aba3205994996893889ef2bd5ebf2",
              "IPY_MODEL_0d54a8a6b4304a1e8b28181990fb74b4"
            ]
          }
        },
        "b87f91bb0d66467c8e32e681e3d15e0d": {
          "model_module": "@jupyter-widgets/base",
          "model_name": "LayoutModel",
          "state": {
            "_view_name": "LayoutView",
            "grid_template_rows": null,
            "right": null,
            "justify_content": null,
            "_view_module": "@jupyter-widgets/base",
            "overflow": null,
            "_model_module_version": "1.2.0",
            "_view_count": null,
            "flex_flow": null,
            "width": null,
            "min_width": null,
            "border": null,
            "align_items": null,
            "bottom": null,
            "_model_module": "@jupyter-widgets/base",
            "top": null,
            "grid_column": null,
            "overflow_y": null,
            "overflow_x": null,
            "grid_auto_flow": null,
            "grid_area": null,
            "grid_template_columns": null,
            "flex": null,
            "_model_name": "LayoutModel",
            "justify_items": null,
            "grid_row": null,
            "max_height": null,
            "align_content": null,
            "visibility": null,
            "align_self": null,
            "height": null,
            "min_height": null,
            "padding": null,
            "grid_auto_rows": null,
            "grid_gap": null,
            "max_width": null,
            "order": null,
            "_view_module_version": "1.2.0",
            "grid_template_areas": null,
            "object_position": null,
            "object_fit": null,
            "grid_auto_columns": null,
            "margin": null,
            "display": null,
            "left": null
          }
        },
        "8c2aba3205994996893889ef2bd5ebf2": {
          "model_module": "@jupyter-widgets/controls",
          "model_name": "IntProgressModel",
          "state": {
            "_view_name": "ProgressView",
            "style": "IPY_MODEL_eb14f88323c64b12bf4b5dd23da1ebcf",
            "_dom_classes": [],
            "description": "",
            "_model_name": "IntProgressModel",
            "bar_style": "success",
            "max": 10,
            "_view_module": "@jupyter-widgets/controls",
            "_model_module_version": "1.5.0",
            "value": 10,
            "_view_count": null,
            "_view_module_version": "1.5.0",
            "orientation": "horizontal",
            "min": 0,
            "description_tooltip": null,
            "_model_module": "@jupyter-widgets/controls",
            "layout": "IPY_MODEL_a75f9d5bf22a4e51b8f7325192e8d706"
          }
        },
        "0d54a8a6b4304a1e8b28181990fb74b4": {
          "model_module": "@jupyter-widgets/controls",
          "model_name": "HTMLModel",
          "state": {
            "_view_name": "HTMLView",
            "style": "IPY_MODEL_08746b70ebca4d3a960c52d57dea95c8",
            "_dom_classes": [],
            "description": "",
            "_model_name": "HTMLModel",
            "placeholder": "​",
            "_view_module": "@jupyter-widgets/controls",
            "_model_module_version": "1.5.0",
            "value": "100% 10/10 [00:04&lt;00:00,  2.90it/s]",
            "_view_count": null,
            "_view_module_version": "1.5.0",
            "description_tooltip": null,
            "_model_module": "@jupyter-widgets/controls",
            "layout": "IPY_MODEL_3743d308914a447ca09e9c043c42a0ae"
          }
        },
        "eb14f88323c64b12bf4b5dd23da1ebcf": {
          "model_module": "@jupyter-widgets/controls",
          "model_name": "ProgressStyleModel",
          "state": {
            "_view_name": "StyleView",
            "_model_name": "ProgressStyleModel",
            "description_width": "",
            "_view_module": "@jupyter-widgets/base",
            "_model_module_version": "1.5.0",
            "_view_count": null,
            "_view_module_version": "1.2.0",
            "bar_color": null,
            "_model_module": "@jupyter-widgets/controls"
          }
        },
        "a75f9d5bf22a4e51b8f7325192e8d706": {
          "model_module": "@jupyter-widgets/base",
          "model_name": "LayoutModel",
          "state": {
            "_view_name": "LayoutView",
            "grid_template_rows": null,
            "right": null,
            "justify_content": null,
            "_view_module": "@jupyter-widgets/base",
            "overflow": null,
            "_model_module_version": "1.2.0",
            "_view_count": null,
            "flex_flow": null,
            "width": null,
            "min_width": null,
            "border": null,
            "align_items": null,
            "bottom": null,
            "_model_module": "@jupyter-widgets/base",
            "top": null,
            "grid_column": null,
            "overflow_y": null,
            "overflow_x": null,
            "grid_auto_flow": null,
            "grid_area": null,
            "grid_template_columns": null,
            "flex": null,
            "_model_name": "LayoutModel",
            "justify_items": null,
            "grid_row": null,
            "max_height": null,
            "align_content": null,
            "visibility": null,
            "align_self": null,
            "height": null,
            "min_height": null,
            "padding": null,
            "grid_auto_rows": null,
            "grid_gap": null,
            "max_width": null,
            "order": null,
            "_view_module_version": "1.2.0",
            "grid_template_areas": null,
            "object_position": null,
            "object_fit": null,
            "grid_auto_columns": null,
            "margin": null,
            "display": null,
            "left": null
          }
        },
        "08746b70ebca4d3a960c52d57dea95c8": {
          "model_module": "@jupyter-widgets/controls",
          "model_name": "DescriptionStyleModel",
          "state": {
            "_view_name": "StyleView",
            "_model_name": "DescriptionStyleModel",
            "description_width": "",
            "_view_module": "@jupyter-widgets/base",
            "_model_module_version": "1.5.0",
            "_view_count": null,
            "_view_module_version": "1.2.0",
            "_model_module": "@jupyter-widgets/controls"
          }
        },
        "3743d308914a447ca09e9c043c42a0ae": {
          "model_module": "@jupyter-widgets/base",
          "model_name": "LayoutModel",
          "state": {
            "_view_name": "LayoutView",
            "grid_template_rows": null,
            "right": null,
            "justify_content": null,
            "_view_module": "@jupyter-widgets/base",
            "overflow": null,
            "_model_module_version": "1.2.0",
            "_view_count": null,
            "flex_flow": null,
            "width": null,
            "min_width": null,
            "border": null,
            "align_items": null,
            "bottom": null,
            "_model_module": "@jupyter-widgets/base",
            "top": null,
            "grid_column": null,
            "overflow_y": null,
            "overflow_x": null,
            "grid_auto_flow": null,
            "grid_area": null,
            "grid_template_columns": null,
            "flex": null,
            "_model_name": "LayoutModel",
            "justify_items": null,
            "grid_row": null,
            "max_height": null,
            "align_content": null,
            "visibility": null,
            "align_self": null,
            "height": null,
            "min_height": null,
            "padding": null,
            "grid_auto_rows": null,
            "grid_gap": null,
            "max_width": null,
            "order": null,
            "_view_module_version": "1.2.0",
            "grid_template_areas": null,
            "object_position": null,
            "object_fit": null,
            "grid_auto_columns": null,
            "margin": null,
            "display": null,
            "left": null
          }
        }
      }
    }
  },
  "cells": [
    {
      "cell_type": "code",
      "metadata": {
        "id": "lcTu9c8ojEz-",
        "colab_type": "code",
        "outputId": "ff5ca724-79ea-4937-8b7c-a5dc1d94556c",
        "colab": {
          "base_uri": "https://localhost:8080/",
          "height": 1000
        }
      },
      "source": [
        "!unzip /content/spotmentorlabs-machine-learning-assessment-dfe89675d80f.zip"
      ],
      "execution_count": 1,
      "outputs": [
        {
          "output_type": "stream",
          "text": [
            "Archive:  /content/spotmentorlabs-machine-learning-assessment-dfe89675d80f.zip\n",
            "dfe89675d80f0bdb425c38a4e739bb33754d74bf\n",
            "   creating: spotmentorlabs-machine-learning-assessment-dfe89675d80f/\n",
            "  inflating: spotmentorlabs-machine-learning-assessment-dfe89675d80f/README.md  \n",
            "  inflating: spotmentorlabs-machine-learning-assessment-dfe89675d80f/YourName_PhoneNumber.ipynb  \n",
            "   creating: spotmentorlabs-machine-learning-assessment-dfe89675d80f/data/\n",
            "   creating: spotmentorlabs-machine-learning-assessment-dfe89675d80f/data/docs/\n",
            "  inflating: spotmentorlabs-machine-learning-assessment-dfe89675d80f/data/docs/5922081.json  \n",
            "  inflating: spotmentorlabs-machine-learning-assessment-dfe89675d80f/data/docs/6523883.json  \n",
            "  inflating: spotmentorlabs-machine-learning-assessment-dfe89675d80f/data/docs/6600981.json  \n",
            "  inflating: spotmentorlabs-machine-learning-assessment-dfe89675d80f/data/docs/6686185.json  \n",
            "  inflating: spotmentorlabs-machine-learning-assessment-dfe89675d80f/data/docs/6726409.json  \n",
            "  inflating: spotmentorlabs-machine-learning-assessment-dfe89675d80f/data/docs/6975593.json  \n",
            "  inflating: spotmentorlabs-machine-learning-assessment-dfe89675d80f/data/docs/6978067.json  \n",
            "  inflating: spotmentorlabs-machine-learning-assessment-dfe89675d80f/data/docs/6978079.json  \n",
            "  inflating: spotmentorlabs-machine-learning-assessment-dfe89675d80f/data/docs/7000953.json  \n",
            "  inflating: spotmentorlabs-machine-learning-assessment-dfe89675d80f/data/docs/7010467.json  \n",
            "  inflating: spotmentorlabs-machine-learning-assessment-dfe89675d80f/data/docs/7045929.json  \n",
            "  inflating: spotmentorlabs-machine-learning-assessment-dfe89675d80f/data/docs/7072743.json  \n",
            "  inflating: spotmentorlabs-machine-learning-assessment-dfe89675d80f/data/docs/7093373.json  \n",
            "  inflating: spotmentorlabs-machine-learning-assessment-dfe89675d80f/data/docs/7121587.json  \n",
            "  inflating: spotmentorlabs-machine-learning-assessment-dfe89675d80f/data/docs/7128611.json  \n",
            "  inflating: spotmentorlabs-machine-learning-assessment-dfe89675d80f/data/docs/7135099.json  \n",
            "  inflating: spotmentorlabs-machine-learning-assessment-dfe89675d80f/data/docs/7135571.json  \n",
            "  inflating: spotmentorlabs-machine-learning-assessment-dfe89675d80f/data/docs/7140501.json  \n",
            "  inflating: spotmentorlabs-machine-learning-assessment-dfe89675d80f/data/docs/7160943.json  \n",
            "  inflating: spotmentorlabs-machine-learning-assessment-dfe89675d80f/data/docs/7172353.json  \n",
            "  inflating: spotmentorlabs-machine-learning-assessment-dfe89675d80f/data/docs/7238217.json  \n",
            "  inflating: spotmentorlabs-machine-learning-assessment-dfe89675d80f/data/docs/7291285.json  \n",
            "  inflating: spotmentorlabs-machine-learning-assessment-dfe89675d80f/data/docs/7315159.json  \n",
            "  inflating: spotmentorlabs-machine-learning-assessment-dfe89675d80f/data/docs/7424001.json  \n",
            "  inflating: spotmentorlabs-machine-learning-assessment-dfe89675d80f/data/docs/7424203.json  \n",
            "  inflating: spotmentorlabs-machine-learning-assessment-dfe89675d80f/data/docs/7424353.json  \n",
            "  inflating: spotmentorlabs-machine-learning-assessment-dfe89675d80f/data/docs/7465053.json  \n",
            "  inflating: spotmentorlabs-machine-learning-assessment-dfe89675d80f/data/docs/7494221.json  \n",
            "  inflating: spotmentorlabs-machine-learning-assessment-dfe89675d80f/data/docs/7494229.json  \n",
            "  inflating: spotmentorlabs-machine-learning-assessment-dfe89675d80f/data/docs/7521301.json  \n",
            "  inflating: spotmentorlabs-machine-learning-assessment-dfe89675d80f/data/docs/7521649.json  \n",
            "  inflating: spotmentorlabs-machine-learning-assessment-dfe89675d80f/data/docs/7527075.json  \n",
            "  inflating: spotmentorlabs-machine-learning-assessment-dfe89675d80f/data/docs/7533733.json  \n",
            "  inflating: spotmentorlabs-machine-learning-assessment-dfe89675d80f/data/docs/7534839.json  \n",
            "  inflating: spotmentorlabs-machine-learning-assessment-dfe89675d80f/data/docs/7540071.json  \n",
            "  inflating: spotmentorlabs-machine-learning-assessment-dfe89675d80f/data/docs/7549735.json  \n",
            "  inflating: spotmentorlabs-machine-learning-assessment-dfe89675d80f/data/docs/7549739.json  \n",
            "  inflating: spotmentorlabs-machine-learning-assessment-dfe89675d80f/data/docs/7590259.json  \n",
            "  inflating: spotmentorlabs-machine-learning-assessment-dfe89675d80f/data/docs/7622571.json  \n",
            "  inflating: spotmentorlabs-machine-learning-assessment-dfe89675d80f/data/docs/7636811.json  \n",
            "  inflating: spotmentorlabs-machine-learning-assessment-dfe89675d80f/data/docs/7641863.json  \n",
            "  inflating: spotmentorlabs-machine-learning-assessment-dfe89675d80f/data/docs/7654483.json  \n",
            "  inflating: spotmentorlabs-machine-learning-assessment-dfe89675d80f/data/docs/7655893.json  \n",
            "  inflating: spotmentorlabs-machine-learning-assessment-dfe89675d80f/data/docs/7667349.json  \n",
            "  inflating: spotmentorlabs-machine-learning-assessment-dfe89675d80f/data/docs/7674559.json  \n",
            "  inflating: spotmentorlabs-machine-learning-assessment-dfe89675d80f/data/docs/7709455.json  \n",
            "  inflating: spotmentorlabs-machine-learning-assessment-dfe89675d80f/data/docs/7710189.json  \n",
            "  inflating: spotmentorlabs-machine-learning-assessment-dfe89675d80f/data/docs/7719949.json  \n",
            "  inflating: spotmentorlabs-machine-learning-assessment-dfe89675d80f/data/docs/7719991.json  \n",
            "  inflating: spotmentorlabs-machine-learning-assessment-dfe89675d80f/data/docs/7754159.json  \n",
            "  inflating: spotmentorlabs-machine-learning-assessment-dfe89675d80f/data/docs/7754317.json  \n",
            "  inflating: spotmentorlabs-machine-learning-assessment-dfe89675d80f/data/docs/7757525.json  \n",
            "  inflating: spotmentorlabs-machine-learning-assessment-dfe89675d80f/data/docs/7760163.json  \n",
            "  inflating: spotmentorlabs-machine-learning-assessment-dfe89675d80f/data/docs/7761203.json  \n",
            "  inflating: spotmentorlabs-machine-learning-assessment-dfe89675d80f/data/docs/7770319.json  \n",
            "  inflating: spotmentorlabs-machine-learning-assessment-dfe89675d80f/data/docs/7776307.json  \n",
            "  inflating: spotmentorlabs-machine-learning-assessment-dfe89675d80f/data/docs/7792815.json  \n",
            "  inflating: spotmentorlabs-machine-learning-assessment-dfe89675d80f/data/docs/7794234.json  \n",
            "  inflating: spotmentorlabs-machine-learning-assessment-dfe89675d80f/data/docs/7794524.json  \n",
            "  inflating: spotmentorlabs-machine-learning-assessment-dfe89675d80f/data/docs/7795949.json  \n",
            "  inflating: spotmentorlabs-machine-learning-assessment-dfe89675d80f/data/docs/7795967.json  \n",
            "  inflating: spotmentorlabs-machine-learning-assessment-dfe89675d80f/data/docs/7796107.json  \n",
            "  inflating: spotmentorlabs-machine-learning-assessment-dfe89675d80f/data/docs/7797381.json  \n",
            "  inflating: spotmentorlabs-machine-learning-assessment-dfe89675d80f/data/docs/7797687.json  \n",
            "  inflating: spotmentorlabs-machine-learning-assessment-dfe89675d80f/data/docs/7798230.json  \n",
            "  inflating: spotmentorlabs-machine-learning-assessment-dfe89675d80f/data/docs/7801847.json  \n",
            "  inflating: spotmentorlabs-machine-learning-assessment-dfe89675d80f/data/docs/7802291.json  \n",
            "  inflating: spotmentorlabs-machine-learning-assessment-dfe89675d80f/data/docs/7802425.json  \n",
            "  inflating: spotmentorlabs-machine-learning-assessment-dfe89675d80f/data/docs/7802687.json  \n",
            "  inflating: spotmentorlabs-machine-learning-assessment-dfe89675d80f/data/docs/7802879.json  \n",
            "  inflating: spotmentorlabs-machine-learning-assessment-dfe89675d80f/data/docs/7802891.json  \n",
            "  inflating: spotmentorlabs-machine-learning-assessment-dfe89675d80f/data/docs/7803875.json  \n",
            "  inflating: spotmentorlabs-machine-learning-assessment-dfe89675d80f/data/docs/7803891.json  \n",
            "  inflating: spotmentorlabs-machine-learning-assessment-dfe89675d80f/data/docs/7804201.json  \n",
            "  inflating: spotmentorlabs-machine-learning-assessment-dfe89675d80f/data/docs/7804365.json  \n",
            "  inflating: spotmentorlabs-machine-learning-assessment-dfe89675d80f/data/docs/7804499.json  \n",
            "  inflating: spotmentorlabs-machine-learning-assessment-dfe89675d80f/data/docs/7804665.json  \n",
            "  inflating: spotmentorlabs-machine-learning-assessment-dfe89675d80f/data/docs/7804677.json  \n",
            "  inflating: spotmentorlabs-machine-learning-assessment-dfe89675d80f/data/docs/7804685.json  \n",
            "  inflating: spotmentorlabs-machine-learning-assessment-dfe89675d80f/data/docs/7807328.json  \n",
            "  inflating: spotmentorlabs-machine-learning-assessment-dfe89675d80f/data/docs/7807971.json  \n",
            "  inflating: spotmentorlabs-machine-learning-assessment-dfe89675d80f/data/docs/7812177.json  \n",
            "  inflating: spotmentorlabs-machine-learning-assessment-dfe89675d80f/data/docs/7812437.json  \n",
            "  inflating: spotmentorlabs-machine-learning-assessment-dfe89675d80f/data/docs/7813051.json  \n",
            "  inflating: spotmentorlabs-machine-learning-assessment-dfe89675d80f/data/docs/7813185.json  \n",
            "  inflating: spotmentorlabs-machine-learning-assessment-dfe89675d80f/data/docs/7813401.json  \n",
            "  inflating: spotmentorlabs-machine-learning-assessment-dfe89675d80f/data/docs/7813477.json  \n",
            "  inflating: spotmentorlabs-machine-learning-assessment-dfe89675d80f/data/docs/7823357.json  \n",
            "  inflating: spotmentorlabs-machine-learning-assessment-dfe89675d80f/data/docs/7823447.json  \n",
            "  inflating: spotmentorlabs-machine-learning-assessment-dfe89675d80f/data/docs/7823481.json  \n",
            "  inflating: spotmentorlabs-machine-learning-assessment-dfe89675d80f/data/docs/7825327.json  \n",
            "  inflating: spotmentorlabs-machine-learning-assessment-dfe89675d80f/data/docs/7825919.json  \n",
            "  inflating: spotmentorlabs-machine-learning-assessment-dfe89675d80f/data/docs/7825941.json  \n",
            "  inflating: spotmentorlabs-machine-learning-assessment-dfe89675d80f/data/docs/7825991.json  \n",
            "  inflating: spotmentorlabs-machine-learning-assessment-dfe89675d80f/data/docs/7827945.json  \n",
            "  inflating: spotmentorlabs-machine-learning-assessment-dfe89675d80f/data/docs/7830874.json  \n",
            "  inflating: spotmentorlabs-machine-learning-assessment-dfe89675d80f/data/docs/7830878.json  \n",
            "  inflating: spotmentorlabs-machine-learning-assessment-dfe89675d80f/data/docs/7830882.json  \n",
            "  inflating: spotmentorlabs-machine-learning-assessment-dfe89675d80f/data/docs/7830884.json  \n",
            "  inflating: spotmentorlabs-machine-learning-assessment-dfe89675d80f/data/docs/7830886.json  \n",
            "  inflating: spotmentorlabs-machine-learning-assessment-dfe89675d80f/data/docs/7830888.json  \n",
            "  inflating: spotmentorlabs-machine-learning-assessment-dfe89675d80f/data/docs/7831498.json  \n",
            "  inflating: spotmentorlabs-machine-learning-assessment-dfe89675d80f/data/docs/7831530.json  \n",
            "  inflating: spotmentorlabs-machine-learning-assessment-dfe89675d80f/data/docs/7831591.json  \n",
            "  inflating: spotmentorlabs-machine-learning-assessment-dfe89675d80f/data/docs/7831913.json  \n",
            "  inflating: spotmentorlabs-machine-learning-assessment-dfe89675d80f/data/docs/7832539.json  \n",
            "  inflating: spotmentorlabs-machine-learning-assessment-dfe89675d80f/data/docs/7839027.json  \n",
            "  inflating: spotmentorlabs-machine-learning-assessment-dfe89675d80f/data/docs/7839395.json  \n",
            "  inflating: spotmentorlabs-machine-learning-assessment-dfe89675d80f/data/docs/7840013.json  \n",
            "  inflating: spotmentorlabs-machine-learning-assessment-dfe89675d80f/data/docs/7840267.json  \n",
            "  inflating: spotmentorlabs-machine-learning-assessment-dfe89675d80f/data/docs/7842801.json  \n",
            "  inflating: spotmentorlabs-machine-learning-assessment-dfe89675d80f/data/docs/7842989.json  \n",
            "  inflating: spotmentorlabs-machine-learning-assessment-dfe89675d80f/data/docs/7846646.json  \n",
            "  inflating: spotmentorlabs-machine-learning-assessment-dfe89675d80f/data/docs/7846689.json  \n",
            "  inflating: spotmentorlabs-machine-learning-assessment-dfe89675d80f/data/docs/7848525.json  \n",
            "  inflating: spotmentorlabs-machine-learning-assessment-dfe89675d80f/data/docs/7848795.json  \n",
            "  inflating: spotmentorlabs-machine-learning-assessment-dfe89675d80f/data/docs/7850819.json  \n",
            "  inflating: spotmentorlabs-machine-learning-assessment-dfe89675d80f/data/docs/7852728.json  \n",
            "  inflating: spotmentorlabs-machine-learning-assessment-dfe89675d80f/data/docs/7853356.json  \n",
            "  inflating: spotmentorlabs-machine-learning-assessment-dfe89675d80f/data/docs/7856577.json  \n",
            "  inflating: spotmentorlabs-machine-learning-assessment-dfe89675d80f/data/docs/7856804.json  \n",
            "  inflating: spotmentorlabs-machine-learning-assessment-dfe89675d80f/data/docs/7856937.json  \n",
            "  inflating: spotmentorlabs-machine-learning-assessment-dfe89675d80f/data/docs/7856959.json  \n",
            "  inflating: spotmentorlabs-machine-learning-assessment-dfe89675d80f/data/docs/7857135.json  \n",
            "  inflating: spotmentorlabs-machine-learning-assessment-dfe89675d80f/data/docs/7858267.json  \n",
            "  inflating: spotmentorlabs-machine-learning-assessment-dfe89675d80f/data/docs/7858583.json  \n",
            "  inflating: spotmentorlabs-machine-learning-assessment-dfe89675d80f/data/docs/7858847.json  \n",
            "  inflating: spotmentorlabs-machine-learning-assessment-dfe89675d80f/data/docs/7860736.json  \n",
            "  inflating: spotmentorlabs-machine-learning-assessment-dfe89675d80f/data/docs/7860738.json  \n",
            "  inflating: spotmentorlabs-machine-learning-assessment-dfe89675d80f/data/docs/7860744.json  \n",
            "  inflating: spotmentorlabs-machine-learning-assessment-dfe89675d80f/data/docs/7860748.json  \n",
            "  inflating: spotmentorlabs-machine-learning-assessment-dfe89675d80f/data/docs/7860764.json  \n",
            "  inflating: spotmentorlabs-machine-learning-assessment-dfe89675d80f/data/docs/7860770.json  \n",
            "  inflating: spotmentorlabs-machine-learning-assessment-dfe89675d80f/data/docs/7860780.json  \n",
            "  inflating: spotmentorlabs-machine-learning-assessment-dfe89675d80f/data/docs/7861674.json  \n",
            "  inflating: spotmentorlabs-machine-learning-assessment-dfe89675d80f/data/docs/7863392.json  \n",
            "  inflating: spotmentorlabs-machine-learning-assessment-dfe89675d80f/data/docs/7863394.json  \n",
            "  inflating: spotmentorlabs-machine-learning-assessment-dfe89675d80f/data/docs/7864787.json  \n",
            "  inflating: spotmentorlabs-machine-learning-assessment-dfe89675d80f/data/docs/7866783.json  \n",
            "  inflating: spotmentorlabs-machine-learning-assessment-dfe89675d80f/data/docs/7870556.json  \n",
            "  inflating: spotmentorlabs-machine-learning-assessment-dfe89675d80f/data/docs/7871926.json  \n",
            "  inflating: spotmentorlabs-machine-learning-assessment-dfe89675d80f/data/docs/7871942.json  \n",
            "  inflating: spotmentorlabs-machine-learning-assessment-dfe89675d80f/data/docs/7871964.json  \n",
            "  inflating: spotmentorlabs-machine-learning-assessment-dfe89675d80f/data/docs/7871976.json  \n",
            "  inflating: spotmentorlabs-machine-learning-assessment-dfe89675d80f/data/docs/7871984.json  \n",
            "  inflating: spotmentorlabs-machine-learning-assessment-dfe89675d80f/data/docs/7871986.json  \n",
            "  inflating: spotmentorlabs-machine-learning-assessment-dfe89675d80f/data/docs/7872937.json  \n",
            "  inflating: spotmentorlabs-machine-learning-assessment-dfe89675d80f/data/docs/7873487.json  \n",
            "  inflating: spotmentorlabs-machine-learning-assessment-dfe89675d80f/data/docs/7873551.json  \n",
            "  inflating: spotmentorlabs-machine-learning-assessment-dfe89675d80f/data/docs/7873577.json  \n",
            "  inflating: spotmentorlabs-machine-learning-assessment-dfe89675d80f/data/docs/7874923.json  \n",
            "  inflating: spotmentorlabs-machine-learning-assessment-dfe89675d80f/data/docs/7875183.json  \n",
            "  inflating: spotmentorlabs-machine-learning-assessment-dfe89675d80f/data/docs/7878736.json  \n",
            "  inflating: spotmentorlabs-machine-learning-assessment-dfe89675d80f/data/docs/7881041.json  \n",
            "  inflating: spotmentorlabs-machine-learning-assessment-dfe89675d80f/data/docs/7881065.json  \n",
            "  inflating: spotmentorlabs-machine-learning-assessment-dfe89675d80f/data/docs/7881105.json  \n",
            "  inflating: spotmentorlabs-machine-learning-assessment-dfe89675d80f/data/docs/7881493.json  \n",
            "  inflating: spotmentorlabs-machine-learning-assessment-dfe89675d80f/data/docs/7882462.json  \n",
            "  inflating: spotmentorlabs-machine-learning-assessment-dfe89675d80f/data/docs/7886593.json  \n",
            "  inflating: spotmentorlabs-machine-learning-assessment-dfe89675d80f/data/docs/7887983.json  \n",
            "  inflating: spotmentorlabs-machine-learning-assessment-dfe89675d80f/data/docs/7888001.json  \n",
            "  inflating: spotmentorlabs-machine-learning-assessment-dfe89675d80f/data/docs/7889317.json  \n",
            "  inflating: spotmentorlabs-machine-learning-assessment-dfe89675d80f/data/docs/7889431.json  \n",
            "  inflating: spotmentorlabs-machine-learning-assessment-dfe89675d80f/data/docs/7889689.json  \n",
            "  inflating: spotmentorlabs-machine-learning-assessment-dfe89675d80f/data/docs/7889693.json  \n",
            "  inflating: spotmentorlabs-machine-learning-assessment-dfe89675d80f/data/docs/7889695.json  \n",
            "  inflating: spotmentorlabs-machine-learning-assessment-dfe89675d80f/data/docs/7889799.json  \n",
            "  inflating: spotmentorlabs-machine-learning-assessment-dfe89675d80f/data/docs/7889935.json  \n",
            "  inflating: spotmentorlabs-machine-learning-assessment-dfe89675d80f/data/docs/7891497.json  \n",
            "  inflating: spotmentorlabs-machine-learning-assessment-dfe89675d80f/data/docs/7894969.json  \n",
            "  inflating: spotmentorlabs-machine-learning-assessment-dfe89675d80f/data/docs/7895011.json  \n",
            "  inflating: spotmentorlabs-machine-learning-assessment-dfe89675d80f/data/docs/7895123.json  \n",
            "  inflating: spotmentorlabs-machine-learning-assessment-dfe89675d80f/data/docs/7899488.json  \n",
            "  inflating: spotmentorlabs-machine-learning-assessment-dfe89675d80f/data/docs/7899490.json  \n",
            "  inflating: spotmentorlabs-machine-learning-assessment-dfe89675d80f/data/docs/7899494.json  \n",
            "  inflating: spotmentorlabs-machine-learning-assessment-dfe89675d80f/data/docs/7899500.json  \n",
            "  inflating: spotmentorlabs-machine-learning-assessment-dfe89675d80f/data/docs/7903385.json  \n",
            "  inflating: spotmentorlabs-machine-learning-assessment-dfe89675d80f/data/docs/7903427.json  \n",
            "  inflating: spotmentorlabs-machine-learning-assessment-dfe89675d80f/data/docs/7903513.json  \n",
            "  inflating: spotmentorlabs-machine-learning-assessment-dfe89675d80f/data/docs/7903529.json  \n",
            "  inflating: spotmentorlabs-machine-learning-assessment-dfe89675d80f/data/docs/7903545.json  \n",
            "  inflating: spotmentorlabs-machine-learning-assessment-dfe89675d80f/data/docs/7904555.json  \n",
            "  inflating: spotmentorlabs-machine-learning-assessment-dfe89675d80f/data/docs/7906245.json  \n",
            "  inflating: spotmentorlabs-machine-learning-assessment-dfe89675d80f/data/docs/7906439.json  \n",
            "  inflating: spotmentorlabs-machine-learning-assessment-dfe89675d80f/data/docs/7908039.json  \n",
            "  inflating: spotmentorlabs-machine-learning-assessment-dfe89675d80f/data/docs/7908151.json  \n",
            "  inflating: spotmentorlabs-machine-learning-assessment-dfe89675d80f/data/docs/7908559.json  \n",
            "  inflating: spotmentorlabs-machine-learning-assessment-dfe89675d80f/data/docs/7908979.json  \n",
            "  inflating: spotmentorlabs-machine-learning-assessment-dfe89675d80f/data/docs/7909207.json  \n",
            "  inflating: spotmentorlabs-machine-learning-assessment-dfe89675d80f/data/docs/7910945.json  \n",
            "  inflating: spotmentorlabs-machine-learning-assessment-dfe89675d80f/data/docs/7911323.json  \n",
            "  inflating: spotmentorlabs-machine-learning-assessment-dfe89675d80f/data/docs/7911731.json  \n",
            "  inflating: spotmentorlabs-machine-learning-assessment-dfe89675d80f/data/docs/7911981.json  \n",
            "  inflating: spotmentorlabs-machine-learning-assessment-dfe89675d80f/data/docs/7912733.json  \n",
            "  inflating: spotmentorlabs-machine-learning-assessment-dfe89675d80f/data/docs/7913013.json  \n",
            "  inflating: spotmentorlabs-machine-learning-assessment-dfe89675d80f/data/docs/7913466.json  \n",
            "  inflating: spotmentorlabs-machine-learning-assessment-dfe89675d80f/data/docs/7913470.json  \n",
            "  inflating: spotmentorlabs-machine-learning-assessment-dfe89675d80f/data/docs/7913472.json  \n",
            "  inflating: spotmentorlabs-machine-learning-assessment-dfe89675d80f/data/docs/7913474.json  \n",
            "  inflating: spotmentorlabs-machine-learning-assessment-dfe89675d80f/data/docs/7913478.json  \n",
            "  inflating: spotmentorlabs-machine-learning-assessment-dfe89675d80f/data/docs/7913480.json  \n",
            "  inflating: spotmentorlabs-machine-learning-assessment-dfe89675d80f/data/docs/7917996.json  \n",
            "  inflating: spotmentorlabs-machine-learning-assessment-dfe89675d80f/data/docs/7918034.json  \n",
            "  inflating: spotmentorlabs-machine-learning-assessment-dfe89675d80f/data/docs/7918040.json  \n",
            "  inflating: spotmentorlabs-machine-learning-assessment-dfe89675d80f/data/docs/7918164.json  \n",
            "  inflating: spotmentorlabs-machine-learning-assessment-dfe89675d80f/data/docs/7922868.json  \n",
            "  inflating: spotmentorlabs-machine-learning-assessment-dfe89675d80f/data/docs/7922962.json  \n",
            "  inflating: spotmentorlabs-machine-learning-assessment-dfe89675d80f/data/docs/7922986.json  \n",
            "  inflating: spotmentorlabs-machine-learning-assessment-dfe89675d80f/data/docs/7923488.json  \n",
            "  inflating: spotmentorlabs-machine-learning-assessment-dfe89675d80f/data/docs/7924931.json  \n",
            "  inflating: spotmentorlabs-machine-learning-assessment-dfe89675d80f/data/docs/7925167.json  \n",
            "  inflating: spotmentorlabs-machine-learning-assessment-dfe89675d80f/data/docs/7926157.json  \n",
            "  inflating: spotmentorlabs-machine-learning-assessment-dfe89675d80f/data/docs/7926169.json  \n",
            "  inflating: spotmentorlabs-machine-learning-assessment-dfe89675d80f/data/docs/7926229.json  \n",
            "  inflating: spotmentorlabs-machine-learning-assessment-dfe89675d80f/data/docs/7928806.json  \n",
            "  inflating: spotmentorlabs-machine-learning-assessment-dfe89675d80f/data/docs/7930568.json  \n",
            "  inflating: spotmentorlabs-machine-learning-assessment-dfe89675d80f/data/docs/7930606.json  \n",
            "  inflating: spotmentorlabs-machine-learning-assessment-dfe89675d80f/data/docs/7930622.json  \n",
            "  inflating: spotmentorlabs-machine-learning-assessment-dfe89675d80f/data/docs/7930626.json  \n",
            "  inflating: spotmentorlabs-machine-learning-assessment-dfe89675d80f/data/docs/7930630.json  \n",
            "  inflating: spotmentorlabs-machine-learning-assessment-dfe89675d80f/data/docs/7930636.json  \n",
            "  inflating: spotmentorlabs-machine-learning-assessment-dfe89675d80f/data/docs/7930642.json  \n",
            "  inflating: spotmentorlabs-machine-learning-assessment-dfe89675d80f/data/docs/7930648.json  \n",
            "  inflating: spotmentorlabs-machine-learning-assessment-dfe89675d80f/data/docs/7930692.json  \n",
            "  inflating: spotmentorlabs-machine-learning-assessment-dfe89675d80f/data/docs/7931446.json  \n",
            "  inflating: spotmentorlabs-machine-learning-assessment-dfe89675d80f/data/docs/7931456.json  \n",
            "  inflating: spotmentorlabs-machine-learning-assessment-dfe89675d80f/data/docs/7932293.json  \n",
            "  inflating: spotmentorlabs-machine-learning-assessment-dfe89675d80f/data/docs/7934066.json  \n",
            "  inflating: spotmentorlabs-machine-learning-assessment-dfe89675d80f/data/docs/7934179.json  \n",
            "  inflating: spotmentorlabs-machine-learning-assessment-dfe89675d80f/data/docs/7934797.json  \n",
            "  inflating: spotmentorlabs-machine-learning-assessment-dfe89675d80f/data/docs/7937331.json  \n",
            "  inflating: spotmentorlabs-machine-learning-assessment-dfe89675d80f/data/docs/7937409.json  \n",
            "  inflating: spotmentorlabs-machine-learning-assessment-dfe89675d80f/data/docs/7937993.json  \n",
            "  inflating: spotmentorlabs-machine-learning-assessment-dfe89675d80f/data/docs/7938859.json  \n",
            "  inflating: spotmentorlabs-machine-learning-assessment-dfe89675d80f/data/docs/7939881.json  \n",
            "  inflating: spotmentorlabs-machine-learning-assessment-dfe89675d80f/data/docs/7939939.json  \n",
            "  inflating: spotmentorlabs-machine-learning-assessment-dfe89675d80f/data/docs/7940247.json  \n",
            "  inflating: spotmentorlabs-machine-learning-assessment-dfe89675d80f/data/docs/7940427.json  \n",
            "  inflating: spotmentorlabs-machine-learning-assessment-dfe89675d80f/data/docs/7940951.json  \n",
            "  inflating: spotmentorlabs-machine-learning-assessment-dfe89675d80f/data/docs/7941367.json  \n",
            "  inflating: spotmentorlabs-machine-learning-assessment-dfe89675d80f/data/docs/7941657.json  \n",
            "  inflating: spotmentorlabs-machine-learning-assessment-dfe89675d80f/data/docs/7948408.json  \n",
            "  inflating: spotmentorlabs-machine-learning-assessment-dfe89675d80f/data/docs/7951835.json  \n",
            "  inflating: spotmentorlabs-machine-learning-assessment-dfe89675d80f/data/docs/7951939.json  \n",
            "  inflating: spotmentorlabs-machine-learning-assessment-dfe89675d80f/data/docs/7952155.json  \n",
            "  inflating: spotmentorlabs-machine-learning-assessment-dfe89675d80f/data/docs/7954881.json  \n",
            "  inflating: spotmentorlabs-machine-learning-assessment-dfe89675d80f/data/docs/7956766.json  \n",
            "  inflating: spotmentorlabs-machine-learning-assessment-dfe89675d80f/data/docs/7959893.json  \n",
            "  inflating: spotmentorlabs-machine-learning-assessment-dfe89675d80f/data/docs/7959905.json  \n",
            "  inflating: spotmentorlabs-machine-learning-assessment-dfe89675d80f/data/docs/7960053.json  \n",
            "  inflating: spotmentorlabs-machine-learning-assessment-dfe89675d80f/data/docs/7960087.json  \n",
            "  inflating: spotmentorlabs-machine-learning-assessment-dfe89675d80f/data/docs/7960339.json  \n",
            "  inflating: spotmentorlabs-machine-learning-assessment-dfe89675d80f/data/docs/7960697.json  \n",
            "  inflating: spotmentorlabs-machine-learning-assessment-dfe89675d80f/data/docs/7960939.json  \n",
            "  inflating: spotmentorlabs-machine-learning-assessment-dfe89675d80f/data/docs/7960945.json  \n",
            "  inflating: spotmentorlabs-machine-learning-assessment-dfe89675d80f/data/docs/7960977.json  \n",
            "  inflating: spotmentorlabs-machine-learning-assessment-dfe89675d80f/data/docs/7961017.json  \n",
            "  inflating: spotmentorlabs-machine-learning-assessment-dfe89675d80f/data/docs/7961049.json  \n",
            "  inflating: spotmentorlabs-machine-learning-assessment-dfe89675d80f/data/docs/7962627.json  \n",
            "  inflating: spotmentorlabs-machine-learning-assessment-dfe89675d80f/data/docs/7963474.json  \n",
            "  inflating: spotmentorlabs-machine-learning-assessment-dfe89675d80f/data/docs/7963476.json  \n",
            "  inflating: spotmentorlabs-machine-learning-assessment-dfe89675d80f/data/docs/7963478.json  \n",
            "  inflating: spotmentorlabs-machine-learning-assessment-dfe89675d80f/data/docs/7963480.json  \n",
            "  inflating: spotmentorlabs-machine-learning-assessment-dfe89675d80f/data/docs/7963482.json  \n",
            "  inflating: spotmentorlabs-machine-learning-assessment-dfe89675d80f/data/docs/7963484.json  \n",
            "  inflating: spotmentorlabs-machine-learning-assessment-dfe89675d80f/data/docs/7963486.json  \n",
            "  inflating: spotmentorlabs-machine-learning-assessment-dfe89675d80f/data/docs/7963488.json  \n",
            "  inflating: spotmentorlabs-machine-learning-assessment-dfe89675d80f/data/docs/7963490.json  \n",
            "  inflating: spotmentorlabs-machine-learning-assessment-dfe89675d80f/data/docs/7963492.json  \n",
            "  inflating: spotmentorlabs-machine-learning-assessment-dfe89675d80f/data/docs/7963494.json  \n",
            "  inflating: spotmentorlabs-machine-learning-assessment-dfe89675d80f/data/docs/7963496.json  \n",
            "  inflating: spotmentorlabs-machine-learning-assessment-dfe89675d80f/data/docs/7963850.json  \n",
            "  inflating: spotmentorlabs-machine-learning-assessment-dfe89675d80f/data/docs/7963856.json  \n",
            "  inflating: spotmentorlabs-machine-learning-assessment-dfe89675d80f/data/docs/7964554.json  \n",
            "  inflating: spotmentorlabs-machine-learning-assessment-dfe89675d80f/data/docs/7964624.json  \n",
            "  inflating: spotmentorlabs-machine-learning-assessment-dfe89675d80f/data/docs/7966159.json  \n",
            "  inflating: spotmentorlabs-machine-learning-assessment-dfe89675d80f/data/docs/7966269.json  \n",
            "  inflating: spotmentorlabs-machine-learning-assessment-dfe89675d80f/data/docs/7966739.json  \n",
            "  inflating: spotmentorlabs-machine-learning-assessment-dfe89675d80f/data/docs/7967169.json  \n",
            "  inflating: spotmentorlabs-machine-learning-assessment-dfe89675d80f/data/docs/7967521.json  \n",
            "  inflating: spotmentorlabs-machine-learning-assessment-dfe89675d80f/data/docs/7967905.json  \n",
            "  inflating: spotmentorlabs-machine-learning-assessment-dfe89675d80f/data/docs/7967957.json  \n",
            "  inflating: spotmentorlabs-machine-learning-assessment-dfe89675d80f/data/docs/7967991.json  \n",
            "  inflating: spotmentorlabs-machine-learning-assessment-dfe89675d80f/data/docs/7968259.json  \n",
            "  inflating: spotmentorlabs-machine-learning-assessment-dfe89675d80f/data/docs/7971830.json  \n",
            "  inflating: spotmentorlabs-machine-learning-assessment-dfe89675d80f/data/docs/7973245.json  \n",
            "  inflating: spotmentorlabs-machine-learning-assessment-dfe89675d80f/data/docs/7976191.json  \n",
            "  inflating: spotmentorlabs-machine-learning-assessment-dfe89675d80f/data/docs/7977823.json  \n",
            "  inflating: spotmentorlabs-machine-learning-assessment-dfe89675d80f/data/docs/7977827.json  \n",
            "  inflating: spotmentorlabs-machine-learning-assessment-dfe89675d80f/data/docs/7979955.json  \n",
            "  inflating: spotmentorlabs-machine-learning-assessment-dfe89675d80f/data/docs/7980139.json  \n",
            "  inflating: spotmentorlabs-machine-learning-assessment-dfe89675d80f/data/docs/7981330.json  \n",
            "  inflating: spotmentorlabs-machine-learning-assessment-dfe89675d80f/data/docs/7981348.json  \n",
            "  inflating: spotmentorlabs-machine-learning-assessment-dfe89675d80f/data/docs/7982912.json  \n",
            "  inflating: spotmentorlabs-machine-learning-assessment-dfe89675d80f/data/docs/7983430.json  \n",
            "  inflating: spotmentorlabs-machine-learning-assessment-dfe89675d80f/data/docs/7983566.json  \n",
            "  inflating: spotmentorlabs-machine-learning-assessment-dfe89675d80f/data/docs/7983570.json  \n",
            "  inflating: spotmentorlabs-machine-learning-assessment-dfe89675d80f/data/docs/7983718.json  \n",
            "  inflating: spotmentorlabs-machine-learning-assessment-dfe89675d80f/data/docs/7983720.json  \n",
            "  inflating: spotmentorlabs-machine-learning-assessment-dfe89675d80f/data/docs/7983724.json  \n",
            "  inflating: spotmentorlabs-machine-learning-assessment-dfe89675d80f/data/docs/7983726.json  \n",
            "  inflating: spotmentorlabs-machine-learning-assessment-dfe89675d80f/data/docs/7983728.json  \n",
            "  inflating: spotmentorlabs-machine-learning-assessment-dfe89675d80f/data/docs/7983732.json  \n",
            "  inflating: spotmentorlabs-machine-learning-assessment-dfe89675d80f/data/docs/7983734.json  \n",
            "  inflating: spotmentorlabs-machine-learning-assessment-dfe89675d80f/data/docs/7983740.json  \n",
            "  inflating: spotmentorlabs-machine-learning-assessment-dfe89675d80f/data/docs/7983742.json  \n",
            "  inflating: spotmentorlabs-machine-learning-assessment-dfe89675d80f/data/docs/7983744.json  \n",
            "  inflating: spotmentorlabs-machine-learning-assessment-dfe89675d80f/data/docs/7983746.json  \n",
            "  inflating: spotmentorlabs-machine-learning-assessment-dfe89675d80f/data/docs/7983748.json  \n",
            "  inflating: spotmentorlabs-machine-learning-assessment-dfe89675d80f/data/docs/7983750.json  \n",
            "  inflating: spotmentorlabs-machine-learning-assessment-dfe89675d80f/data/docs/7983752.json  \n",
            "  inflating: spotmentorlabs-machine-learning-assessment-dfe89675d80f/data/docs/7983754.json  \n",
            "  inflating: spotmentorlabs-machine-learning-assessment-dfe89675d80f/data/docs/7983758.json  \n",
            "  inflating: spotmentorlabs-machine-learning-assessment-dfe89675d80f/data/docs/7983760.json  \n",
            "  inflating: spotmentorlabs-machine-learning-assessment-dfe89675d80f/data/docs/7983762.json  \n",
            "  inflating: spotmentorlabs-machine-learning-assessment-dfe89675d80f/data/docs/7983764.json  \n",
            "  inflating: spotmentorlabs-machine-learning-assessment-dfe89675d80f/data/docs/7985444.json  \n",
            "  inflating: spotmentorlabs-machine-learning-assessment-dfe89675d80f/data/docs/7985446.json  \n",
            "  inflating: spotmentorlabs-machine-learning-assessment-dfe89675d80f/data/docs/7985472.json  \n",
            "  inflating: spotmentorlabs-machine-learning-assessment-dfe89675d80f/data/docs/7986625.json  \n",
            "  inflating: spotmentorlabs-machine-learning-assessment-dfe89675d80f/data/docs/7987491.json  \n",
            "  inflating: spotmentorlabs-machine-learning-assessment-dfe89675d80f/data/docs/7987779.json  \n",
            "  inflating: spotmentorlabs-machine-learning-assessment-dfe89675d80f/data/docs/7987903.json  \n",
            "  inflating: spotmentorlabs-machine-learning-assessment-dfe89675d80f/data/docs/7987961.json  \n",
            "  inflating: spotmentorlabs-machine-learning-assessment-dfe89675d80f/data/docs/7988039.json  \n",
            "  inflating: spotmentorlabs-machine-learning-assessment-dfe89675d80f/data/docs/7989440.json  \n",
            "  inflating: spotmentorlabs-machine-learning-assessment-dfe89675d80f/data/docs/7989442.json  \n",
            "  inflating: spotmentorlabs-machine-learning-assessment-dfe89675d80f/data/docs/7991308.json  \n",
            "  inflating: spotmentorlabs-machine-learning-assessment-dfe89675d80f/data/docs/7992097.json  \n",
            "  inflating: spotmentorlabs-machine-learning-assessment-dfe89675d80f/data/docs/7994201.json  \n",
            "  inflating: spotmentorlabs-machine-learning-assessment-dfe89675d80f/data/docs/7994333.json  \n",
            "  inflating: spotmentorlabs-machine-learning-assessment-dfe89675d80f/data/docs/7994473.json  \n",
            "  inflating: spotmentorlabs-machine-learning-assessment-dfe89675d80f/data/docs/7994939.json  \n",
            "  inflating: spotmentorlabs-machine-learning-assessment-dfe89675d80f/data/docs/7995237.json  \n",
            "  inflating: spotmentorlabs-machine-learning-assessment-dfe89675d80f/data/docs/7999510.json  \n",
            "  inflating: spotmentorlabs-machine-learning-assessment-dfe89675d80f/data/docs/7999514.json  \n",
            "  inflating: spotmentorlabs-machine-learning-assessment-dfe89675d80f/data/docs/7999516.json  \n",
            "  inflating: spotmentorlabs-machine-learning-assessment-dfe89675d80f/data/docs/7999524.json  \n",
            "  inflating: spotmentorlabs-machine-learning-assessment-dfe89675d80f/data/docs/7999984.json  \n",
            "  inflating: spotmentorlabs-machine-learning-assessment-dfe89675d80f/data/docs/7999992.json  \n",
            "  inflating: spotmentorlabs-machine-learning-assessment-dfe89675d80f/data/docs/8000100.json  \n",
            "  inflating: spotmentorlabs-machine-learning-assessment-dfe89675d80f/data/docs/8000758.json  \n",
            "  inflating: spotmentorlabs-machine-learning-assessment-dfe89675d80f/data/docs/8002481.json  \n",
            "  inflating: spotmentorlabs-machine-learning-assessment-dfe89675d80f/data/docs/8002493.json  \n",
            "  inflating: spotmentorlabs-machine-learning-assessment-dfe89675d80f/data/docs/8002555.json  \n",
            "  inflating: spotmentorlabs-machine-learning-assessment-dfe89675d80f/data/docs/8002901.json  \n",
            "  inflating: spotmentorlabs-machine-learning-assessment-dfe89675d80f/data/docs/8003317.json  \n",
            "  inflating: spotmentorlabs-machine-learning-assessment-dfe89675d80f/data/docs/8003609.json  \n",
            "  inflating: spotmentorlabs-machine-learning-assessment-dfe89675d80f/data/docs/8003765.json  \n",
            "  inflating: spotmentorlabs-machine-learning-assessment-dfe89675d80f/data/docs/8004853.json  \n",
            "  inflating: spotmentorlabs-machine-learning-assessment-dfe89675d80f/data/docs/8008048.json  \n",
            "  inflating: spotmentorlabs-machine-learning-assessment-dfe89675d80f/data/docs/8008822.json  \n",
            "  inflating: spotmentorlabs-machine-learning-assessment-dfe89675d80f/data/docs/8008824.json  \n",
            "  inflating: spotmentorlabs-machine-learning-assessment-dfe89675d80f/data/docs/8008826.json  \n",
            "  inflating: spotmentorlabs-machine-learning-assessment-dfe89675d80f/data/docs/8008828.json  \n",
            "  inflating: spotmentorlabs-machine-learning-assessment-dfe89675d80f/data/docs/8008830.json  \n",
            "  inflating: spotmentorlabs-machine-learning-assessment-dfe89675d80f/data/docs/8008832.json  \n",
            "  inflating: spotmentorlabs-machine-learning-assessment-dfe89675d80f/data/docs/8008834.json  \n",
            "  inflating: spotmentorlabs-machine-learning-assessment-dfe89675d80f/data/docs/8009898.json  \n",
            "  inflating: spotmentorlabs-machine-learning-assessment-dfe89675d80f/data/docs/8010737.json  \n",
            "  inflating: spotmentorlabs-machine-learning-assessment-dfe89675d80f/data/docs/8010981.json  \n",
            "  inflating: spotmentorlabs-machine-learning-assessment-dfe89675d80f/data/docs/8011059.json  \n",
            "  inflating: spotmentorlabs-machine-learning-assessment-dfe89675d80f/data/docs/8011117.json  \n",
            "  inflating: spotmentorlabs-machine-learning-assessment-dfe89675d80f/data/docs/8011297.json  \n",
            "  inflating: spotmentorlabs-machine-learning-assessment-dfe89675d80f/data/docs/8011339.json  \n",
            "  inflating: spotmentorlabs-machine-learning-assessment-dfe89675d80f/data/docs/8011341.json  \n",
            "  inflating: spotmentorlabs-machine-learning-assessment-dfe89675d80f/data/docs/8011345.json  \n",
            "  inflating: spotmentorlabs-machine-learning-assessment-dfe89675d80f/data/docs/8011347.json  \n",
            "  inflating: spotmentorlabs-machine-learning-assessment-dfe89675d80f/data/docs/8011385.json  \n",
            "  inflating: spotmentorlabs-machine-learning-assessment-dfe89675d80f/data/docs/8013253.json  \n",
            "  inflating: spotmentorlabs-machine-learning-assessment-dfe89675d80f/data/docs/8014064.json  \n",
            "  inflating: spotmentorlabs-machine-learning-assessment-dfe89675d80f/data/docs/8014066.json  \n",
            "  inflating: spotmentorlabs-machine-learning-assessment-dfe89675d80f/data/docs/8014068.json  \n",
            "  inflating: spotmentorlabs-machine-learning-assessment-dfe89675d80f/data/docs/8014070.json  \n",
            "  inflating: spotmentorlabs-machine-learning-assessment-dfe89675d80f/data/docs/8014072.json  \n",
            "  inflating: spotmentorlabs-machine-learning-assessment-dfe89675d80f/data/docs/8014074.json  \n",
            "  inflating: spotmentorlabs-machine-learning-assessment-dfe89675d80f/data/docs/8014076.json  \n",
            "  inflating: spotmentorlabs-machine-learning-assessment-dfe89675d80f/data/docs/8014078.json  \n",
            "  inflating: spotmentorlabs-machine-learning-assessment-dfe89675d80f/data/docs/8014080.json  \n",
            "  inflating: spotmentorlabs-machine-learning-assessment-dfe89675d80f/data/docs/8014082.json  \n",
            "  inflating: spotmentorlabs-machine-learning-assessment-dfe89675d80f/data/docs/8014084.json  \n",
            "  inflating: spotmentorlabs-machine-learning-assessment-dfe89675d80f/data/docs/8014086.json  \n",
            "  inflating: spotmentorlabs-machine-learning-assessment-dfe89675d80f/data/docs/8014090.json  \n",
            "  inflating: spotmentorlabs-machine-learning-assessment-dfe89675d80f/data/docs/8014092.json  \n",
            "  inflating: spotmentorlabs-machine-learning-assessment-dfe89675d80f/data/docs/8014094.json  \n",
            "  inflating: spotmentorlabs-machine-learning-assessment-dfe89675d80f/data/docs/8014096.json  \n",
            "  inflating: spotmentorlabs-machine-learning-assessment-dfe89675d80f/data/docs/8014098.json  \n",
            "  inflating: spotmentorlabs-machine-learning-assessment-dfe89675d80f/data/docs/8014100.json  \n",
            "  inflating: spotmentorlabs-machine-learning-assessment-dfe89675d80f/data/docs/8014102.json  \n",
            "  inflating: spotmentorlabs-machine-learning-assessment-dfe89675d80f/data/docs/8014104.json  \n",
            "  inflating: spotmentorlabs-machine-learning-assessment-dfe89675d80f/data/docs/8014106.json  \n",
            "  inflating: spotmentorlabs-machine-learning-assessment-dfe89675d80f/data/docs/8014108.json  \n",
            "  inflating: spotmentorlabs-machine-learning-assessment-dfe89675d80f/data/docs/8014110.json  \n",
            "  inflating: spotmentorlabs-machine-learning-assessment-dfe89675d80f/data/docs/8014112.json  \n",
            "  inflating: spotmentorlabs-machine-learning-assessment-dfe89675d80f/data/docs/8014114.json  \n",
            "  inflating: spotmentorlabs-machine-learning-assessment-dfe89675d80f/data/docs/8014976.json  \n",
            "  inflating: spotmentorlabs-machine-learning-assessment-dfe89675d80f/data/docs/8014978.json  \n",
            "  inflating: spotmentorlabs-machine-learning-assessment-dfe89675d80f/data/docs/8014980.json  \n",
            "  inflating: spotmentorlabs-machine-learning-assessment-dfe89675d80f/data/docs/8018461.json  \n",
            "  inflating: spotmentorlabs-machine-learning-assessment-dfe89675d80f/data/docs/8019271.json  \n",
            "  inflating: spotmentorlabs-machine-learning-assessment-dfe89675d80f/data/docs/8019553.json  \n",
            "  inflating: spotmentorlabs-machine-learning-assessment-dfe89675d80f/data/docs/8019561.json  \n",
            "  inflating: spotmentorlabs-machine-learning-assessment-dfe89675d80f/data/docs/8019999.json  \n",
            "  inflating: spotmentorlabs-machine-learning-assessment-dfe89675d80f/data/docs/8020035.json  \n",
            "  inflating: spotmentorlabs-machine-learning-assessment-dfe89675d80f/data/docs/8020065.json  \n",
            "  inflating: spotmentorlabs-machine-learning-assessment-dfe89675d80f/data/docs/8020083.json  \n",
            "  inflating: spotmentorlabs-machine-learning-assessment-dfe89675d80f/data/docs/8021136.json  \n",
            "  inflating: spotmentorlabs-machine-learning-assessment-dfe89675d80f/data/docs/8022470.json  \n",
            "  inflating: spotmentorlabs-machine-learning-assessment-dfe89675d80f/data/docs/8022474.json  \n",
            "  inflating: spotmentorlabs-machine-learning-assessment-dfe89675d80f/data/docs/8022476.json  \n",
            "  inflating: spotmentorlabs-machine-learning-assessment-dfe89675d80f/data/docs/8022482.json  \n",
            "  inflating: spotmentorlabs-machine-learning-assessment-dfe89675d80f/data/docs/8022500.json  \n",
            "  inflating: spotmentorlabs-machine-learning-assessment-dfe89675d80f/data/docs/8022514.json  \n",
            "  inflating: spotmentorlabs-machine-learning-assessment-dfe89675d80f/data/docs/8024006.json  \n",
            "  inflating: spotmentorlabs-machine-learning-assessment-dfe89675d80f/data/docs/8024008.json  \n",
            "  inflating: spotmentorlabs-machine-learning-assessment-dfe89675d80f/data/docs/8024010.json  \n",
            "  inflating: spotmentorlabs-machine-learning-assessment-dfe89675d80f/data/docs/8024012.json  \n",
            "  inflating: spotmentorlabs-machine-learning-assessment-dfe89675d80f/data/docs/8024014.json  \n",
            "  inflating: spotmentorlabs-machine-learning-assessment-dfe89675d80f/data/docs/8024016.json  \n",
            "  inflating: spotmentorlabs-machine-learning-assessment-dfe89675d80f/data/docs/8024018.json  \n",
            "  inflating: spotmentorlabs-machine-learning-assessment-dfe89675d80f/data/docs/8024020.json  \n",
            "  inflating: spotmentorlabs-machine-learning-assessment-dfe89675d80f/data/docs/8024868.json  \n",
            "  inflating: spotmentorlabs-machine-learning-assessment-dfe89675d80f/data/docs/8026365.json  \n",
            "  inflating: spotmentorlabs-machine-learning-assessment-dfe89675d80f/data/docs/8026763.json  \n",
            "  inflating: spotmentorlabs-machine-learning-assessment-dfe89675d80f/data/docs/8026799.json  \n",
            "  inflating: spotmentorlabs-machine-learning-assessment-dfe89675d80f/data/docs/8028251.json  \n",
            "  inflating: spotmentorlabs-machine-learning-assessment-dfe89675d80f/data/docs/8028999.json  \n",
            "  inflating: spotmentorlabs-machine-learning-assessment-dfe89675d80f/data/docs/8029293.json  \n",
            "  inflating: spotmentorlabs-machine-learning-assessment-dfe89675d80f/data/docs/8031354.json  \n",
            "  inflating: spotmentorlabs-machine-learning-assessment-dfe89675d80f/data/docs/8032364.json  \n",
            "  inflating: spotmentorlabs-machine-learning-assessment-dfe89675d80f/data/docs/8032628.json  \n",
            "  inflating: spotmentorlabs-machine-learning-assessment-dfe89675d80f/data/docs/8033058.json  \n",
            "  inflating: spotmentorlabs-machine-learning-assessment-dfe89675d80f/data/docs/8033292.json  \n",
            "  inflating: spotmentorlabs-machine-learning-assessment-dfe89675d80f/data/docs/8035377.json  \n",
            "  inflating: spotmentorlabs-machine-learning-assessment-dfe89675d80f/data/docs/8041245.json  \n",
            "  inflating: spotmentorlabs-machine-learning-assessment-dfe89675d80f/data/docs/8041946.json  \n",
            "  inflating: spotmentorlabs-machine-learning-assessment-dfe89675d80f/data/docs/8041960.json  \n",
            "  inflating: spotmentorlabs-machine-learning-assessment-dfe89675d80f/data/docs/8043630.json  \n",
            "  inflating: spotmentorlabs-machine-learning-assessment-dfe89675d80f/data/docs/8044547.json  \n",
            "  inflating: spotmentorlabs-machine-learning-assessment-dfe89675d80f/data/docs/8044559.json  \n",
            "  inflating: spotmentorlabs-machine-learning-assessment-dfe89675d80f/data/docs/8045219.json  \n",
            "  inflating: spotmentorlabs-machine-learning-assessment-dfe89675d80f/data/docs/8045777.json  \n",
            "  inflating: spotmentorlabs-machine-learning-assessment-dfe89675d80f/data/docs/8046105.json  \n",
            "  inflating: spotmentorlabs-machine-learning-assessment-dfe89675d80f/data/docs/8046113.json  \n",
            "  inflating: spotmentorlabs-machine-learning-assessment-dfe89675d80f/data/docs/8046115.json  \n",
            "  inflating: spotmentorlabs-machine-learning-assessment-dfe89675d80f/data/docs/8046117.json  \n",
            "  inflating: spotmentorlabs-machine-learning-assessment-dfe89675d80f/data/docs/8046123.json  \n",
            "  inflating: spotmentorlabs-machine-learning-assessment-dfe89675d80f/data/docs/8046145.json  \n",
            "  inflating: spotmentorlabs-machine-learning-assessment-dfe89675d80f/data/docs/8047939.json  \n",
            "  inflating: spotmentorlabs-machine-learning-assessment-dfe89675d80f/data/docs/8048401.json  \n",
            "  inflating: spotmentorlabs-machine-learning-assessment-dfe89675d80f/data/docs/8049678.json  \n",
            "  inflating: spotmentorlabs-machine-learning-assessment-dfe89675d80f/data/docs/8049800.json  \n",
            "  inflating: spotmentorlabs-machine-learning-assessment-dfe89675d80f/data/docs/8050426.json  \n",
            "  inflating: spotmentorlabs-machine-learning-assessment-dfe89675d80f/data/docs/8053027.json  \n",
            "  inflating: spotmentorlabs-machine-learning-assessment-dfe89675d80f/data/docs/8053101.json  \n",
            "  inflating: spotmentorlabs-machine-learning-assessment-dfe89675d80f/data/docs/8053159.json  \n",
            "  inflating: spotmentorlabs-machine-learning-assessment-dfe89675d80f/data/docs/8053351.json  \n",
            "  inflating: spotmentorlabs-machine-learning-assessment-dfe89675d80f/data/docs/8054728.json  \n",
            "  inflating: spotmentorlabs-machine-learning-assessment-dfe89675d80f/data/docs/8054888.json  \n",
            "  inflating: spotmentorlabs-machine-learning-assessment-dfe89675d80f/data/docs/8054890.json  \n",
            "  inflating: spotmentorlabs-machine-learning-assessment-dfe89675d80f/data/docs/8056905.json  \n",
            "  inflating: spotmentorlabs-machine-learning-assessment-dfe89675d80f/data/docs/8057230.json  \n",
            "  inflating: spotmentorlabs-machine-learning-assessment-dfe89675d80f/data/docs/8057232.json  \n",
            "  inflating: spotmentorlabs-machine-learning-assessment-dfe89675d80f/data/docs/8058909.json  \n",
            "  inflating: spotmentorlabs-machine-learning-assessment-dfe89675d80f/data/docs/8059373.json  \n",
            "  inflating: spotmentorlabs-machine-learning-assessment-dfe89675d80f/data/docs/8059407.json  \n",
            "  inflating: spotmentorlabs-machine-learning-assessment-dfe89675d80f/data/docs/8059425.json  \n",
            "  inflating: spotmentorlabs-machine-learning-assessment-dfe89675d80f/data/docs/8059447.json  \n",
            "  inflating: spotmentorlabs-machine-learning-assessment-dfe89675d80f/data/docs/8059461.json  \n",
            "  inflating: spotmentorlabs-machine-learning-assessment-dfe89675d80f/data/docs/8059581.json  \n",
            "  inflating: spotmentorlabs-machine-learning-assessment-dfe89675d80f/data/docs/8059639.json  \n",
            "  inflating: spotmentorlabs-machine-learning-assessment-dfe89675d80f/data/docs/8059703.json  \n",
            "  inflating: spotmentorlabs-machine-learning-assessment-dfe89675d80f/data/docs/8061185.json  \n",
            "  inflating: spotmentorlabs-machine-learning-assessment-dfe89675d80f/data/docs/8061193.json  \n",
            "  inflating: spotmentorlabs-machine-learning-assessment-dfe89675d80f/data/docs/8061195.json  \n",
            "  inflating: spotmentorlabs-machine-learning-assessment-dfe89675d80f/data/docs/8061197.json  \n",
            "  inflating: spotmentorlabs-machine-learning-assessment-dfe89675d80f/data/docs/8061249.json  \n",
            "  inflating: spotmentorlabs-machine-learning-assessment-dfe89675d80f/data/docs/8061349.json  \n",
            "  inflating: spotmentorlabs-machine-learning-assessment-dfe89675d80f/data/docs/8061611.json  \n",
            "  inflating: spotmentorlabs-machine-learning-assessment-dfe89675d80f/data/docs/8061691.json  \n",
            "  inflating: spotmentorlabs-machine-learning-assessment-dfe89675d80f/data/docs/8061697.json  \n",
            "  inflating: spotmentorlabs-machine-learning-assessment-dfe89675d80f/data/docs/8061711.json  \n",
            "  inflating: spotmentorlabs-machine-learning-assessment-dfe89675d80f/data/docs/8061739.json  \n",
            "  inflating: spotmentorlabs-machine-learning-assessment-dfe89675d80f/data/docs/8061789.json  \n",
            "  inflating: spotmentorlabs-machine-learning-assessment-dfe89675d80f/data/docs/8061943.json  \n",
            "  inflating: spotmentorlabs-machine-learning-assessment-dfe89675d80f/data/docs/8063998.json  \n",
            "  inflating: spotmentorlabs-machine-learning-assessment-dfe89675d80f/data/docs/8064014.json  \n",
            "  inflating: spotmentorlabs-machine-learning-assessment-dfe89675d80f/data/docs/8064718.json  \n",
            "  inflating: spotmentorlabs-machine-learning-assessment-dfe89675d80f/data/docs/8066330.json  \n",
            "  inflating: spotmentorlabs-machine-learning-assessment-dfe89675d80f/data/docs/8066769.json  \n",
            "  inflating: spotmentorlabs-machine-learning-assessment-dfe89675d80f/data/docs/8067133.json  \n",
            "  inflating: spotmentorlabs-machine-learning-assessment-dfe89675d80f/data/docs/8067151.json  \n",
            "  inflating: spotmentorlabs-machine-learning-assessment-dfe89675d80f/data/docs/8068684.json  \n",
            "  inflating: spotmentorlabs-machine-learning-assessment-dfe89675d80f/data/docs/8068686.json  \n",
            "  inflating: spotmentorlabs-machine-learning-assessment-dfe89675d80f/data/docs/8068690.json  \n",
            "  inflating: spotmentorlabs-machine-learning-assessment-dfe89675d80f/data/docs/8068692.json  \n",
            "  inflating: spotmentorlabs-machine-learning-assessment-dfe89675d80f/data/docs/8068694.json  \n",
            "  inflating: spotmentorlabs-machine-learning-assessment-dfe89675d80f/data/docs/8068696.json  \n",
            "  inflating: spotmentorlabs-machine-learning-assessment-dfe89675d80f/data/docs/8070108.json  \n",
            "  inflating: spotmentorlabs-machine-learning-assessment-dfe89675d80f/data/docs/8071847.json  \n",
            "  inflating: spotmentorlabs-machine-learning-assessment-dfe89675d80f/data/docs/8072835.json  \n",
            "  inflating: spotmentorlabs-machine-learning-assessment-dfe89675d80f/data/docs/8072839.json  \n",
            "  inflating: spotmentorlabs-machine-learning-assessment-dfe89675d80f/data/docs/8072849.json  \n",
            "  inflating: spotmentorlabs-machine-learning-assessment-dfe89675d80f/data/docs/8072895.json  \n",
            "  inflating: spotmentorlabs-machine-learning-assessment-dfe89675d80f/data/docs/8072897.json  \n",
            "  inflating: spotmentorlabs-machine-learning-assessment-dfe89675d80f/data/docs/8072899.json  \n",
            "  inflating: spotmentorlabs-machine-learning-assessment-dfe89675d80f/data/docs/8072903.json  \n",
            "  inflating: spotmentorlabs-machine-learning-assessment-dfe89675d80f/data/docs/8072907.json  \n",
            "  inflating: spotmentorlabs-machine-learning-assessment-dfe89675d80f/data/docs/8072919.json  \n",
            "  inflating: spotmentorlabs-machine-learning-assessment-dfe89675d80f/data/docs/8074101.json  \n",
            "  inflating: spotmentorlabs-machine-learning-assessment-dfe89675d80f/data/docs/8074621.json  \n",
            "  inflating: spotmentorlabs-machine-learning-assessment-dfe89675d80f/data/docs/8077276.json  \n",
            "  inflating: spotmentorlabs-machine-learning-assessment-dfe89675d80f/data/docs/8077278.json  \n",
            "  inflating: spotmentorlabs-machine-learning-assessment-dfe89675d80f/data/docs/8077280.json  \n",
            "  inflating: spotmentorlabs-machine-learning-assessment-dfe89675d80f/data/docs/8077282.json  \n",
            "  inflating: spotmentorlabs-machine-learning-assessment-dfe89675d80f/data/docs/8077438.json  \n",
            "  inflating: spotmentorlabs-machine-learning-assessment-dfe89675d80f/data/docs/8077442.json  \n",
            "  inflating: spotmentorlabs-machine-learning-assessment-dfe89675d80f/data/docs/8077444.json  \n",
            "  inflating: spotmentorlabs-machine-learning-assessment-dfe89675d80f/data/docs/8077452.json  \n",
            "  inflating: spotmentorlabs-machine-learning-assessment-dfe89675d80f/data/docs/8077474.json  \n",
            "  inflating: spotmentorlabs-machine-learning-assessment-dfe89675d80f/data/docs/8079863.json  \n",
            "  inflating: spotmentorlabs-machine-learning-assessment-dfe89675d80f/data/docs/8079879.json  \n",
            "  inflating: spotmentorlabs-machine-learning-assessment-dfe89675d80f/data/docs/8080285.json  \n",
            "  inflating: spotmentorlabs-machine-learning-assessment-dfe89675d80f/data/docs/8080589.json  \n",
            "  inflating: spotmentorlabs-machine-learning-assessment-dfe89675d80f/data/docs/8084920.json  \n",
            "  inflating: spotmentorlabs-machine-learning-assessment-dfe89675d80f/data/docs/8084926.json  \n",
            "  inflating: spotmentorlabs-machine-learning-assessment-dfe89675d80f/data/docs/8085348.json  \n",
            "  inflating: spotmentorlabs-machine-learning-assessment-dfe89675d80f/data/docs/8086280.json  \n",
            "  inflating: spotmentorlabs-machine-learning-assessment-dfe89675d80f/data/docs/8087159.json  \n",
            "  inflating: spotmentorlabs-machine-learning-assessment-dfe89675d80f/data/docs/8087663.json  \n",
            "  inflating: spotmentorlabs-machine-learning-assessment-dfe89675d80f/data/docs/8087903.json  \n",
            "  inflating: spotmentorlabs-machine-learning-assessment-dfe89675d80f/data/docs/8087955.json  \n",
            "  inflating: spotmentorlabs-machine-learning-assessment-dfe89675d80f/data/docs/8089663.json  \n",
            "  inflating: spotmentorlabs-machine-learning-assessment-dfe89675d80f/data/docs/8089679.json  \n",
            "  inflating: spotmentorlabs-machine-learning-assessment-dfe89675d80f/data/docs/8089697.json  \n",
            "  inflating: spotmentorlabs-machine-learning-assessment-dfe89675d80f/data/docs/8090481.json  \n",
            "  inflating: spotmentorlabs-machine-learning-assessment-dfe89675d80f/data/docs/8091645.json  \n",
            "  inflating: spotmentorlabs-machine-learning-assessment-dfe89675d80f/data/docs/8095878.json  \n",
            "  inflating: spotmentorlabs-machine-learning-assessment-dfe89675d80f/data/docs/8097078.json  \n",
            "  inflating: spotmentorlabs-machine-learning-assessment-dfe89675d80f/data/docs/8097403.json  \n",
            "  inflating: spotmentorlabs-machine-learning-assessment-dfe89675d80f/data/docs/8097419.json  \n",
            "  inflating: spotmentorlabs-machine-learning-assessment-dfe89675d80f/data/docs/8097427.json  \n",
            "  inflating: spotmentorlabs-machine-learning-assessment-dfe89675d80f/data/docs/8097433.json  \n",
            "  inflating: spotmentorlabs-machine-learning-assessment-dfe89675d80f/data/docs/8097435.json  \n",
            "  inflating: spotmentorlabs-machine-learning-assessment-dfe89675d80f/data/docs/8097437.json  \n",
            "  inflating: spotmentorlabs-machine-learning-assessment-dfe89675d80f/data/docs/8097445.json  \n",
            "  inflating: spotmentorlabs-machine-learning-assessment-dfe89675d80f/data/docs/8097449.json  \n",
            "  inflating: spotmentorlabs-machine-learning-assessment-dfe89675d80f/data/docs/8097901.json  \n",
            "  inflating: spotmentorlabs-machine-learning-assessment-dfe89675d80f/data/docs/8097903.json  \n",
            "  inflating: spotmentorlabs-machine-learning-assessment-dfe89675d80f/data/docs/8097905.json  \n",
            "  inflating: spotmentorlabs-machine-learning-assessment-dfe89675d80f/data/docs/8097909.json  \n",
            "  inflating: spotmentorlabs-machine-learning-assessment-dfe89675d80f/data/docs/8097911.json  \n",
            "  inflating: spotmentorlabs-machine-learning-assessment-dfe89675d80f/data/docs/8099527.json  \n",
            "  inflating: spotmentorlabs-machine-learning-assessment-dfe89675d80f/data/docs/8100293.json  \n",
            "  inflating: spotmentorlabs-machine-learning-assessment-dfe89675d80f/data/docs/8100332.json  \n",
            "  inflating: spotmentorlabs-machine-learning-assessment-dfe89675d80f/data/docs/8101777.json  \n",
            "  inflating: spotmentorlabs-machine-learning-assessment-dfe89675d80f/data/docs/8102531.json  \n",
            "  inflating: spotmentorlabs-machine-learning-assessment-dfe89675d80f/data/docs/8102915.json  \n",
            "  inflating: spotmentorlabs-machine-learning-assessment-dfe89675d80f/data/docs/8103111.json  \n",
            "  inflating: spotmentorlabs-machine-learning-assessment-dfe89675d80f/data/docs/8103475.json  \n",
            "  inflating: spotmentorlabs-machine-learning-assessment-dfe89675d80f/data/docs/8104553.json  \n",
            "  inflating: spotmentorlabs-machine-learning-assessment-dfe89675d80f/data/docs/8105121.json  \n",
            "  inflating: spotmentorlabs-machine-learning-assessment-dfe89675d80f/data/docs/8105131.json  \n",
            "  inflating: spotmentorlabs-machine-learning-assessment-dfe89675d80f/data/docs/8105135.json  \n",
            "  inflating: spotmentorlabs-machine-learning-assessment-dfe89675d80f/data/docs/8108853.json  \n",
            "  inflating: spotmentorlabs-machine-learning-assessment-dfe89675d80f/data/docs/8109847.json  \n",
            "  inflating: spotmentorlabs-machine-learning-assessment-dfe89675d80f/data/docs/8111125.json  \n",
            "  inflating: spotmentorlabs-machine-learning-assessment-dfe89675d80f/data/docs/8115383.json  \n",
            "  inflating: spotmentorlabs-machine-learning-assessment-dfe89675d80f/data/docs/8115387.json  \n",
            "  inflating: spotmentorlabs-machine-learning-assessment-dfe89675d80f/data/docs/8115559.json  \n",
            "  inflating: spotmentorlabs-machine-learning-assessment-dfe89675d80f/data/docs/8115595.json  \n",
            "  inflating: spotmentorlabs-machine-learning-assessment-dfe89675d80f/data/docs/8115605.json  \n",
            "  inflating: spotmentorlabs-machine-learning-assessment-dfe89675d80f/data/docs/8115625.json  \n",
            "  inflating: spotmentorlabs-machine-learning-assessment-dfe89675d80f/data/docs/8115631.json  \n",
            "  inflating: spotmentorlabs-machine-learning-assessment-dfe89675d80f/data/docs/8115651.json  \n",
            "  inflating: spotmentorlabs-machine-learning-assessment-dfe89675d80f/data/docs/8115655.json  \n",
            "  inflating: spotmentorlabs-machine-learning-assessment-dfe89675d80f/data/docs/8115667.json  \n",
            "  inflating: spotmentorlabs-machine-learning-assessment-dfe89675d80f/data/docs/8115675.json  \n",
            "  inflating: spotmentorlabs-machine-learning-assessment-dfe89675d80f/data/docs/8115695.json  \n",
            "  inflating: spotmentorlabs-machine-learning-assessment-dfe89675d80f/data/docs/8115703.json  \n",
            "  inflating: spotmentorlabs-machine-learning-assessment-dfe89675d80f/data/docs/8115719.json  \n",
            "  inflating: spotmentorlabs-machine-learning-assessment-dfe89675d80f/data/docs/8115997.json  \n",
            "  inflating: spotmentorlabs-machine-learning-assessment-dfe89675d80f/data/docs/8116033.json  \n",
            "  inflating: spotmentorlabs-machine-learning-assessment-dfe89675d80f/data/docs/8116051.json  \n",
            "  inflating: spotmentorlabs-machine-learning-assessment-dfe89675d80f/data/docs/8116067.json  \n",
            "  inflating: spotmentorlabs-machine-learning-assessment-dfe89675d80f/data/docs/8116769.json  \n",
            "  inflating: spotmentorlabs-machine-learning-assessment-dfe89675d80f/data/docs/8116913.json  \n",
            "  inflating: spotmentorlabs-machine-learning-assessment-dfe89675d80f/data/docs/8118306.json  \n",
            "  inflating: spotmentorlabs-machine-learning-assessment-dfe89675d80f/data/docs/8121801.json  \n",
            "  inflating: spotmentorlabs-machine-learning-assessment-dfe89675d80f/data/docs/8125246.json  \n",
            "  inflating: spotmentorlabs-machine-learning-assessment-dfe89675d80f/data/docs/8126295.json  \n",
            "  inflating: spotmentorlabs-machine-learning-assessment-dfe89675d80f/data/docs/8126401.json  \n",
            "  inflating: spotmentorlabs-machine-learning-assessment-dfe89675d80f/data/docs/8126409.json  \n",
            "  inflating: spotmentorlabs-machine-learning-assessment-dfe89675d80f/data/docs/8126413.json  \n",
            "  inflating: spotmentorlabs-machine-learning-assessment-dfe89675d80f/data/docs/8126421.json  \n",
            "  inflating: spotmentorlabs-machine-learning-assessment-dfe89675d80f/data/docs/8126573.json  \n",
            "  inflating: spotmentorlabs-machine-learning-assessment-dfe89675d80f/data/docs/8126597.json  \n",
            "  inflating: spotmentorlabs-machine-learning-assessment-dfe89675d80f/data/docs/8126711.json  \n",
            "  inflating: spotmentorlabs-machine-learning-assessment-dfe89675d80f/data/docs/8127795.json  \n",
            "  inflating: spotmentorlabs-machine-learning-assessment-dfe89675d80f/data/docs/8129734.json  \n",
            "  inflating: spotmentorlabs-machine-learning-assessment-dfe89675d80f/data/docs/8131558.json  \n",
            "  inflating: spotmentorlabs-machine-learning-assessment-dfe89675d80f/data/docs/8131574.json  \n",
            "  inflating: spotmentorlabs-machine-learning-assessment-dfe89675d80f/data/docs/8131576.json  \n",
            "  inflating: spotmentorlabs-machine-learning-assessment-dfe89675d80f/data/docs/8131590.json  \n",
            "  inflating: spotmentorlabs-machine-learning-assessment-dfe89675d80f/data/docs/8135071.json  \n",
            "  inflating: spotmentorlabs-machine-learning-assessment-dfe89675d80f/data/docs/8135091.json  \n",
            "  inflating: spotmentorlabs-machine-learning-assessment-dfe89675d80f/data/docs/8135423.json  \n",
            "  inflating: spotmentorlabs-machine-learning-assessment-dfe89675d80f/data/docs/8135481.json  \n",
            "  inflating: spotmentorlabs-machine-learning-assessment-dfe89675d80f/data/docs/8135675.json  \n",
            "  inflating: spotmentorlabs-machine-learning-assessment-dfe89675d80f/data/docs/8136005.json  \n",
            "  inflating: spotmentorlabs-machine-learning-assessment-dfe89675d80f/data/docs/8136071.json  \n",
            "  inflating: spotmentorlabs-machine-learning-assessment-dfe89675d80f/data/docs/8136085.json  \n",
            "  inflating: spotmentorlabs-machine-learning-assessment-dfe89675d80f/data/docs/8136539.json  \n",
            "  inflating: spotmentorlabs-machine-learning-assessment-dfe89675d80f/data/docs/8136645.json  \n",
            "  inflating: spotmentorlabs-machine-learning-assessment-dfe89675d80f/data/docs/8136869.json  \n",
            "  inflating: spotmentorlabs-machine-learning-assessment-dfe89675d80f/data/docs/8136871.json  \n",
            "  inflating: spotmentorlabs-machine-learning-assessment-dfe89675d80f/data/docs/8136877.json  \n",
            "  inflating: spotmentorlabs-machine-learning-assessment-dfe89675d80f/data/docs/8136933.json  \n",
            "  inflating: spotmentorlabs-machine-learning-assessment-dfe89675d80f/data/docs/8136937.json  \n",
            "  inflating: spotmentorlabs-machine-learning-assessment-dfe89675d80f/data/docs/8136941.json  \n",
            "  inflating: spotmentorlabs-machine-learning-assessment-dfe89675d80f/data/docs/8136943.json  \n",
            "  inflating: spotmentorlabs-machine-learning-assessment-dfe89675d80f/data/docs/8136949.json  \n",
            "  inflating: spotmentorlabs-machine-learning-assessment-dfe89675d80f/data/docs/8136957.json  \n",
            "  inflating: spotmentorlabs-machine-learning-assessment-dfe89675d80f/data/docs/8136965.json  \n",
            "  inflating: spotmentorlabs-machine-learning-assessment-dfe89675d80f/data/docs/8136991.json  \n",
            "  inflating: spotmentorlabs-machine-learning-assessment-dfe89675d80f/data/docs/8137001.json  \n",
            "  inflating: spotmentorlabs-machine-learning-assessment-dfe89675d80f/data/docs/8137011.json  \n",
            "  inflating: spotmentorlabs-machine-learning-assessment-dfe89675d80f/data/docs/8137943.json  \n",
            "  inflating: spotmentorlabs-machine-learning-assessment-dfe89675d80f/data/docs/8139781.json  \n",
            "  inflating: spotmentorlabs-machine-learning-assessment-dfe89675d80f/data/docs/8140750.json  \n",
            "  inflating: spotmentorlabs-machine-learning-assessment-dfe89675d80f/data/docs/8141100.json  \n",
            "  inflating: spotmentorlabs-machine-learning-assessment-dfe89675d80f/data/docs/8141749.json  \n",
            "  inflating: spotmentorlabs-machine-learning-assessment-dfe89675d80f/data/docs/8142806.json  \n",
            "  inflating: spotmentorlabs-machine-learning-assessment-dfe89675d80f/data/docs/8143325.json  \n",
            "  inflating: spotmentorlabs-machine-learning-assessment-dfe89675d80f/data/docs/8143365.json  \n",
            "  inflating: spotmentorlabs-machine-learning-assessment-dfe89675d80f/data/docs/8143481.json  \n",
            "  inflating: spotmentorlabs-machine-learning-assessment-dfe89675d80f/data/docs/8143525.json  \n",
            "  inflating: spotmentorlabs-machine-learning-assessment-dfe89675d80f/data/docs/8143599.json  \n",
            "  inflating: spotmentorlabs-machine-learning-assessment-dfe89675d80f/data/docs/8143895.json  \n",
            "  inflating: spotmentorlabs-machine-learning-assessment-dfe89675d80f/data/docs/8143945.json  \n",
            "  inflating: spotmentorlabs-machine-learning-assessment-dfe89675d80f/data/docs/8144059.json  \n",
            "  inflating: spotmentorlabs-machine-learning-assessment-dfe89675d80f/data/docs/8144151.json  \n",
            "  inflating: spotmentorlabs-machine-learning-assessment-dfe89675d80f/data/docs/8144203.json  \n",
            "  inflating: spotmentorlabs-machine-learning-assessment-dfe89675d80f/data/docs/8144269.json  \n",
            "  inflating: spotmentorlabs-machine-learning-assessment-dfe89675d80f/data/docs/8144427.json  \n",
            "  inflating: spotmentorlabs-machine-learning-assessment-dfe89675d80f/data/docs/8145509.json  \n",
            "  inflating: spotmentorlabs-machine-learning-assessment-dfe89675d80f/data/docs/8147386.json  \n",
            "  inflating: spotmentorlabs-machine-learning-assessment-dfe89675d80f/data/docs/8150737.json  \n",
            "  inflating: spotmentorlabs-machine-learning-assessment-dfe89675d80f/data/docs/8153826.json  \n",
            "  inflating: spotmentorlabs-machine-learning-assessment-dfe89675d80f/data/docs/8153828.json  \n",
            "  inflating: spotmentorlabs-machine-learning-assessment-dfe89675d80f/data/docs/8153830.json  \n",
            "  inflating: spotmentorlabs-machine-learning-assessment-dfe89675d80f/data/docs/8153832.json  \n",
            "  inflating: spotmentorlabs-machine-learning-assessment-dfe89675d80f/data/docs/8153842.json  \n",
            "  inflating: spotmentorlabs-machine-learning-assessment-dfe89675d80f/data/docs/8153844.json  \n",
            "  inflating: spotmentorlabs-machine-learning-assessment-dfe89675d80f/data/docs/8153848.json  \n",
            "  inflating: spotmentorlabs-machine-learning-assessment-dfe89675d80f/data/docs/8153926.json  \n",
            "  inflating: spotmentorlabs-machine-learning-assessment-dfe89675d80f/data/docs/8153928.json  \n",
            "  inflating: spotmentorlabs-machine-learning-assessment-dfe89675d80f/data/docs/8153930.json  \n",
            "  inflating: spotmentorlabs-machine-learning-assessment-dfe89675d80f/data/docs/8156095.json  \n",
            "  inflating: spotmentorlabs-machine-learning-assessment-dfe89675d80f/data/docs/8156859.json  \n",
            "  inflating: spotmentorlabs-machine-learning-assessment-dfe89675d80f/data/docs/8157721.json  \n",
            "  inflating: spotmentorlabs-machine-learning-assessment-dfe89675d80f/data/docs/8157857.json  \n",
            "  inflating: spotmentorlabs-machine-learning-assessment-dfe89675d80f/data/docs/8157937.json  \n",
            "  inflating: spotmentorlabs-machine-learning-assessment-dfe89675d80f/data/docs/8158023.json  \n",
            "  inflating: spotmentorlabs-machine-learning-assessment-dfe89675d80f/data/docs/8158423.json  \n",
            "  inflating: spotmentorlabs-machine-learning-assessment-dfe89675d80f/data/docs/8158445.json  \n",
            "  inflating: spotmentorlabs-machine-learning-assessment-dfe89675d80f/data/docs/8158539.json  \n",
            "  inflating: spotmentorlabs-machine-learning-assessment-dfe89675d80f/data/docs/8158543.json  \n",
            "  inflating: spotmentorlabs-machine-learning-assessment-dfe89675d80f/data/docs/8158629.json  \n",
            "  inflating: spotmentorlabs-machine-learning-assessment-dfe89675d80f/data/docs/8158631.json  \n",
            "  inflating: spotmentorlabs-machine-learning-assessment-dfe89675d80f/data/docs/8158635.json  \n",
            "  inflating: spotmentorlabs-machine-learning-assessment-dfe89675d80f/data/docs/8158637.json  \n",
            "  inflating: spotmentorlabs-machine-learning-assessment-dfe89675d80f/data/docs/8158639.json  \n",
            "  inflating: spotmentorlabs-machine-learning-assessment-dfe89675d80f/data/docs/8158643.json  \n",
            "  inflating: spotmentorlabs-machine-learning-assessment-dfe89675d80f/data/docs/8158645.json  \n",
            "  inflating: spotmentorlabs-machine-learning-assessment-dfe89675d80f/data/docs/8158657.json  \n",
            "  inflating: spotmentorlabs-machine-learning-assessment-dfe89675d80f/data/docs/8158667.json  \n",
            "  inflating: spotmentorlabs-machine-learning-assessment-dfe89675d80f/data/docs/8159247.json  \n",
            "  inflating: spotmentorlabs-machine-learning-assessment-dfe89675d80f/data/docs/8159257.json  \n",
            "  inflating: spotmentorlabs-machine-learning-assessment-dfe89675d80f/data/docs/8159395.json  \n",
            "  inflating: spotmentorlabs-machine-learning-assessment-dfe89675d80f/data/docs/8160461.json  \n",
            "  inflating: spotmentorlabs-machine-learning-assessment-dfe89675d80f/data/docs/8160737.json  \n",
            "  inflating: spotmentorlabs-machine-learning-assessment-dfe89675d80f/data/docs/8161831.json  \n",
            "  inflating: spotmentorlabs-machine-learning-assessment-dfe89675d80f/data/docs/8161883.json  \n",
            "  inflating: spotmentorlabs-machine-learning-assessment-dfe89675d80f/data/docs/8162055.json  \n",
            "  inflating: spotmentorlabs-machine-learning-assessment-dfe89675d80f/data/docs/8162205.json  \n",
            "  inflating: spotmentorlabs-machine-learning-assessment-dfe89675d80f/data/docs/8163960.json  \n",
            "  inflating: spotmentorlabs-machine-learning-assessment-dfe89675d80f/data/docs/8164249.json  \n",
            "  inflating: spotmentorlabs-machine-learning-assessment-dfe89675d80f/data/docs/8164592.json  \n",
            "  inflating: spotmentorlabs-machine-learning-assessment-dfe89675d80f/data/docs/8164888.json  \n",
            "  inflating: spotmentorlabs-machine-learning-assessment-dfe89675d80f/data/docs/8165182.json  \n",
            "  inflating: spotmentorlabs-machine-learning-assessment-dfe89675d80f/data/docs/8165186.json  \n",
            "  inflating: spotmentorlabs-machine-learning-assessment-dfe89675d80f/data/docs/8165266.json  \n",
            "  inflating: spotmentorlabs-machine-learning-assessment-dfe89675d80f/data/docs/8165442.json  \n",
            "  inflating: spotmentorlabs-machine-learning-assessment-dfe89675d80f/data/docs/8165614.json  \n",
            "  inflating: spotmentorlabs-machine-learning-assessment-dfe89675d80f/data/docs/8165624.json  \n",
            "  inflating: spotmentorlabs-machine-learning-assessment-dfe89675d80f/data/docs/8165628.json  \n",
            "  inflating: spotmentorlabs-machine-learning-assessment-dfe89675d80f/data/docs/8165634.json  \n",
            "  inflating: spotmentorlabs-machine-learning-assessment-dfe89675d80f/data/docs/8165839.json  \n",
            "  inflating: spotmentorlabs-machine-learning-assessment-dfe89675d80f/data/docs/8168035.json  \n",
            "  inflating: spotmentorlabs-machine-learning-assessment-dfe89675d80f/data/docs/8168143.json  \n",
            "  inflating: spotmentorlabs-machine-learning-assessment-dfe89675d80f/data/docs/8168319.json  \n",
            "  inflating: spotmentorlabs-machine-learning-assessment-dfe89675d80f/data/docs/8168713.json  \n",
            "  inflating: spotmentorlabs-machine-learning-assessment-dfe89675d80f/data/docs/8169424.json  \n",
            "  inflating: spotmentorlabs-machine-learning-assessment-dfe89675d80f/data/docs/8169434.json  \n",
            "  inflating: spotmentorlabs-machine-learning-assessment-dfe89675d80f/data/docs/8169436.json  \n",
            "  inflating: spotmentorlabs-machine-learning-assessment-dfe89675d80f/data/docs/8170788.json  \n",
            "  inflating: spotmentorlabs-machine-learning-assessment-dfe89675d80f/data/docs/8170790.json  \n",
            "  inflating: spotmentorlabs-machine-learning-assessment-dfe89675d80f/data/docs/8170792.json  \n",
            "  inflating: spotmentorlabs-machine-learning-assessment-dfe89675d80f/data/docs/8171187.json  \n",
            "  inflating: spotmentorlabs-machine-learning-assessment-dfe89675d80f/data/docs/8171912.json  \n",
            "  inflating: spotmentorlabs-machine-learning-assessment-dfe89675d80f/data/docs/8172888.json  \n",
            "  inflating: spotmentorlabs-machine-learning-assessment-dfe89675d80f/data/docs/8172964.json  \n",
            "  inflating: spotmentorlabs-machine-learning-assessment-dfe89675d80f/data/docs/8172978.json  \n",
            "  inflating: spotmentorlabs-machine-learning-assessment-dfe89675d80f/data/docs/8172981.json  \n",
            "  inflating: spotmentorlabs-machine-learning-assessment-dfe89675d80f/data/docs/8173147.json  \n",
            "  inflating: spotmentorlabs-machine-learning-assessment-dfe89675d80f/data/docs/8173229.json  \n",
            "  inflating: spotmentorlabs-machine-learning-assessment-dfe89675d80f/data/docs/8173539.json  \n",
            "  inflating: spotmentorlabs-machine-learning-assessment-dfe89675d80f/data/docs/8173957.json  \n",
            "  inflating: spotmentorlabs-machine-learning-assessment-dfe89675d80f/data/docs/8174536.json  \n",
            "  inflating: spotmentorlabs-machine-learning-assessment-dfe89675d80f/data/docs/8175024.json  \n",
            "  inflating: spotmentorlabs-machine-learning-assessment-dfe89675d80f/data/docs/8175112.json  \n",
            "  inflating: spotmentorlabs-machine-learning-assessment-dfe89675d80f/data/docs/8177155.json  \n",
            "  inflating: spotmentorlabs-machine-learning-assessment-dfe89675d80f/data/docs/8177688.json  \n",
            "  inflating: spotmentorlabs-machine-learning-assessment-dfe89675d80f/data/docs/8177690.json  \n",
            "  inflating: spotmentorlabs-machine-learning-assessment-dfe89675d80f/data/docs/8177692.json  \n",
            "  inflating: spotmentorlabs-machine-learning-assessment-dfe89675d80f/data/docs/8177694.json  \n",
            "  inflating: spotmentorlabs-machine-learning-assessment-dfe89675d80f/data/docs/8180575.json  \n",
            "  inflating: spotmentorlabs-machine-learning-assessment-dfe89675d80f/data/docs/8180813.json  \n",
            "  inflating: spotmentorlabs-machine-learning-assessment-dfe89675d80f/data/docs/8180829.json  \n",
            "  inflating: spotmentorlabs-machine-learning-assessment-dfe89675d80f/data/docs/8180831.json  \n",
            "  inflating: spotmentorlabs-machine-learning-assessment-dfe89675d80f/data/docs/8180839.json  \n",
            "  inflating: spotmentorlabs-machine-learning-assessment-dfe89675d80f/data/docs/8180845.json  \n",
            "  inflating: spotmentorlabs-machine-learning-assessment-dfe89675d80f/data/docs/8180859.json  \n",
            "  inflating: spotmentorlabs-machine-learning-assessment-dfe89675d80f/data/docs/8180869.json  \n",
            "  inflating: spotmentorlabs-machine-learning-assessment-dfe89675d80f/data/docs/8180909.json  \n",
            "  inflating: spotmentorlabs-machine-learning-assessment-dfe89675d80f/data/docs/8180915.json  \n",
            "  inflating: spotmentorlabs-machine-learning-assessment-dfe89675d80f/data/docs/8180927.json  \n",
            "  inflating: spotmentorlabs-machine-learning-assessment-dfe89675d80f/data/docs/8181169.json  \n",
            "  inflating: spotmentorlabs-machine-learning-assessment-dfe89675d80f/data/docs/8186002.json  \n",
            "  inflating: spotmentorlabs-machine-learning-assessment-dfe89675d80f/data/docs/8186004.json  \n",
            "  inflating: spotmentorlabs-machine-learning-assessment-dfe89675d80f/data/docs/8188839.json  \n",
            "  inflating: spotmentorlabs-machine-learning-assessment-dfe89675d80f/data/docs/8189651.json  \n",
            "  inflating: spotmentorlabs-machine-learning-assessment-dfe89675d80f/data/docs/8189653.json  \n",
            "  inflating: spotmentorlabs-machine-learning-assessment-dfe89675d80f/data/docs/8189701.json  \n",
            "  inflating: spotmentorlabs-machine-learning-assessment-dfe89675d80f/data/docs/8189745.json  \n",
            "  inflating: spotmentorlabs-machine-learning-assessment-dfe89675d80f/data/docs/8189763.json  \n",
            "  inflating: spotmentorlabs-machine-learning-assessment-dfe89675d80f/data/docs/8190111.json  \n",
            "  inflating: spotmentorlabs-machine-learning-assessment-dfe89675d80f/data/docs/8190149.json  \n",
            "  inflating: spotmentorlabs-machine-learning-assessment-dfe89675d80f/data/docs/8192248.json  \n",
            "  inflating: spotmentorlabs-machine-learning-assessment-dfe89675d80f/data/docs/8192488.json  \n",
            "  inflating: spotmentorlabs-machine-learning-assessment-dfe89675d80f/data/docs/8194299.json  \n",
            "  inflating: spotmentorlabs-machine-learning-assessment-dfe89675d80f/data/docs/8194389.json  \n",
            "  inflating: spotmentorlabs-machine-learning-assessment-dfe89675d80f/data/docs/8196417.json  \n",
            "  inflating: spotmentorlabs-machine-learning-assessment-dfe89675d80f/data/docs/8196431.json  \n",
            "  inflating: spotmentorlabs-machine-learning-assessment-dfe89675d80f/data/docs/8196643.json  \n",
            "  inflating: spotmentorlabs-machine-learning-assessment-dfe89675d80f/data/docs/8197037.json  \n",
            "  inflating: spotmentorlabs-machine-learning-assessment-dfe89675d80f/data/docs/8197351.json  \n",
            "  inflating: spotmentorlabs-machine-learning-assessment-dfe89675d80f/data/docs/8197385.json  \n",
            "  inflating: spotmentorlabs-machine-learning-assessment-dfe89675d80f/data/docs/8197393.json  \n",
            "  inflating: spotmentorlabs-machine-learning-assessment-dfe89675d80f/data/docs/8198703.json  \n",
            "  inflating: spotmentorlabs-machine-learning-assessment-dfe89675d80f/data/docs/8199053.json  \n",
            "  inflating: spotmentorlabs-machine-learning-assessment-dfe89675d80f/data/docs/8199075.json  \n",
            "  inflating: spotmentorlabs-machine-learning-assessment-dfe89675d80f/data/docs/8199099.json  \n",
            "  inflating: spotmentorlabs-machine-learning-assessment-dfe89675d80f/data/docs/8199123.json  \n",
            "  inflating: spotmentorlabs-machine-learning-assessment-dfe89675d80f/data/docs/8199209.json  \n",
            "  inflating: spotmentorlabs-machine-learning-assessment-dfe89675d80f/data/docs/8199215.json  \n",
            "  inflating: spotmentorlabs-machine-learning-assessment-dfe89675d80f/data/docs/8199393.json  \n",
            "  inflating: spotmentorlabs-machine-learning-assessment-dfe89675d80f/data/docs/8199403.json  \n",
            "  inflating: spotmentorlabs-machine-learning-assessment-dfe89675d80f/data/docs/8199565.json  \n",
            "  inflating: spotmentorlabs-machine-learning-assessment-dfe89675d80f/data/docs/8200011.json  \n",
            "  inflating: spotmentorlabs-machine-learning-assessment-dfe89675d80f/data/docs/8202719.json  \n",
            "  inflating: spotmentorlabs-machine-learning-assessment-dfe89675d80f/data/docs/8203166.json  \n",
            "  inflating: spotmentorlabs-machine-learning-assessment-dfe89675d80f/data/docs/8203232.json  \n",
            "  inflating: spotmentorlabs-machine-learning-assessment-dfe89675d80f/data/docs/8203252.json  \n",
            "  inflating: spotmentorlabs-machine-learning-assessment-dfe89675d80f/data/docs/8206879.json  \n",
            "  inflating: spotmentorlabs-machine-learning-assessment-dfe89675d80f/data/docs/8207277.json  \n",
            "  inflating: spotmentorlabs-machine-learning-assessment-dfe89675d80f/data/docs/8207723.json  \n",
            "  inflating: spotmentorlabs-machine-learning-assessment-dfe89675d80f/data/docs/8207727.json  \n",
            "  inflating: spotmentorlabs-machine-learning-assessment-dfe89675d80f/data/docs/8207731.json  \n",
            "  inflating: spotmentorlabs-machine-learning-assessment-dfe89675d80f/data/docs/8207737.json  \n",
            "  inflating: spotmentorlabs-machine-learning-assessment-dfe89675d80f/data/docs/8207751.json  \n",
            "  inflating: spotmentorlabs-machine-learning-assessment-dfe89675d80f/data/docs/8207767.json  \n",
            "  inflating: spotmentorlabs-machine-learning-assessment-dfe89675d80f/data/docs/8208497.json  \n",
            "  inflating: spotmentorlabs-machine-learning-assessment-dfe89675d80f/data/docs/8208767.json  \n",
            "  inflating: spotmentorlabs-machine-learning-assessment-dfe89675d80f/data/docs/8208769.json  \n",
            "  inflating: spotmentorlabs-machine-learning-assessment-dfe89675d80f/data/docs/8208771.json  \n",
            "  inflating: spotmentorlabs-machine-learning-assessment-dfe89675d80f/data/docs/8208777.json  \n",
            "  inflating: spotmentorlabs-machine-learning-assessment-dfe89675d80f/data/docs/8210074.json  \n",
            "  inflating: spotmentorlabs-machine-learning-assessment-dfe89675d80f/data/docs/8210186.json  \n",
            "  inflating: spotmentorlabs-machine-learning-assessment-dfe89675d80f/data/docs/8212406.json  \n",
            "  inflating: spotmentorlabs-machine-learning-assessment-dfe89675d80f/data/docs/8212408.json  \n",
            "  inflating: spotmentorlabs-machine-learning-assessment-dfe89675d80f/data/docs/8212410.json  \n",
            "  inflating: spotmentorlabs-machine-learning-assessment-dfe89675d80f/data/docs/8213541.json  \n",
            "  inflating: spotmentorlabs-machine-learning-assessment-dfe89675d80f/data/docs/8215257.json  \n",
            "  inflating: spotmentorlabs-machine-learning-assessment-dfe89675d80f/data/docs/8218701.json  \n",
            "  inflating: spotmentorlabs-machine-learning-assessment-dfe89675d80f/data/docs/8218871.json  \n",
            "  inflating: spotmentorlabs-machine-learning-assessment-dfe89675d80f/data/docs/8218979.json  \n",
            "  inflating: spotmentorlabs-machine-learning-assessment-dfe89675d80f/data/docs/8219711.json  \n",
            "  inflating: spotmentorlabs-machine-learning-assessment-dfe89675d80f/data/docs/8219751.json  \n",
            "  inflating: spotmentorlabs-machine-learning-assessment-dfe89675d80f/data/docs/8219883.json  \n",
            "  inflating: spotmentorlabs-machine-learning-assessment-dfe89675d80f/data/docs/8220397.json  \n",
            "  inflating: spotmentorlabs-machine-learning-assessment-dfe89675d80f/data/docs/8220399.json  \n",
            "  inflating: spotmentorlabs-machine-learning-assessment-dfe89675d80f/data/docs/8220401.json  \n",
            "  inflating: spotmentorlabs-machine-learning-assessment-dfe89675d80f/data/docs/8220403.json  \n",
            "  inflating: spotmentorlabs-machine-learning-assessment-dfe89675d80f/data/docs/8220405.json  \n",
            "  inflating: spotmentorlabs-machine-learning-assessment-dfe89675d80f/data/docs/8220407.json  \n",
            "  inflating: spotmentorlabs-machine-learning-assessment-dfe89675d80f/data/docs/8220409.json  \n",
            "  inflating: spotmentorlabs-machine-learning-assessment-dfe89675d80f/data/docs/8220411.json  \n",
            "  inflating: spotmentorlabs-machine-learning-assessment-dfe89675d80f/data/docs/8220421.json  \n",
            "  inflating: spotmentorlabs-machine-learning-assessment-dfe89675d80f/data/docs/8220423.json  \n",
            "  inflating: spotmentorlabs-machine-learning-assessment-dfe89675d80f/data/docs/8220523.json  \n",
            "  inflating: spotmentorlabs-machine-learning-assessment-dfe89675d80f/data/docs/8222378.json  \n",
            "  inflating: spotmentorlabs-machine-learning-assessment-dfe89675d80f/data/docs/8223960.json  \n",
            "  inflating: spotmentorlabs-machine-learning-assessment-dfe89675d80f/data/docs/8226067.json  \n",
            "  inflating: spotmentorlabs-machine-learning-assessment-dfe89675d80f/data/docs/8226781.json  \n",
            "  inflating: spotmentorlabs-machine-learning-assessment-dfe89675d80f/data/docs/8226999.json  \n",
            "  inflating: spotmentorlabs-machine-learning-assessment-dfe89675d80f/data/docs/8227009.json  \n",
            "  inflating: spotmentorlabs-machine-learning-assessment-dfe89675d80f/data/docs/8227057.json  \n",
            "  inflating: spotmentorlabs-machine-learning-assessment-dfe89675d80f/data/docs/8227097.json  \n",
            "  inflating: spotmentorlabs-machine-learning-assessment-dfe89675d80f/data/docs/8227235.json  \n",
            "  inflating: spotmentorlabs-machine-learning-assessment-dfe89675d80f/data/docs/8227243.json  \n",
            "  inflating: spotmentorlabs-machine-learning-assessment-dfe89675d80f/data/docs/8227375.json  \n",
            "  inflating: spotmentorlabs-machine-learning-assessment-dfe89675d80f/data/docs/8228113.json  \n",
            "  inflating: spotmentorlabs-machine-learning-assessment-dfe89675d80f/data/docs/8228484.json  \n",
            "  inflating: spotmentorlabs-machine-learning-assessment-dfe89675d80f/data/docs/8228600.json  \n",
            "  inflating: spotmentorlabs-machine-learning-assessment-dfe89675d80f/data/docs/8228602.json  \n",
            "  inflating: spotmentorlabs-machine-learning-assessment-dfe89675d80f/data/docs/8228604.json  \n",
            "  inflating: spotmentorlabs-machine-learning-assessment-dfe89675d80f/data/docs/8231256.json  \n",
            "  inflating: spotmentorlabs-machine-learning-assessment-dfe89675d80f/data/docs/8233904.json  \n",
            "  inflating: spotmentorlabs-machine-learning-assessment-dfe89675d80f/data/docs/8234150.json  \n",
            "  inflating: spotmentorlabs-machine-learning-assessment-dfe89675d80f/data/docs/8234205.json  \n",
            "  inflating: spotmentorlabs-machine-learning-assessment-dfe89675d80f/data/docs/8234653.json  \n",
            "  inflating: spotmentorlabs-machine-learning-assessment-dfe89675d80f/data/docs/8234718.json  \n",
            "  inflating: spotmentorlabs-machine-learning-assessment-dfe89675d80f/data/docs/8235111.json  \n",
            "  inflating: spotmentorlabs-machine-learning-assessment-dfe89675d80f/data/docs/8235183.json  \n",
            "  inflating: spotmentorlabs-machine-learning-assessment-dfe89675d80f/data/docs/8235203.json  \n",
            "  inflating: spotmentorlabs-machine-learning-assessment-dfe89675d80f/data/docs/8235755.json  \n",
            "  inflating: spotmentorlabs-machine-learning-assessment-dfe89675d80f/data/docs/8236051.json  \n",
            "  inflating: spotmentorlabs-machine-learning-assessment-dfe89675d80f/data/docs/8241719.json  \n",
            "  inflating: spotmentorlabs-machine-learning-assessment-dfe89675d80f/data/docs/8242715.json  \n",
            "  inflating: spotmentorlabs-machine-learning-assessment-dfe89675d80f/data/docs/8242739.json  \n",
            "  inflating: spotmentorlabs-machine-learning-assessment-dfe89675d80f/data/docs/8242799.json  \n",
            "  inflating: spotmentorlabs-machine-learning-assessment-dfe89675d80f/data/docs/8243533.json  \n",
            "  inflating: spotmentorlabs-machine-learning-assessment-dfe89675d80f/data/docs/8243919.json  \n",
            "  inflating: spotmentorlabs-machine-learning-assessment-dfe89675d80f/data/docs/8245653.json  \n",
            "  inflating: spotmentorlabs-machine-learning-assessment-dfe89675d80f/data/docs/8247867.json  \n",
            "  inflating: spotmentorlabs-machine-learning-assessment-dfe89675d80f/data/docs/8248920.json  \n",
            "  inflating: spotmentorlabs-machine-learning-assessment-dfe89675d80f/data/docs/8249359.json  \n",
            "  inflating: spotmentorlabs-machine-learning-assessment-dfe89675d80f/data/docs/8249497.json  \n",
            "  inflating: spotmentorlabs-machine-learning-assessment-dfe89675d80f/data/docs/8249563.json  \n",
            "  inflating: spotmentorlabs-machine-learning-assessment-dfe89675d80f/data/docs/8249609.json  \n",
            "  inflating: spotmentorlabs-machine-learning-assessment-dfe89675d80f/data/docs/8249679.json  \n",
            "  inflating: spotmentorlabs-machine-learning-assessment-dfe89675d80f/data/docs/8249759.json  \n",
            "  inflating: spotmentorlabs-machine-learning-assessment-dfe89675d80f/data/docs/8249805.json  \n",
            "  inflating: spotmentorlabs-machine-learning-assessment-dfe89675d80f/data/docs/8249835.json  \n",
            "  inflating: spotmentorlabs-machine-learning-assessment-dfe89675d80f/data/docs/8249993.json  \n",
            "  inflating: spotmentorlabs-machine-learning-assessment-dfe89675d80f/data/docs/8250017.json  \n",
            "  inflating: spotmentorlabs-machine-learning-assessment-dfe89675d80f/data/docs/8250123.json  \n",
            "  inflating: spotmentorlabs-machine-learning-assessment-dfe89675d80f/data/docs/8250679.json  \n",
            "  inflating: spotmentorlabs-machine-learning-assessment-dfe89675d80f/data/docs/8250737.json  \n",
            "  inflating: spotmentorlabs-machine-learning-assessment-dfe89675d80f/data/docs/8251832.json  \n",
            "  inflating: spotmentorlabs-machine-learning-assessment-dfe89675d80f/data/docs/8251880.json  \n",
            "  inflating: spotmentorlabs-machine-learning-assessment-dfe89675d80f/data/docs/8253293.json  \n",
            "  inflating: spotmentorlabs-machine-learning-assessment-dfe89675d80f/data/docs/8255032.json  \n",
            "  inflating: spotmentorlabs-machine-learning-assessment-dfe89675d80f/data/docs/8256845.json  \n",
            "  inflating: spotmentorlabs-machine-learning-assessment-dfe89675d80f/data/docs/8257083.json  \n",
            "  inflating: spotmentorlabs-machine-learning-assessment-dfe89675d80f/data/docs/8257331.json  \n",
            "  inflating: spotmentorlabs-machine-learning-assessment-dfe89675d80f/data/docs/8257455.json  \n",
            "  inflating: spotmentorlabs-machine-learning-assessment-dfe89675d80f/data/docs/8257741.json  \n",
            "  inflating: spotmentorlabs-machine-learning-assessment-dfe89675d80f/data/docs/8257845.json  \n",
            "  inflating: spotmentorlabs-machine-learning-assessment-dfe89675d80f/data/docs/8257849.json  \n",
            "  inflating: spotmentorlabs-machine-learning-assessment-dfe89675d80f/data/docs/8258085.json  \n",
            "  inflating: spotmentorlabs-machine-learning-assessment-dfe89675d80f/data/docs/8258121.json  \n",
            "  inflating: spotmentorlabs-machine-learning-assessment-dfe89675d80f/data/docs/8258129.json  \n",
            "  inflating: spotmentorlabs-machine-learning-assessment-dfe89675d80f/data/docs/8258159.json  \n",
            "  inflating: spotmentorlabs-machine-learning-assessment-dfe89675d80f/data/docs/8258339.json  \n",
            "  inflating: spotmentorlabs-machine-learning-assessment-dfe89675d80f/data/docs/8260186.json  \n",
            "  inflating: spotmentorlabs-machine-learning-assessment-dfe89675d80f/data/docs/8260190.json  \n",
            "  inflating: spotmentorlabs-machine-learning-assessment-dfe89675d80f/data/docs/8260210.json  \n",
            "  inflating: spotmentorlabs-machine-learning-assessment-dfe89675d80f/data/docs/8260212.json  \n",
            "  inflating: spotmentorlabs-machine-learning-assessment-dfe89675d80f/data/docs/8260214.json  \n",
            "  inflating: spotmentorlabs-machine-learning-assessment-dfe89675d80f/data/docs/8262146.json  \n",
            "  inflating: spotmentorlabs-machine-learning-assessment-dfe89675d80f/data/docs/8262358.json  \n",
            "  inflating: spotmentorlabs-machine-learning-assessment-dfe89675d80f/data/docs/8262784.json  \n",
            "  inflating: spotmentorlabs-machine-learning-assessment-dfe89675d80f/data/docs/8263611.json  \n",
            "  inflating: spotmentorlabs-machine-learning-assessment-dfe89675d80f/data/docs/8264142.json  \n",
            "  inflating: spotmentorlabs-machine-learning-assessment-dfe89675d80f/data/docs/8265085.json  \n",
            "  inflating: spotmentorlabs-machine-learning-assessment-dfe89675d80f/data/docs/8267171.json  \n",
            "  inflating: spotmentorlabs-machine-learning-assessment-dfe89675d80f/data/docs/8267205.json  \n",
            "  inflating: spotmentorlabs-machine-learning-assessment-dfe89675d80f/data/docs/8268968.json  \n",
            "  inflating: spotmentorlabs-machine-learning-assessment-dfe89675d80f/data/docs/8269683.json  \n",
            "  inflating: spotmentorlabs-machine-learning-assessment-dfe89675d80f/data/docs/8270780.json  \n",
            "  inflating: spotmentorlabs-machine-learning-assessment-dfe89675d80f/data/docs/8271068.json  \n",
            "  inflating: spotmentorlabs-machine-learning-assessment-dfe89675d80f/data/docs/8271078.json  \n",
            "  inflating: spotmentorlabs-machine-learning-assessment-dfe89675d80f/data/docs/8271082.json  \n",
            "  inflating: spotmentorlabs-machine-learning-assessment-dfe89675d80f/data/docs/8272045.json  \n",
            "  inflating: spotmentorlabs-machine-learning-assessment-dfe89675d80f/data/docs/8272055.json  \n",
            "  inflating: spotmentorlabs-machine-learning-assessment-dfe89675d80f/data/docs/8272085.json  \n",
            "  inflating: spotmentorlabs-machine-learning-assessment-dfe89675d80f/data/docs/8272139.json  \n",
            "  inflating: spotmentorlabs-machine-learning-assessment-dfe89675d80f/data/docs/8272183.json  \n",
            "  inflating: spotmentorlabs-machine-learning-assessment-dfe89675d80f/data/docs/8274512.json  \n",
            "  inflating: spotmentorlabs-machine-learning-assessment-dfe89675d80f/data/docs/8274514.json  \n",
            "  inflating: spotmentorlabs-machine-learning-assessment-dfe89675d80f/data/docs/8274570.json  \n",
            "  inflating: spotmentorlabs-machine-learning-assessment-dfe89675d80f/data/docs/8274814.json  \n",
            "  inflating: spotmentorlabs-machine-learning-assessment-dfe89675d80f/data/docs/8276610.json  \n",
            "  inflating: spotmentorlabs-machine-learning-assessment-dfe89675d80f/data/docs/8276614.json  \n",
            "  inflating: spotmentorlabs-machine-learning-assessment-dfe89675d80f/data/docs/8277735.json  \n",
            "  inflating: spotmentorlabs-machine-learning-assessment-dfe89675d80f/data/docs/8277905.json  \n",
            "  inflating: spotmentorlabs-machine-learning-assessment-dfe89675d80f/data/docs/8277939.json  \n",
            "  inflating: spotmentorlabs-machine-learning-assessment-dfe89675d80f/data/docs/8277943.json  \n",
            "  inflating: spotmentorlabs-machine-learning-assessment-dfe89675d80f/data/docs/8277947.json  \n",
            "  inflating: spotmentorlabs-machine-learning-assessment-dfe89675d80f/data/docs/8277959.json  \n",
            "  inflating: spotmentorlabs-machine-learning-assessment-dfe89675d80f/data/docs/8277961.json  \n",
            "  inflating: spotmentorlabs-machine-learning-assessment-dfe89675d80f/data/docs/8278073.json  \n",
            "  inflating: spotmentorlabs-machine-learning-assessment-dfe89675d80f/data/docs/8278123.json  \n",
            "  inflating: spotmentorlabs-machine-learning-assessment-dfe89675d80f/data/docs/8278193.json  \n",
            "  inflating: spotmentorlabs-machine-learning-assessment-dfe89675d80f/data/docs/8278217.json  \n",
            "  inflating: spotmentorlabs-machine-learning-assessment-dfe89675d80f/data/docs/8278229.json  \n",
            "  inflating: spotmentorlabs-machine-learning-assessment-dfe89675d80f/data/docs/8278237.json  \n",
            "  inflating: spotmentorlabs-machine-learning-assessment-dfe89675d80f/data/docs/8278247.json  \n",
            "  inflating: spotmentorlabs-machine-learning-assessment-dfe89675d80f/data/docs/8278261.json  \n",
            "  inflating: spotmentorlabs-machine-learning-assessment-dfe89675d80f/data/docs/8278293.json  \n",
            "  inflating: spotmentorlabs-machine-learning-assessment-dfe89675d80f/data/docs/8278297.json  \n",
            "  inflating: spotmentorlabs-machine-learning-assessment-dfe89675d80f/data/docs/8278305.json  \n",
            "  inflating: spotmentorlabs-machine-learning-assessment-dfe89675d80f/data/docs/8278311.json  \n",
            "  inflating: spotmentorlabs-machine-learning-assessment-dfe89675d80f/data/docs/8278321.json  \n",
            "  inflating: spotmentorlabs-machine-learning-assessment-dfe89675d80f/data/docs/8278367.json  \n",
            "  inflating: spotmentorlabs-machine-learning-assessment-dfe89675d80f/data/docs/8278577.json  \n",
            "  inflating: spotmentorlabs-machine-learning-assessment-dfe89675d80f/data/docs/8278889.json  \n",
            "  inflating: spotmentorlabs-machine-learning-assessment-dfe89675d80f/data/docs/8278991.json  \n",
            "  inflating: spotmentorlabs-machine-learning-assessment-dfe89675d80f/data/docs/8280045.json  \n",
            "  inflating: spotmentorlabs-machine-learning-assessment-dfe89675d80f/data/docs/8280113.json  \n",
            "  inflating: spotmentorlabs-machine-learning-assessment-dfe89675d80f/data/docs/8280187.json  \n",
            "  inflating: spotmentorlabs-machine-learning-assessment-dfe89675d80f/data/docs/8280309.json  \n",
            "  inflating: spotmentorlabs-machine-learning-assessment-dfe89675d80f/data/docs/8280345.json  \n",
            "  inflating: spotmentorlabs-machine-learning-assessment-dfe89675d80f/data/docs/8281243.json  \n",
            "  inflating: spotmentorlabs-machine-learning-assessment-dfe89675d80f/data/docs/8282388.json  \n",
            "  inflating: spotmentorlabs-machine-learning-assessment-dfe89675d80f/data/docs/8283481.json  \n",
            "  inflating: spotmentorlabs-machine-learning-assessment-dfe89675d80f/data/docs/8283534.json  \n",
            "  inflating: spotmentorlabs-machine-learning-assessment-dfe89675d80f/data/docs/8284583.json  \n",
            "  inflating: spotmentorlabs-machine-learning-assessment-dfe89675d80f/data/docs/8285637.json  \n",
            "  inflating: spotmentorlabs-machine-learning-assessment-dfe89675d80f/data/docs/8286119.json  \n",
            "  inflating: spotmentorlabs-machine-learning-assessment-dfe89675d80f/data/docs/8289006.json  \n",
            "  inflating: spotmentorlabs-machine-learning-assessment-dfe89675d80f/data/docs/8289008.json  \n",
            "  inflating: spotmentorlabs-machine-learning-assessment-dfe89675d80f/data/docs/8289528.json  \n",
            "  inflating: spotmentorlabs-machine-learning-assessment-dfe89675d80f/data/docs/8289530.json  \n",
            "  inflating: spotmentorlabs-machine-learning-assessment-dfe89675d80f/data/docs/8289532.json  \n",
            "  inflating: spotmentorlabs-machine-learning-assessment-dfe89675d80f/data/docs/8293588.json  \n",
            "  inflating: spotmentorlabs-machine-learning-assessment-dfe89675d80f/data/docs/8293594.json  \n",
            "  inflating: spotmentorlabs-machine-learning-assessment-dfe89675d80f/data/docs/8296118.json  \n",
            "  inflating: spotmentorlabs-machine-learning-assessment-dfe89675d80f/data/docs/8296120.json  \n",
            "  inflating: spotmentorlabs-machine-learning-assessment-dfe89675d80f/data/docs/8296124.json  \n",
            "  inflating: spotmentorlabs-machine-learning-assessment-dfe89675d80f/data/docs/8296128.json  \n",
            "  inflating: spotmentorlabs-machine-learning-assessment-dfe89675d80f/data/docs/8296130.json  \n",
            "  inflating: spotmentorlabs-machine-learning-assessment-dfe89675d80f/data/docs/8296136.json  \n",
            "  inflating: spotmentorlabs-machine-learning-assessment-dfe89675d80f/data/docs/8296138.json  \n",
            "  inflating: spotmentorlabs-machine-learning-assessment-dfe89675d80f/data/docs/8296140.json  \n",
            "  inflating: spotmentorlabs-machine-learning-assessment-dfe89675d80f/data/docs/8296142.json  \n",
            "  inflating: spotmentorlabs-machine-learning-assessment-dfe89675d80f/data/docs/8296144.json  \n",
            "  inflating: spotmentorlabs-machine-learning-assessment-dfe89675d80f/data/docs/8296967.json  \n",
            "  inflating: spotmentorlabs-machine-learning-assessment-dfe89675d80f/data/docs/8297027.json  \n",
            "  inflating: spotmentorlabs-machine-learning-assessment-dfe89675d80f/data/docs/8297039.json  \n",
            "  inflating: spotmentorlabs-machine-learning-assessment-dfe89675d80f/data/docs/8297061.json  \n",
            "  inflating: spotmentorlabs-machine-learning-assessment-dfe89675d80f/data/docs/8297065.json  \n",
            "  inflating: spotmentorlabs-machine-learning-assessment-dfe89675d80f/data/docs/8297071.json  \n",
            "  inflating: spotmentorlabs-machine-learning-assessment-dfe89675d80f/data/docs/8297475.json  \n",
            "  inflating: spotmentorlabs-machine-learning-assessment-dfe89675d80f/data/docs/8297705.json  \n",
            "  inflating: spotmentorlabs-machine-learning-assessment-dfe89675d80f/data/docs/8298063.json  \n",
            "  inflating: spotmentorlabs-machine-learning-assessment-dfe89675d80f/data/docs/8303467.json  \n",
            "  inflating: spotmentorlabs-machine-learning-assessment-dfe89675d80f/data/docs/8304171.json  \n",
            "  inflating: spotmentorlabs-machine-learning-assessment-dfe89675d80f/data/docs/8305283.json  \n",
            "  inflating: spotmentorlabs-machine-learning-assessment-dfe89675d80f/data/docs/8305287.json  \n",
            "  inflating: spotmentorlabs-machine-learning-assessment-dfe89675d80f/data/docs/8305327.json  \n",
            "  inflating: spotmentorlabs-machine-learning-assessment-dfe89675d80f/data/docs/8305411.json  \n",
            "  inflating: spotmentorlabs-machine-learning-assessment-dfe89675d80f/data/docs/8305743.json  \n",
            "  inflating: spotmentorlabs-machine-learning-assessment-dfe89675d80f/data/docs/8305745.json  \n",
            "  inflating: spotmentorlabs-machine-learning-assessment-dfe89675d80f/data/docs/8305771.json  \n",
            "  inflating: spotmentorlabs-machine-learning-assessment-dfe89675d80f/data/docs/8307069.json  \n",
            "  inflating: spotmentorlabs-machine-learning-assessment-dfe89675d80f/data/docs/8312805.json  \n",
            "  inflating: spotmentorlabs-machine-learning-assessment-dfe89675d80f/data/docs/8312809.json  \n",
            "  inflating: spotmentorlabs-machine-learning-assessment-dfe89675d80f/data/docs/8312813.json  \n",
            "  inflating: spotmentorlabs-machine-learning-assessment-dfe89675d80f/data/docs/8312819.json  \n",
            "  inflating: spotmentorlabs-machine-learning-assessment-dfe89675d80f/data/docs/8317890.json  \n",
            "  inflating: spotmentorlabs-machine-learning-assessment-dfe89675d80f/data/docs/8320981.json  \n",
            "  inflating: spotmentorlabs-machine-learning-assessment-dfe89675d80f/data/docs/8321073.json  \n",
            "  inflating: spotmentorlabs-machine-learning-assessment-dfe89675d80f/data/docs/8321107.json  \n",
            "  inflating: spotmentorlabs-machine-learning-assessment-dfe89675d80f/data/docs/8321189.json  \n",
            "  inflating: spotmentorlabs-machine-learning-assessment-dfe89675d80f/data/docs/8321225.json  \n",
            "  inflating: spotmentorlabs-machine-learning-assessment-dfe89675d80f/data/docs/8322449.json  \n",
            "  inflating: spotmentorlabs-machine-learning-assessment-dfe89675d80f/data/docs/8324725.json  \n",
            "  inflating: spotmentorlabs-machine-learning-assessment-dfe89675d80f/data/docs/8325371.json  \n",
            "  inflating: spotmentorlabs-machine-learning-assessment-dfe89675d80f/data/docs/8325395.json  \n",
            "  inflating: spotmentorlabs-machine-learning-assessment-dfe89675d80f/data/docs/8327728.json  \n",
            "  inflating: spotmentorlabs-machine-learning-assessment-dfe89675d80f/data/docs/8328297.json  \n",
            "  inflating: spotmentorlabs-machine-learning-assessment-dfe89675d80f/data/docs/8328528.json  \n",
            "  inflating: spotmentorlabs-machine-learning-assessment-dfe89675d80f/data/docs/8328530.json  \n",
            "  inflating: spotmentorlabs-machine-learning-assessment-dfe89675d80f/data/docs/8328534.json  \n",
            "  inflating: spotmentorlabs-machine-learning-assessment-dfe89675d80f/data/docs/8328536.json  \n",
            "  inflating: spotmentorlabs-machine-learning-assessment-dfe89675d80f/data/docs/8328538.json  \n",
            "  inflating: spotmentorlabs-machine-learning-assessment-dfe89675d80f/data/docs/8330771.json  \n",
            "  inflating: spotmentorlabs-machine-learning-assessment-dfe89675d80f/data/docs/8330787.json  \n",
            "  inflating: spotmentorlabs-machine-learning-assessment-dfe89675d80f/data/docs/8331003.json  \n",
            "  inflating: spotmentorlabs-machine-learning-assessment-dfe89675d80f/data/docs/8331625.json  \n",
            "  inflating: spotmentorlabs-machine-learning-assessment-dfe89675d80f/data/docs/8331687.json  \n",
            "  inflating: spotmentorlabs-machine-learning-assessment-dfe89675d80f/data/docs/8336106.json  \n",
            "  inflating: spotmentorlabs-machine-learning-assessment-dfe89675d80f/data/docs/8337711.json  \n",
            "  inflating: spotmentorlabs-machine-learning-assessment-dfe89675d80f/data/docs/8337853.json  \n",
            "  inflating: spotmentorlabs-machine-learning-assessment-dfe89675d80f/data/docs/8337925.json  \n",
            "  inflating: spotmentorlabs-machine-learning-assessment-dfe89675d80f/data/docs/8337941.json  \n",
            "  inflating: spotmentorlabs-machine-learning-assessment-dfe89675d80f/data/docs/8338217.json  \n",
            "  inflating: spotmentorlabs-machine-learning-assessment-dfe89675d80f/data/docs/8340709.json  \n",
            "  inflating: spotmentorlabs-machine-learning-assessment-dfe89675d80f/data/docs/8340713.json  \n",
            "  inflating: spotmentorlabs-machine-learning-assessment-dfe89675d80f/data/docs/8340845.json  \n",
            "  inflating: spotmentorlabs-machine-learning-assessment-dfe89675d80f/data/docs/8340865.json  \n",
            "  inflating: spotmentorlabs-machine-learning-assessment-dfe89675d80f/data/docs/8340875.json  \n",
            "  inflating: spotmentorlabs-machine-learning-assessment-dfe89675d80f/data/docs/8340943.json  \n",
            "  inflating: spotmentorlabs-machine-learning-assessment-dfe89675d80f/data/docs/8340981.json  \n",
            "  inflating: spotmentorlabs-machine-learning-assessment-dfe89675d80f/data/docs/8341049.json  \n",
            "  inflating: spotmentorlabs-machine-learning-assessment-dfe89675d80f/data/docs/8341825.json  \n",
            "  inflating: spotmentorlabs-machine-learning-assessment-dfe89675d80f/data/docs/8341835.json  \n",
            "  inflating: spotmentorlabs-machine-learning-assessment-dfe89675d80f/data/docs/8342017.json  \n",
            "  inflating: spotmentorlabs-machine-learning-assessment-dfe89675d80f/data/docs/8343474.json  \n",
            "  inflating: spotmentorlabs-machine-learning-assessment-dfe89675d80f/data/docs/8343612.json  \n",
            "  inflating: spotmentorlabs-machine-learning-assessment-dfe89675d80f/data/docs/8343620.json  \n",
            "  inflating: spotmentorlabs-machine-learning-assessment-dfe89675d80f/data/docs/8343628.json  \n",
            "  inflating: spotmentorlabs-machine-learning-assessment-dfe89675d80f/data/docs/8343634.json  \n",
            "  inflating: spotmentorlabs-machine-learning-assessment-dfe89675d80f/data/docs/8343638.json  \n",
            "  inflating: spotmentorlabs-machine-learning-assessment-dfe89675d80f/data/docs/8343644.json  \n",
            "  inflating: spotmentorlabs-machine-learning-assessment-dfe89675d80f/data/docs/8343650.json  \n",
            "  inflating: spotmentorlabs-machine-learning-assessment-dfe89675d80f/data/docs/8343654.json  \n",
            "  inflating: spotmentorlabs-machine-learning-assessment-dfe89675d80f/data/docs/8343656.json  \n",
            "  inflating: spotmentorlabs-machine-learning-assessment-dfe89675d80f/data/docs/8343672.json  \n",
            "  inflating: spotmentorlabs-machine-learning-assessment-dfe89675d80f/data/docs/8343836.json  \n",
            "  inflating: spotmentorlabs-machine-learning-assessment-dfe89675d80f/data/docs/8343840.json  \n",
            "  inflating: spotmentorlabs-machine-learning-assessment-dfe89675d80f/data/docs/8343842.json  \n",
            "  inflating: spotmentorlabs-machine-learning-assessment-dfe89675d80f/data/docs/8343844.json  \n",
            "  inflating: spotmentorlabs-machine-learning-assessment-dfe89675d80f/data/docs/8343846.json  \n",
            "  inflating: spotmentorlabs-machine-learning-assessment-dfe89675d80f/data/docs/8344610.json  \n",
            "  inflating: spotmentorlabs-machine-learning-assessment-dfe89675d80f/data/docs/8344614.json  \n",
            "  inflating: spotmentorlabs-machine-learning-assessment-dfe89675d80f/data/docs/8345564.json  \n",
            "  inflating: spotmentorlabs-machine-learning-assessment-dfe89675d80f/data/docs/8349041.json  \n",
            "  inflating: spotmentorlabs-machine-learning-assessment-dfe89675d80f/data/docs/8350933.json  \n",
            "  inflating: spotmentorlabs-machine-learning-assessment-dfe89675d80f/data/docs/8351253.json  \n",
            "  inflating: spotmentorlabs-machine-learning-assessment-dfe89675d80f/data/docs/8351273.json  \n",
            "  inflating: spotmentorlabs-machine-learning-assessment-dfe89675d80f/data/docs/8351826.json  \n",
            "  inflating: spotmentorlabs-machine-learning-assessment-dfe89675d80f/data/docs/8351830.json  \n",
            "  inflating: spotmentorlabs-machine-learning-assessment-dfe89675d80f/data/docs/8351832.json  \n",
            "  inflating: spotmentorlabs-machine-learning-assessment-dfe89675d80f/data/docs/8352159.json  \n",
            "  inflating: spotmentorlabs-machine-learning-assessment-dfe89675d80f/data/docs/8352750.json  \n",
            "  inflating: spotmentorlabs-machine-learning-assessment-dfe89675d80f/data/docs/8354673.json  \n",
            "  inflating: spotmentorlabs-machine-learning-assessment-dfe89675d80f/data/docs/8354773.json  \n",
            "  inflating: spotmentorlabs-machine-learning-assessment-dfe89675d80f/data/docs/8354797.json  \n",
            "  inflating: spotmentorlabs-machine-learning-assessment-dfe89675d80f/data/docs/8355045.json  \n",
            "  inflating: spotmentorlabs-machine-learning-assessment-dfe89675d80f/data/docs/8355315.json  \n",
            "  inflating: spotmentorlabs-machine-learning-assessment-dfe89675d80f/data/docs/8356545.json  \n",
            "  inflating: spotmentorlabs-machine-learning-assessment-dfe89675d80f/data/docs/8361743.json  \n",
            "  inflating: spotmentorlabs-machine-learning-assessment-dfe89675d80f/data/docs/8362045.json  \n",
            "  inflating: spotmentorlabs-machine-learning-assessment-dfe89675d80f/data/docs/8364691.json  \n",
            "  inflating: spotmentorlabs-machine-learning-assessment-dfe89675d80f/data/docs/8366370.json  \n",
            "  inflating: spotmentorlabs-machine-learning-assessment-dfe89675d80f/data/docs/8366374.json  \n",
            "  inflating: spotmentorlabs-machine-learning-assessment-dfe89675d80f/data/docs/8366376.json  \n",
            "  inflating: spotmentorlabs-machine-learning-assessment-dfe89675d80f/data/docs/8366382.json  \n",
            "  inflating: spotmentorlabs-machine-learning-assessment-dfe89675d80f/data/docs/8366384.json  \n",
            "  inflating: spotmentorlabs-machine-learning-assessment-dfe89675d80f/data/docs/8366386.json  \n",
            "  inflating: spotmentorlabs-machine-learning-assessment-dfe89675d80f/data/docs/8367639.json  \n",
            "  inflating: spotmentorlabs-machine-learning-assessment-dfe89675d80f/data/docs/8367885.json  \n",
            "  inflating: spotmentorlabs-machine-learning-assessment-dfe89675d80f/data/docs/8370153.json  \n",
            "  inflating: spotmentorlabs-machine-learning-assessment-dfe89675d80f/data/docs/8370423.json  \n",
            "  inflating: spotmentorlabs-machine-learning-assessment-dfe89675d80f/data/docs/8370571.json  \n",
            "  inflating: spotmentorlabs-machine-learning-assessment-dfe89675d80f/data/docs/8370858.json  \n",
            "  inflating: spotmentorlabs-machine-learning-assessment-dfe89675d80f/data/docs/8370860.json  \n",
            "  inflating: spotmentorlabs-machine-learning-assessment-dfe89675d80f/data/docs/8370864.json  \n",
            "  inflating: spotmentorlabs-machine-learning-assessment-dfe89675d80f/data/docs/8370866.json  \n",
            "  inflating: spotmentorlabs-machine-learning-assessment-dfe89675d80f/data/docs/8370868.json  \n",
            "  inflating: spotmentorlabs-machine-learning-assessment-dfe89675d80f/data/docs/8370870.json  \n",
            "  inflating: spotmentorlabs-machine-learning-assessment-dfe89675d80f/data/docs/8370872.json  \n",
            "  inflating: spotmentorlabs-machine-learning-assessment-dfe89675d80f/data/docs/8370874.json  \n",
            "  inflating: spotmentorlabs-machine-learning-assessment-dfe89675d80f/data/docs/8370876.json  \n",
            "  inflating: spotmentorlabs-machine-learning-assessment-dfe89675d80f/data/docs/8370880.json  \n",
            "  inflating: spotmentorlabs-machine-learning-assessment-dfe89675d80f/data/docs/8370882.json  \n",
            "  inflating: spotmentorlabs-machine-learning-assessment-dfe89675d80f/data/docs/8370886.json  \n",
            "  inflating: spotmentorlabs-machine-learning-assessment-dfe89675d80f/data/docs/8370890.json  \n",
            "  inflating: spotmentorlabs-machine-learning-assessment-dfe89675d80f/data/docs/8370892.json  \n",
            "  inflating: spotmentorlabs-machine-learning-assessment-dfe89675d80f/data/docs/8370898.json  \n",
            "  inflating: spotmentorlabs-machine-learning-assessment-dfe89675d80f/data/docs/8370900.json  \n",
            "  inflating: spotmentorlabs-machine-learning-assessment-dfe89675d80f/data/docs/8370902.json  \n",
            "  inflating: spotmentorlabs-machine-learning-assessment-dfe89675d80f/data/docs/8370906.json  \n",
            "  inflating: spotmentorlabs-machine-learning-assessment-dfe89675d80f/data/docs/8370908.json  \n",
            "  inflating: spotmentorlabs-machine-learning-assessment-dfe89675d80f/data/docs/8370910.json  \n",
            "  inflating: spotmentorlabs-machine-learning-assessment-dfe89675d80f/data/docs/8370912.json  \n",
            "  inflating: spotmentorlabs-machine-learning-assessment-dfe89675d80f/data/docs/8370920.json  \n",
            "  inflating: spotmentorlabs-machine-learning-assessment-dfe89675d80f/data/docs/8370926.json  \n",
            "  inflating: spotmentorlabs-machine-learning-assessment-dfe89675d80f/data/docs/8370928.json  \n",
            "  inflating: spotmentorlabs-machine-learning-assessment-dfe89675d80f/data/docs/8370930.json  \n",
            "  inflating: spotmentorlabs-machine-learning-assessment-dfe89675d80f/data/docs/8370932.json  \n",
            "  inflating: spotmentorlabs-machine-learning-assessment-dfe89675d80f/data/docs/8370936.json  \n",
            "  inflating: spotmentorlabs-machine-learning-assessment-dfe89675d80f/data/docs/8370942.json  \n",
            "  inflating: spotmentorlabs-machine-learning-assessment-dfe89675d80f/data/docs/8370944.json  \n",
            "  inflating: spotmentorlabs-machine-learning-assessment-dfe89675d80f/data/docs/8370948.json  \n",
            "  inflating: spotmentorlabs-machine-learning-assessment-dfe89675d80f/data/docs/8370958.json  \n",
            "  inflating: spotmentorlabs-machine-learning-assessment-dfe89675d80f/data/docs/8370960.json  \n",
            "  inflating: spotmentorlabs-machine-learning-assessment-dfe89675d80f/data/docs/8370964.json  \n",
            "  inflating: spotmentorlabs-machine-learning-assessment-dfe89675d80f/data/docs/8370966.json  \n",
            "  inflating: spotmentorlabs-machine-learning-assessment-dfe89675d80f/data/docs/8370968.json  \n",
            "  inflating: spotmentorlabs-machine-learning-assessment-dfe89675d80f/data/docs/8370970.json  \n",
            "  inflating: spotmentorlabs-machine-learning-assessment-dfe89675d80f/data/docs/8375133.json  \n",
            "  inflating: spotmentorlabs-machine-learning-assessment-dfe89675d80f/data/docs/8375147.json  \n",
            "  inflating: spotmentorlabs-machine-learning-assessment-dfe89675d80f/data/docs/8375169.json  \n",
            "  inflating: spotmentorlabs-machine-learning-assessment-dfe89675d80f/data/docs/8375215.json  \n",
            "  inflating: spotmentorlabs-machine-learning-assessment-dfe89675d80f/data/docs/8375237.json  \n",
            "  inflating: spotmentorlabs-machine-learning-assessment-dfe89675d80f/data/docs/8375291.json  \n",
            "  inflating: spotmentorlabs-machine-learning-assessment-dfe89675d80f/data/docs/8375313.json  \n",
            "  inflating: spotmentorlabs-machine-learning-assessment-dfe89675d80f/data/docs/8375363.json  \n",
            "  inflating: spotmentorlabs-machine-learning-assessment-dfe89675d80f/data/docs/8375381.json  \n",
            "  inflating: spotmentorlabs-machine-learning-assessment-dfe89675d80f/data/docs/8375655.json  \n",
            "  inflating: spotmentorlabs-machine-learning-assessment-dfe89675d80f/data/docs/8376819.json  \n",
            "  inflating: spotmentorlabs-machine-learning-assessment-dfe89675d80f/data/docs/8377265.json  \n",
            "  inflating: spotmentorlabs-machine-learning-assessment-dfe89675d80f/data/docs/8378605.json  \n",
            "  inflating: spotmentorlabs-machine-learning-assessment-dfe89675d80f/data/docs/8378609.json  \n",
            "  inflating: spotmentorlabs-machine-learning-assessment-dfe89675d80f/data/docs/8379267.json  \n",
            "  inflating: spotmentorlabs-machine-learning-assessment-dfe89675d80f/data/docs/8381302.json  \n",
            "  inflating: spotmentorlabs-machine-learning-assessment-dfe89675d80f/data/docs/8384363.json  \n",
            "  inflating: spotmentorlabs-machine-learning-assessment-dfe89675d80f/data/docs/8385551.json  \n",
            "  inflating: spotmentorlabs-machine-learning-assessment-dfe89675d80f/data/docs/8385595.json  \n",
            "  inflating: spotmentorlabs-machine-learning-assessment-dfe89675d80f/data/docs/8385805.json  \n",
            "  inflating: spotmentorlabs-machine-learning-assessment-dfe89675d80f/data/docs/8385821.json  \n",
            "  inflating: spotmentorlabs-machine-learning-assessment-dfe89675d80f/data/docs/8385851.json  \n",
            "  inflating: spotmentorlabs-machine-learning-assessment-dfe89675d80f/data/docs/8385953.json  \n",
            "  inflating: spotmentorlabs-machine-learning-assessment-dfe89675d80f/data/docs/8386169.json  \n",
            "  inflating: spotmentorlabs-machine-learning-assessment-dfe89675d80f/data/docs/8388295.json  \n",
            "  inflating: spotmentorlabs-machine-learning-assessment-dfe89675d80f/data/docs/8388305.json  \n",
            "  inflating: spotmentorlabs-machine-learning-assessment-dfe89675d80f/data/docs/8388313.json  \n",
            "  inflating: spotmentorlabs-machine-learning-assessment-dfe89675d80f/data/docs/8388323.json  \n",
            "  inflating: spotmentorlabs-machine-learning-assessment-dfe89675d80f/data/docs/8388325.json  \n",
            "  inflating: spotmentorlabs-machine-learning-assessment-dfe89675d80f/data/docs/8388751.json  \n",
            "  inflating: spotmentorlabs-machine-learning-assessment-dfe89675d80f/data/docs/8388763.json  \n",
            "  inflating: spotmentorlabs-machine-learning-assessment-dfe89675d80f/data/docs/8388911.json  \n",
            "  inflating: spotmentorlabs-machine-learning-assessment-dfe89675d80f/data/docs/8388977.json  \n",
            "  inflating: spotmentorlabs-machine-learning-assessment-dfe89675d80f/data/docs/8389011.json  \n",
            "  inflating: spotmentorlabs-machine-learning-assessment-dfe89675d80f/data/docs/8389315.json  \n",
            "  inflating: spotmentorlabs-machine-learning-assessment-dfe89675d80f/data/docs/8389327.json  \n",
            "  inflating: spotmentorlabs-machine-learning-assessment-dfe89675d80f/data/docs/8389341.json  \n",
            "  inflating: spotmentorlabs-machine-learning-assessment-dfe89675d80f/data/docs/8389347.json  \n",
            "  inflating: spotmentorlabs-machine-learning-assessment-dfe89675d80f/data/docs/8390135.json  \n",
            "  inflating: spotmentorlabs-machine-learning-assessment-dfe89675d80f/data/docs/8391348.json  \n",
            "  inflating: spotmentorlabs-machine-learning-assessment-dfe89675d80f/data/docs/8393742.json  \n",
            "  inflating: spotmentorlabs-machine-learning-assessment-dfe89675d80f/data/docs/8393746.json  \n",
            "  inflating: spotmentorlabs-machine-learning-assessment-dfe89675d80f/data/docs/8393748.json  \n",
            "  inflating: spotmentorlabs-machine-learning-assessment-dfe89675d80f/data/docs/8393750.json  \n",
            "  inflating: spotmentorlabs-machine-learning-assessment-dfe89675d80f/data/docs/8393754.json  \n",
            "  inflating: spotmentorlabs-machine-learning-assessment-dfe89675d80f/data/docs/8394450.json  \n",
            "  inflating: spotmentorlabs-machine-learning-assessment-dfe89675d80f/data/docs/8394452.json  \n",
            "  inflating: spotmentorlabs-machine-learning-assessment-dfe89675d80f/data/docs/8394454.json  \n",
            "  inflating: spotmentorlabs-machine-learning-assessment-dfe89675d80f/data/docs/8402293.json  \n",
            "  inflating: spotmentorlabs-machine-learning-assessment-dfe89675d80f/data/docs/8402309.json  \n",
            "  inflating: spotmentorlabs-machine-learning-assessment-dfe89675d80f/data/docs/8402365.json  \n",
            "  inflating: spotmentorlabs-machine-learning-assessment-dfe89675d80f/data/docs/8402367.json  \n",
            "  inflating: spotmentorlabs-machine-learning-assessment-dfe89675d80f/data/docs/8402419.json  \n",
            "  inflating: spotmentorlabs-machine-learning-assessment-dfe89675d80f/data/docs/8402741.json  \n",
            "  inflating: spotmentorlabs-machine-learning-assessment-dfe89675d80f/data/docs/8403769.json  \n",
            "  inflating: spotmentorlabs-machine-learning-assessment-dfe89675d80f/data/docs/8403771.json  \n",
            "  inflating: spotmentorlabs-machine-learning-assessment-dfe89675d80f/data/document_departments.csv  \n",
            " extracting: spotmentorlabs-machine-learning-assessment-dfe89675d80f/requirements.txt  \n"
          ],
          "name": "stdout"
        }
      ]
    },
    {
      "cell_type": "markdown",
      "metadata": {
        "id": "a9o9FgqO2a_Y",
        "colab_type": "text"
      },
      "source": [
        "### Part I: Text Preprocessing\n",
        "\n",
        "_Include all text preprocesing steps like processing of json,csv files & data cleaning in this part._"
      ]
    },
    {
      "cell_type": "markdown",
      "metadata": {
        "id": "BzS7IouKyNib",
        "colab_type": "text"
      },
      "source": [
        "Tranforming data into simple CSV form"
      ]
    },
    {
      "cell_type": "code",
      "metadata": {
        "id": "kjIJ_3BKjUbh",
        "colab_type": "code",
        "colab": {}
      },
      "source": [
        "import pandas as pd\n",
        "import json\n",
        "import os"
      ],
      "execution_count": 0,
      "outputs": []
    },
    {
      "cell_type": "code",
      "metadata": {
        "id": "dkmVr2Bpjr2-",
        "colab_type": "code",
        "outputId": "a7d2a668-b470-44fc-c78c-9f13cd550610",
        "colab": {
          "base_uri": "https://localhost:8080/",
          "height": 195
        }
      },
      "source": [
        "data = pd.read_csv('/content/spotmentorlabs-machine-learning-assessment-dfe89675d80f/data/document_departments.csv')\n",
        "data.head(5)"
      ],
      "execution_count": 3,
      "outputs": [
        {
          "output_type": "execute_result",
          "data": {
            "text/html": [
              "<div>\n",
              "<style scoped>\n",
              "    .dataframe tbody tr th:only-of-type {\n",
              "        vertical-align: middle;\n",
              "    }\n",
              "\n",
              "    .dataframe tbody tr th {\n",
              "        vertical-align: top;\n",
              "    }\n",
              "\n",
              "    .dataframe thead th {\n",
              "        text-align: right;\n",
              "    }\n",
              "</style>\n",
              "<table border=\"1\" class=\"dataframe\">\n",
              "  <thead>\n",
              "    <tr style=\"text-align: right;\">\n",
              "      <th></th>\n",
              "      <th>Document ID</th>\n",
              "      <th>Department</th>\n",
              "    </tr>\n",
              "  </thead>\n",
              "  <tbody>\n",
              "    <tr>\n",
              "      <th>0</th>\n",
              "      <td>8196431</td>\n",
              "      <td>Customer service</td>\n",
              "    </tr>\n",
              "    <tr>\n",
              "      <th>1</th>\n",
              "      <td>8278123</td>\n",
              "      <td>Digital Marketing</td>\n",
              "    </tr>\n",
              "    <tr>\n",
              "      <th>2</th>\n",
              "      <td>8331625</td>\n",
              "      <td>Sales</td>\n",
              "    </tr>\n",
              "    <tr>\n",
              "      <th>3</th>\n",
              "      <td>8331003</td>\n",
              "      <td>Back office ticketing</td>\n",
              "    </tr>\n",
              "    <tr>\n",
              "      <th>4</th>\n",
              "      <td>8277939</td>\n",
              "      <td>Digital Marketing</td>\n",
              "    </tr>\n",
              "  </tbody>\n",
              "</table>\n",
              "</div>"
            ],
            "text/plain": [
              "   Document ID             Department\n",
              "0      8196431       Customer service\n",
              "1      8278123      Digital Marketing\n",
              "2      8331625                  Sales\n",
              "3      8331003  Back office ticketing\n",
              "4      8277939      Digital Marketing"
            ]
          },
          "metadata": {
            "tags": []
          },
          "execution_count": 3
        }
      ]
    },
    {
      "cell_type": "code",
      "metadata": {
        "id": "8DA3kJZEjypp",
        "colab_type": "code",
        "outputId": "82ea0b6a-0722-4603-d9f0-7ea827a9b936",
        "colab": {
          "base_uri": "https://localhost:8080/",
          "height": 538
        }
      },
      "source": [
        "data['Department'].value_counts()"
      ],
      "execution_count": 4,
      "outputs": [
        {
          "output_type": "execute_result",
          "data": {
            "text/plain": [
              "Ticketing                          347\n",
              "Sales                              270\n",
              "Digital Marketing                  151\n",
              "Customer service                    69\n",
              "Marketing                           50\n",
              "Finance                             42\n",
              "Operations                          41\n",
              "Administration                      38\n",
              "Maintenance                         28\n",
              "IT                                  20\n",
              "Back office ticketing               18\n",
              "Management Consulting               12\n",
              "Presales                            10\n",
              "Technology                          10\n",
              "Analytics                            9\n",
              "Engineering Design Construction      7\n",
              "Content                              6\n",
              "Recruitment                          6\n",
              "Public Relations                     5\n",
              "Airline Ground Operations            4\n",
              "Logistics                            3\n",
              "Marine Engineering                   3\n",
              "Data entry                           2\n",
              "Marine Deck                          2\n",
              "Marine Service Steward               2\n",
              "Flight Operations                    2\n",
              "QA                                   2\n",
              "Procurement                          1\n",
              "Learning and Development             1\n",
              "Safety                               1\n",
              "Name: Department, dtype: int64"
            ]
          },
          "metadata": {
            "tags": []
          },
          "execution_count": 4
        }
      ]
    },
    {
      "cell_type": "code",
      "metadata": {
        "id": "Fn7xp4w9kEPc",
        "colab_type": "code",
        "colab": {}
      },
      "source": [
        "dataset=[]\n",
        "import json\n",
        "for filename in os.listdir('/content/spotmentorlabs-machine-learning-assessment-dfe89675d80f/data/docs'):\n",
        "  path='/content/spotmentorlabs-machine-learning-assessment-dfe89675d80f/data/docs/'+filename\n",
        "  # print(path)\n",
        "  f=open(path)\n",
        "  d = json.load(f)\n",
        "  f.close()\n",
        "  dataset.append([int(d['_id']), d['jd_information']['description']])"
      ],
      "execution_count": 0,
      "outputs": []
    },
    {
      "cell_type": "code",
      "metadata": {
        "id": "N0iTzpMYmbm5",
        "colab_type": "code",
        "colab": {}
      },
      "source": [
        "nd=[ent for ent in dataset if ent[1] != '']"
      ],
      "execution_count": 0,
      "outputs": []
    },
    {
      "cell_type": "code",
      "metadata": {
        "id": "LFtwXNq3ngTa",
        "colab_type": "code",
        "outputId": "c9d24a72-b06d-4065-90d8-2c96e7e00d20",
        "colab": {
          "base_uri": "https://localhost:8080/",
          "height": 34
        }
      },
      "source": [
        "len(nd)"
      ],
      "execution_count": 7,
      "outputs": [
        {
          "output_type": "execute_result",
          "data": {
            "text/plain": [
              "745"
            ]
          },
          "metadata": {
            "tags": []
          },
          "execution_count": 7
        }
      ]
    },
    {
      "cell_type": "code",
      "metadata": {
        "id": "IExVsUD4ngQP",
        "colab_type": "code",
        "colab": {}
      },
      "source": [
        "df = pd.DataFrame(nd)"
      ],
      "execution_count": 0,
      "outputs": []
    },
    {
      "cell_type": "code",
      "metadata": {
        "id": "kjcVhyX6ngNz",
        "colab_type": "code",
        "colab": {}
      },
      "source": [
        "df.columns=['Document ID','decription']"
      ],
      "execution_count": 0,
      "outputs": []
    },
    {
      "cell_type": "code",
      "metadata": {
        "id": "ZJhOf7RDoo8C",
        "colab_type": "code",
        "outputId": "630fac58-270c-4010-e170-bbb2163a35fc",
        "colab": {
          "base_uri": "https://localhost:8080/",
          "height": 402
        }
      },
      "source": [
        "df"
      ],
      "execution_count": 10,
      "outputs": [
        {
          "output_type": "execute_result",
          "data": {
            "text/html": [
              "<div>\n",
              "<style scoped>\n",
              "    .dataframe tbody tr th:only-of-type {\n",
              "        vertical-align: middle;\n",
              "    }\n",
              "\n",
              "    .dataframe tbody tr th {\n",
              "        vertical-align: top;\n",
              "    }\n",
              "\n",
              "    .dataframe thead th {\n",
              "        text-align: right;\n",
              "    }\n",
              "</style>\n",
              "<table border=\"1\" class=\"dataframe\">\n",
              "  <thead>\n",
              "    <tr style=\"text-align: right;\">\n",
              "      <th></th>\n",
              "      <th>Document ID</th>\n",
              "      <th>decription</th>\n",
              "    </tr>\n",
              "  </thead>\n",
              "  <tbody>\n",
              "    <tr>\n",
              "      <th>0</th>\n",
              "      <td>8278991</td>\n",
              "      <td>We have opening for&amp;nbsp; Store Manager &amp;nbsp;...</td>\n",
              "    </tr>\n",
              "    <tr>\n",
              "      <th>1</th>\n",
              "      <td>8208777</td>\n",
              "      <td>Deck Cadet Job Description. Be it on a militar...</td>\n",
              "    </tr>\n",
              "    <tr>\n",
              "      <th>2</th>\n",
              "      <td>8331687</td>\n",
              "      <td>Hiring for INTERNATIONAL BPO (call simran-9711...</td>\n",
              "    </tr>\n",
              "    <tr>\n",
              "      <th>3</th>\n",
              "      <td>8072903</td>\n",
              "      <td>We need candidates for part time /work from ho...</td>\n",
              "    </tr>\n",
              "    <tr>\n",
              "      <th>4</th>\n",
              "      <td>8253293</td>\n",
              "      <td>Dear Candidate ,Greetings from ABM Travels &amp;am...</td>\n",
              "    </tr>\n",
              "    <tr>\n",
              "      <th>...</th>\n",
              "      <td>...</td>\n",
              "      <td>...</td>\n",
              "    </tr>\n",
              "    <tr>\n",
              "      <th>740</th>\n",
              "      <td>8305287</td>\n",
              "      <td>Job Description for Visa Assistant1. Candidate...</td>\n",
              "    </tr>\n",
              "    <tr>\n",
              "      <th>741</th>\n",
              "      <td>7889695</td>\n",
              "      <td>Dear Candidates,Greetings !&amp;nbsp;We are hiring...</td>\n",
              "    </tr>\n",
              "    <tr>\n",
              "      <th>742</th>\n",
              "      <td>8388763</td>\n",
              "      <td>We are looking for a Tax Accountant to prepare...</td>\n",
              "    </tr>\n",
              "    <tr>\n",
              "      <th>743</th>\n",
              "      <td>8058909</td>\n",
              "      <td>Handle International Ticketing / Domestics Tic...</td>\n",
              "    </tr>\n",
              "    <tr>\n",
              "      <th>744</th>\n",
              "      <td>7881105</td>\n",
              "      <td>Arsenius Skill Capital is Hiring International...</td>\n",
              "    </tr>\n",
              "  </tbody>\n",
              "</table>\n",
              "<p>745 rows × 2 columns</p>\n",
              "</div>"
            ],
            "text/plain": [
              "     Document ID                                         decription\n",
              "0        8278991  We have opening for&nbsp; Store Manager &nbsp;...\n",
              "1        8208777  Deck Cadet Job Description. Be it on a militar...\n",
              "2        8331687  Hiring for INTERNATIONAL BPO (call simran-9711...\n",
              "3        8072903  We need candidates for part time /work from ho...\n",
              "4        8253293  Dear Candidate ,Greetings from ABM Travels &am...\n",
              "..           ...                                                ...\n",
              "740      8305287  Job Description for Visa Assistant1. Candidate...\n",
              "741      7889695  Dear Candidates,Greetings !&nbsp;We are hiring...\n",
              "742      8388763  We are looking for a Tax Accountant to prepare...\n",
              "743      8058909  Handle International Ticketing / Domestics Tic...\n",
              "744      7881105  Arsenius Skill Capital is Hiring International...\n",
              "\n",
              "[745 rows x 2 columns]"
            ]
          },
          "metadata": {
            "tags": []
          },
          "execution_count": 10
        }
      ]
    },
    {
      "cell_type": "code",
      "metadata": {
        "id": "94iqnJ5wqGhh",
        "colab_type": "code",
        "outputId": "97e2fae3-7eb8-40b2-f810-2e3175d620d2",
        "colab": {
          "base_uri": "https://localhost:8080/",
          "height": 402
        }
      },
      "source": [
        "data"
      ],
      "execution_count": 11,
      "outputs": [
        {
          "output_type": "execute_result",
          "data": {
            "text/html": [
              "<div>\n",
              "<style scoped>\n",
              "    .dataframe tbody tr th:only-of-type {\n",
              "        vertical-align: middle;\n",
              "    }\n",
              "\n",
              "    .dataframe tbody tr th {\n",
              "        vertical-align: top;\n",
              "    }\n",
              "\n",
              "    .dataframe thead th {\n",
              "        text-align: right;\n",
              "    }\n",
              "</style>\n",
              "<table border=\"1\" class=\"dataframe\">\n",
              "  <thead>\n",
              "    <tr style=\"text-align: right;\">\n",
              "      <th></th>\n",
              "      <th>Document ID</th>\n",
              "      <th>Department</th>\n",
              "    </tr>\n",
              "  </thead>\n",
              "  <tbody>\n",
              "    <tr>\n",
              "      <th>0</th>\n",
              "      <td>8196431</td>\n",
              "      <td>Customer service</td>\n",
              "    </tr>\n",
              "    <tr>\n",
              "      <th>1</th>\n",
              "      <td>8278123</td>\n",
              "      <td>Digital Marketing</td>\n",
              "    </tr>\n",
              "    <tr>\n",
              "      <th>2</th>\n",
              "      <td>8331625</td>\n",
              "      <td>Sales</td>\n",
              "    </tr>\n",
              "    <tr>\n",
              "      <th>3</th>\n",
              "      <td>8331003</td>\n",
              "      <td>Back office ticketing</td>\n",
              "    </tr>\n",
              "    <tr>\n",
              "      <th>4</th>\n",
              "      <td>8277939</td>\n",
              "      <td>Digital Marketing</td>\n",
              "    </tr>\n",
              "    <tr>\n",
              "      <th>...</th>\n",
              "      <td>...</td>\n",
              "      <td>...</td>\n",
              "    </tr>\n",
              "    <tr>\n",
              "      <th>1157</th>\n",
              "      <td>8366382</td>\n",
              "      <td>Administration</td>\n",
              "    </tr>\n",
              "    <tr>\n",
              "      <th>1158</th>\n",
              "      <td>8370153</td>\n",
              "      <td>Sales</td>\n",
              "    </tr>\n",
              "    <tr>\n",
              "      <th>1159</th>\n",
              "      <td>8388313</td>\n",
              "      <td>Ticketing</td>\n",
              "    </tr>\n",
              "    <tr>\n",
              "      <th>1160</th>\n",
              "      <td>8389315</td>\n",
              "      <td>Sales</td>\n",
              "    </tr>\n",
              "    <tr>\n",
              "      <th>1161</th>\n",
              "      <td>8389347</td>\n",
              "      <td>Ticketing</td>\n",
              "    </tr>\n",
              "  </tbody>\n",
              "</table>\n",
              "<p>1162 rows × 2 columns</p>\n",
              "</div>"
            ],
            "text/plain": [
              "      Document ID             Department\n",
              "0         8196431       Customer service\n",
              "1         8278123      Digital Marketing\n",
              "2         8331625                  Sales\n",
              "3         8331003  Back office ticketing\n",
              "4         8277939      Digital Marketing\n",
              "...           ...                    ...\n",
              "1157      8366382         Administration\n",
              "1158      8370153                  Sales\n",
              "1159      8388313              Ticketing\n",
              "1160      8389315                  Sales\n",
              "1161      8389347              Ticketing\n",
              "\n",
              "[1162 rows x 2 columns]"
            ]
          },
          "metadata": {
            "tags": []
          },
          "execution_count": 11
        }
      ]
    },
    {
      "cell_type": "code",
      "metadata": {
        "id": "i03X5pyJo1Cz",
        "colab_type": "code",
        "colab": {}
      },
      "source": [
        "df_n = pd.merge(df,data, on='Document ID')"
      ],
      "execution_count": 0,
      "outputs": []
    },
    {
      "cell_type": "markdown",
      "metadata": {
        "id": "1Ur57SWPya_L",
        "colab_type": "text"
      },
      "source": [
        "Our final data is ready in form of csv containing dependent and independent variable"
      ]
    },
    {
      "cell_type": "code",
      "metadata": {
        "id": "ZAqmvxNhpZGQ",
        "colab_type": "code",
        "outputId": "b9fec702-cd8e-404f-eb21-4eeb1861fbb6",
        "colab": {
          "base_uri": "https://localhost:8080/",
          "height": 343
        }
      },
      "source": [
        "df_n.head(10)"
      ],
      "execution_count": 13,
      "outputs": [
        {
          "output_type": "execute_result",
          "data": {
            "text/html": [
              "<div>\n",
              "<style scoped>\n",
              "    .dataframe tbody tr th:only-of-type {\n",
              "        vertical-align: middle;\n",
              "    }\n",
              "\n",
              "    .dataframe tbody tr th {\n",
              "        vertical-align: top;\n",
              "    }\n",
              "\n",
              "    .dataframe thead th {\n",
              "        text-align: right;\n",
              "    }\n",
              "</style>\n",
              "<table border=\"1\" class=\"dataframe\">\n",
              "  <thead>\n",
              "    <tr style=\"text-align: right;\">\n",
              "      <th></th>\n",
              "      <th>Document ID</th>\n",
              "      <th>decription</th>\n",
              "      <th>Department</th>\n",
              "    </tr>\n",
              "  </thead>\n",
              "  <tbody>\n",
              "    <tr>\n",
              "      <th>0</th>\n",
              "      <td>8278991</td>\n",
              "      <td>We have opening for&amp;nbsp; Store Manager &amp;nbsp;...</td>\n",
              "      <td>Sales</td>\n",
              "    </tr>\n",
              "    <tr>\n",
              "      <th>1</th>\n",
              "      <td>8208777</td>\n",
              "      <td>Deck Cadet Job Description. Be it on a militar...</td>\n",
              "      <td>Marine Engineering</td>\n",
              "    </tr>\n",
              "    <tr>\n",
              "      <th>2</th>\n",
              "      <td>8331687</td>\n",
              "      <td>Hiring for INTERNATIONAL BPO (call simran-9711...</td>\n",
              "      <td>Customer service</td>\n",
              "    </tr>\n",
              "    <tr>\n",
              "      <th>3</th>\n",
              "      <td>8072903</td>\n",
              "      <td>We need candidates for part time /work from ho...</td>\n",
              "      <td>Digital Marketing</td>\n",
              "    </tr>\n",
              "    <tr>\n",
              "      <th>4</th>\n",
              "      <td>8253293</td>\n",
              "      <td>Dear Candidate ,Greetings from ABM Travels &amp;am...</td>\n",
              "      <td>Ticketing</td>\n",
              "    </tr>\n",
              "    <tr>\n",
              "      <th>5</th>\n",
              "      <td>8280309</td>\n",
              "      <td>Hello Everyone,&amp;nbsp;Office Part/Full Time Wit...</td>\n",
              "      <td>Operations</td>\n",
              "    </tr>\n",
              "    <tr>\n",
              "      <th>6</th>\n",
              "      <td>8370153</td>\n",
              "      <td>ANTILOG VACATIONis hiring both fresher and exp...</td>\n",
              "      <td>Sales</td>\n",
              "    </tr>\n",
              "    <tr>\n",
              "      <th>7</th>\n",
              "      <td>8190149</td>\n",
              "      <td>Arsenius Skill Capital has Urgent requirement ...</td>\n",
              "      <td>Sales</td>\n",
              "    </tr>\n",
              "    <tr>\n",
              "      <th>8</th>\n",
              "      <td>8385953</td>\n",
              "      <td>Operation international1. File Handling2.Negot...</td>\n",
              "      <td>Ticketing</td>\n",
              "    </tr>\n",
              "    <tr>\n",
              "      <th>9</th>\n",
              "      <td>7825919</td>\n",
              "      <td>&amp;bull; Improve the Sales capabilities of the a...</td>\n",
              "      <td>Ticketing</td>\n",
              "    </tr>\n",
              "  </tbody>\n",
              "</table>\n",
              "</div>"
            ],
            "text/plain": [
              "   Document ID  ...           Department\n",
              "0      8278991  ...                Sales\n",
              "1      8208777  ...  Marine Engineering \n",
              "2      8331687  ...     Customer service\n",
              "3      8072903  ...    Digital Marketing\n",
              "4      8253293  ...            Ticketing\n",
              "5      8280309  ...           Operations\n",
              "6      8370153  ...                Sales\n",
              "7      8190149  ...                Sales\n",
              "8      8385953  ...            Ticketing\n",
              "9      7825919  ...            Ticketing\n",
              "\n",
              "[10 rows x 3 columns]"
            ]
          },
          "metadata": {
            "tags": []
          },
          "execution_count": 13
        }
      ]
    },
    {
      "cell_type": "code",
      "metadata": {
        "id": "-RJo-6gI3Gsz",
        "colab_type": "code",
        "colab": {}
      },
      "source": [
        ""
      ],
      "execution_count": 0,
      "outputs": []
    },
    {
      "cell_type": "code",
      "metadata": {
        "id": "TiLP6ZyXqxZA",
        "colab_type": "code",
        "colab": {}
      },
      "source": [
        "df_n['Department'] = pd.Categorical(df_n['Department'])"
      ],
      "execution_count": 0,
      "outputs": []
    },
    {
      "cell_type": "code",
      "metadata": {
        "id": "LQIwgkzxrnRl",
        "colab_type": "code",
        "colab": {}
      },
      "source": [
        "dfDummies = pd.get_dummies(df_n['Department'], prefix = 'dept')"
      ],
      "execution_count": 0,
      "outputs": []
    },
    {
      "cell_type": "code",
      "metadata": {
        "id": "PrV6QkYzuu4v",
        "colab_type": "code",
        "colab": {}
      },
      "source": [
        "df_n = pd.concat([df_n, dfDummies], axis=1)"
      ],
      "execution_count": 0,
      "outputs": []
    },
    {
      "cell_type": "code",
      "metadata": {
        "id": "5uENG3kxvTmu",
        "colab_type": "code",
        "colab": {}
      },
      "source": [
        "del df_n['Department']"
      ],
      "execution_count": 0,
      "outputs": []
    },
    {
      "cell_type": "code",
      "metadata": {
        "id": "LASBPQKyvg71",
        "colab_type": "code",
        "outputId": "f160f4c1-288f-47dc-ca05-09f71d6f8dbc",
        "colab": {
          "base_uri": "https://localhost:8080/",
          "height": 34
        }
      },
      "source": [
        "df_n.shape"
      ],
      "execution_count": 18,
      "outputs": [
        {
          "output_type": "execute_result",
          "data": {
            "text/plain": [
              "(745, 29)"
            ]
          },
          "metadata": {
            "tags": []
          },
          "execution_count": 18
        }
      ]
    },
    {
      "cell_type": "code",
      "metadata": {
        "id": "CDDe9gv2y35G",
        "colab_type": "code",
        "colab": {}
      },
      "source": [
        "df_n['text'] = df_n['decription'].apply(lambda x: x.replace('\\n', ' '))"
      ],
      "execution_count": 0,
      "outputs": []
    },
    {
      "cell_type": "code",
      "metadata": {
        "id": "jk-gI0eDy-uX",
        "colab_type": "code",
        "colab": {}
      },
      "source": [
        "del df_n['decription']"
      ],
      "execution_count": 0,
      "outputs": []
    },
    {
      "cell_type": "code",
      "metadata": {
        "id": "WeR8oGot6kzC",
        "colab_type": "code",
        "outputId": "e4f73426-3ffc-4fd7-92c3-b35f54e350a1",
        "colab": {
          "base_uri": "https://localhost:8080/",
          "height": 202
        }
      },
      "source": [
        "df_n.columns"
      ],
      "execution_count": 21,
      "outputs": [
        {
          "output_type": "execute_result",
          "data": {
            "text/plain": [
              "Index(['Document ID', 'dept_Administration', 'dept_Airline Ground Operations',\n",
              "       'dept_Analytics', 'dept_Back office ticketing', 'dept_Content',\n",
              "       'dept_Customer service', 'dept_Data entry', 'dept_Digital Marketing',\n",
              "       'dept_Engineering Design Construction', 'dept_Finance',\n",
              "       'dept_Flight Operations', 'dept_IT', 'dept_Learning and Development ',\n",
              "       'dept_Logistics', 'dept_Maintenance', 'dept_Marine Deck ',\n",
              "       'dept_Marine Engineering ', 'dept_Marine Service Steward ',\n",
              "       'dept_Marketing', 'dept_Operations', 'dept_Presales ',\n",
              "       'dept_Procurement', 'dept_Public Relations ', 'dept_Recruitment',\n",
              "       'dept_Sales', 'dept_Technology', 'dept_Ticketing', 'text'],\n",
              "      dtype='object')"
            ]
          },
          "metadata": {
            "tags": []
          },
          "execution_count": 21
        }
      ]
    },
    {
      "cell_type": "code",
      "metadata": {
        "id": "FMAkcjc75DOU",
        "colab_type": "code",
        "colab": {}
      },
      "source": [
        "df_n['labels'] = list(zip(df_n['dept_Administration'].tolist(), df_n['dept_Airline Ground Operations'].tolist(), df_n['dept_Analytics'].tolist(), df_n['dept_Back office ticketing'].tolist(), df_n['dept_Content'].tolist(), df_n['dept_Customer service'].tolist(), df_n['dept_Data entry'].tolist(), df_n['dept_Digital Marketing'].tolist(), df_n['dept_Engineering Design Construction'].tolist(), df_n['dept_Finance'].tolist(), df_n['dept_Flight Operations'].tolist(), df_n['dept_IT'].tolist(), df_n['dept_Learning and Development '].tolist(), df_n['dept_Logistics'].tolist(), df_n['dept_Maintenance'].tolist(), df_n['dept_Marine Deck '].tolist(), df_n['dept_Marine Engineering '].tolist(), df_n['dept_Marine Service Steward '].tolist(), df_n['dept_Marketing'].tolist(), df_n['dept_Operations'].tolist(), df_n['dept_Presales '].tolist(), df_n['dept_Procurement'].tolist(), df_n['dept_Public Relations '].tolist(), df_n['dept_Recruitment'].tolist(), df_n['dept_Sales'].tolist(), df_n['dept_Technology'].tolist(), df_n['dept_Ticketing'].tolist()))"
      ],
      "execution_count": 0,
      "outputs": []
    },
    {
      "cell_type": "code",
      "metadata": {
        "id": "rC5EHgnJ7Ugr",
        "colab_type": "code",
        "colab": {}
      },
      "source": [
        "df_n=df_n[['text','labels']]"
      ],
      "execution_count": 0,
      "outputs": []
    },
    {
      "cell_type": "code",
      "metadata": {
        "id": "EltprdIN7gH1",
        "colab_type": "code",
        "outputId": "60bb81c0-3cba-4610-c0eb-50d491a0aa79",
        "colab": {
          "base_uri": "https://localhost:8080/",
          "height": 195
        }
      },
      "source": [
        "df_n.head(5)"
      ],
      "execution_count": 24,
      "outputs": [
        {
          "output_type": "execute_result",
          "data": {
            "text/html": [
              "<div>\n",
              "<style scoped>\n",
              "    .dataframe tbody tr th:only-of-type {\n",
              "        vertical-align: middle;\n",
              "    }\n",
              "\n",
              "    .dataframe tbody tr th {\n",
              "        vertical-align: top;\n",
              "    }\n",
              "\n",
              "    .dataframe thead th {\n",
              "        text-align: right;\n",
              "    }\n",
              "</style>\n",
              "<table border=\"1\" class=\"dataframe\">\n",
              "  <thead>\n",
              "    <tr style=\"text-align: right;\">\n",
              "      <th></th>\n",
              "      <th>text</th>\n",
              "      <th>labels</th>\n",
              "    </tr>\n",
              "  </thead>\n",
              "  <tbody>\n",
              "    <tr>\n",
              "      <th>0</th>\n",
              "      <td>We have opening for&amp;nbsp; Store Manager &amp;nbsp;...</td>\n",
              "      <td>(0, 0, 0, 0, 0, 0, 0, 0, 0, 0, 0, 0, 0, 0, 0, ...</td>\n",
              "    </tr>\n",
              "    <tr>\n",
              "      <th>1</th>\n",
              "      <td>Deck Cadet Job Description. Be it on a militar...</td>\n",
              "      <td>(0, 0, 0, 0, 0, 0, 0, 0, 0, 0, 0, 0, 0, 0, 0, ...</td>\n",
              "    </tr>\n",
              "    <tr>\n",
              "      <th>2</th>\n",
              "      <td>Hiring for INTERNATIONAL BPO (call simran-9711...</td>\n",
              "      <td>(0, 0, 0, 0, 0, 1, 0, 0, 0, 0, 0, 0, 0, 0, 0, ...</td>\n",
              "    </tr>\n",
              "    <tr>\n",
              "      <th>3</th>\n",
              "      <td>We need candidates for part time /work from ho...</td>\n",
              "      <td>(0, 0, 0, 0, 0, 0, 0, 1, 0, 0, 0, 0, 0, 0, 0, ...</td>\n",
              "    </tr>\n",
              "    <tr>\n",
              "      <th>4</th>\n",
              "      <td>Dear Candidate ,Greetings from ABM Travels &amp;am...</td>\n",
              "      <td>(0, 0, 0, 0, 0, 0, 0, 0, 0, 0, 0, 0, 0, 0, 0, ...</td>\n",
              "    </tr>\n",
              "  </tbody>\n",
              "</table>\n",
              "</div>"
            ],
            "text/plain": [
              "                                                text                                             labels\n",
              "0  We have opening for&nbsp; Store Manager &nbsp;...  (0, 0, 0, 0, 0, 0, 0, 0, 0, 0, 0, 0, 0, 0, 0, ...\n",
              "1  Deck Cadet Job Description. Be it on a militar...  (0, 0, 0, 0, 0, 0, 0, 0, 0, 0, 0, 0, 0, 0, 0, ...\n",
              "2  Hiring for INTERNATIONAL BPO (call simran-9711...  (0, 0, 0, 0, 0, 1, 0, 0, 0, 0, 0, 0, 0, 0, 0, ...\n",
              "3  We need candidates for part time /work from ho...  (0, 0, 0, 0, 0, 0, 0, 1, 0, 0, 0, 0, 0, 0, 0, ...\n",
              "4  Dear Candidate ,Greetings from ABM Travels &am...  (0, 0, 0, 0, 0, 0, 0, 0, 0, 0, 0, 0, 0, 0, 0, ..."
            ]
          },
          "metadata": {
            "tags": []
          },
          "execution_count": 24
        }
      ]
    },
    {
      "cell_type": "code",
      "metadata": {
        "id": "vOxVpHpkKbAi",
        "colab_type": "code",
        "colab": {
          "base_uri": "https://localhost:8080/",
          "height": 50
        },
        "outputId": "bdd4d16c-ece5-4547-e3e3-e06f4af7497a"
      },
      "source": [
        "import nltk\n",
        "nltk.download('stopwords')\n",
        "from nltk.corpus import stopwords\n",
        "stop = set(stopwords.words('english'))\n",
        "import re\n",
        "def normalize(s):\n",
        "    s = s.lower()\n",
        "    # Isolate punctuation\n",
        "    s = re.sub(r'([\\'\\\"\\.\\(\\)\\!\\?\\-\\\\\\/\\,])', r' \\1 ', s)\n",
        "    # Remove some special characters\n",
        "    s = re.sub(r'([\\;\\:\\|•«\\n])', ' ', s)\n",
        "    s = s.replace('nbsp', '')\n",
        "    s = re.sub(\" \\d+\", \" \", s)\n",
        "    return s"
      ],
      "execution_count": 27,
      "outputs": [
        {
          "output_type": "stream",
          "text": [
            "[nltk_data] Downloading package stopwords to /root/nltk_data...\n",
            "[nltk_data]   Package stopwords is already up-to-date!\n"
          ],
          "name": "stdout"
        }
      ]
    },
    {
      "cell_type": "code",
      "metadata": {
        "id": "3ZzBPa7dKiMn",
        "colab_type": "code",
        "colab": {}
      },
      "source": [
        "train_norm_text=[]\n",
        "for line in df_n['text'].values:\n",
        "    line=str(line)\n",
        "    line = normalize(line)\n",
        "    line = line.lower()\n",
        "    line_by_words = re.findall(r'(?:\\w+)', line, flags = re.UNICODE) # remove punctuation ans split\n",
        "    new_line=[]\n",
        "    for word in line_by_words:\n",
        "        if word not in stop:\n",
        "            new_line.append(word)\n",
        "    train_norm_text.append(\" \".join(new_line))"
      ],
      "execution_count": 0,
      "outputs": []
    },
    {
      "cell_type": "code",
      "metadata": {
        "id": "3a6YrPiCKiKu",
        "colab_type": "code",
        "colab": {}
      },
      "source": [
        "df_n['text']=train_norm_text"
      ],
      "execution_count": 0,
      "outputs": []
    },
    {
      "cell_type": "code",
      "metadata": {
        "id": "c10EJFglKiHl",
        "colab_type": "code",
        "colab": {}
      },
      "source": [
        ""
      ],
      "execution_count": 0,
      "outputs": []
    },
    {
      "cell_type": "code",
      "metadata": {
        "id": "XQeR8qy1KiEw",
        "colab_type": "code",
        "colab": {}
      },
      "source": [
        ""
      ],
      "execution_count": 0,
      "outputs": []
    },
    {
      "cell_type": "code",
      "metadata": {
        "id": "o9VVkgMUvqf3",
        "colab_type": "code",
        "colab": {}
      },
      "source": [
        "from sklearn.model_selection import train_test_split\n",
        "train_df, eval_df = train_test_split(df_n, test_size=0.1)"
      ],
      "execution_count": 0,
      "outputs": []
    },
    {
      "cell_type": "code",
      "metadata": {
        "id": "73aBpp74yuHJ",
        "colab_type": "code",
        "colab": {}
      },
      "source": [
        ""
      ],
      "execution_count": 0,
      "outputs": []
    },
    {
      "cell_type": "markdown",
      "metadata": {
        "id": "1Y2PF540ylfh",
        "colab_type": "text"
      },
      "source": [
        "Using simple Tranfromer library for testing using BERT "
      ]
    },
    {
      "cell_type": "code",
      "metadata": {
        "id": "513UW3ChxXRq",
        "colab_type": "code",
        "outputId": "684a697d-ea51-4109-8f08-227b2adbe5d3",
        "colab": {
          "base_uri": "https://localhost:8080/",
          "height": 1000
        }
      },
      "source": [
        "!pip install simpletransformers"
      ],
      "execution_count": 31,
      "outputs": [
        {
          "output_type": "stream",
          "text": [
            "Collecting simpletransformers\n",
            "\u001b[?25l  Downloading https://files.pythonhosted.org/packages/f4/41/418b2e4ffad5f165079a2ab4ec0be6cec4ff48bbddd2193c334b3f2a77db/simpletransformers-0.21.3-py3-none-any.whl (133kB)\n",
            "\u001b[K     |████████████████████████████████| 133kB 2.6MB/s \n",
            "\u001b[?25hCollecting seqeval\n",
            "  Downloading https://files.pythonhosted.org/packages/34/91/068aca8d60ce56dd9ba4506850e876aba5e66a6f2f29aa223224b50df0de/seqeval-0.0.12.tar.gz\n",
            "Collecting tensorboardx\n",
            "\u001b[?25l  Downloading https://files.pythonhosted.org/packages/35/f1/5843425495765c8c2dd0784a851a93ef204d314fc87bcc2bbb9f662a3ad1/tensorboardX-2.0-py2.py3-none-any.whl (195kB)\n",
            "\u001b[K     |████████████████████████████████| 204kB 7.5MB/s \n",
            "\u001b[?25hRequirement already satisfied: requests in /usr/local/lib/python3.6/dist-packages (from simpletransformers) (2.21.0)\n",
            "Requirement already satisfied: regex in /usr/local/lib/python3.6/dist-packages (from simpletransformers) (2019.12.20)\n",
            "Collecting transformers\n",
            "\u001b[?25l  Downloading https://files.pythonhosted.org/packages/13/33/ffb67897a6985a7b7d8e5e7878c3628678f553634bd3836404fef06ef19b/transformers-2.5.1-py3-none-any.whl (499kB)\n",
            "\u001b[K     |████████████████████████████████| 501kB 8.7MB/s \n",
            "\u001b[?25hRequirement already satisfied: pandas in /usr/local/lib/python3.6/dist-packages (from simpletransformers) (0.25.3)\n",
            "Requirement already satisfied: scipy in /usr/local/lib/python3.6/dist-packages (from simpletransformers) (1.4.1)\n",
            "Requirement already satisfied: numpy in /usr/local/lib/python3.6/dist-packages (from simpletransformers) (1.17.5)\n",
            "Requirement already satisfied: scikit-learn in /usr/local/lib/python3.6/dist-packages (from simpletransformers) (0.22.1)\n",
            "Requirement already satisfied: tqdm in /usr/local/lib/python3.6/dist-packages (from simpletransformers) (4.28.1)\n",
            "Requirement already satisfied: Keras>=2.2.4 in /usr/local/lib/python3.6/dist-packages (from seqeval->simpletransformers) (2.2.5)\n",
            "Requirement already satisfied: protobuf>=3.8.0 in /usr/local/lib/python3.6/dist-packages (from tensorboardx->simpletransformers) (3.10.0)\n",
            "Requirement already satisfied: six in /usr/local/lib/python3.6/dist-packages (from tensorboardx->simpletransformers) (1.12.0)\n",
            "Requirement already satisfied: chardet<3.1.0,>=3.0.2 in /usr/local/lib/python3.6/dist-packages (from requests->simpletransformers) (3.0.4)\n",
            "Requirement already satisfied: certifi>=2017.4.17 in /usr/local/lib/python3.6/dist-packages (from requests->simpletransformers) (2019.11.28)\n",
            "Requirement already satisfied: urllib3<1.25,>=1.21.1 in /usr/local/lib/python3.6/dist-packages (from requests->simpletransformers) (1.24.3)\n",
            "Requirement already satisfied: idna<2.9,>=2.5 in /usr/local/lib/python3.6/dist-packages (from requests->simpletransformers) (2.8)\n",
            "Collecting sentencepiece\n",
            "\u001b[?25l  Downloading https://files.pythonhosted.org/packages/74/f4/2d5214cbf13d06e7cb2c20d84115ca25b53ea76fa1f0ade0e3c9749de214/sentencepiece-0.1.85-cp36-cp36m-manylinux1_x86_64.whl (1.0MB)\n",
            "\u001b[K     |████████████████████████████████| 1.0MB 14.7MB/s \n",
            "\u001b[?25hRequirement already satisfied: boto3 in /usr/local/lib/python3.6/dist-packages (from transformers->simpletransformers) (1.11.15)\n",
            "Requirement already satisfied: filelock in /usr/local/lib/python3.6/dist-packages (from transformers->simpletransformers) (3.0.12)\n",
            "Collecting tokenizers==0.5.2\n",
            "\u001b[?25l  Downloading https://files.pythonhosted.org/packages/d1/3f/73c881ea4723e43c1e9acf317cf407fab3a278daab3a69c98dcac511c04f/tokenizers-0.5.2-cp36-cp36m-manylinux1_x86_64.whl (3.7MB)\n",
            "\u001b[K     |████████████████████████████████| 3.7MB 19.8MB/s \n",
            "\u001b[?25hCollecting sacremoses\n",
            "\u001b[?25l  Downloading https://files.pythonhosted.org/packages/a6/b4/7a41d630547a4afd58143597d5a49e07bfd4c42914d8335b2a5657efc14b/sacremoses-0.0.38.tar.gz (860kB)\n",
            "\u001b[K     |████████████████████████████████| 870kB 29.4MB/s \n",
            "\u001b[?25hRequirement already satisfied: pytz>=2017.2 in /usr/local/lib/python3.6/dist-packages (from pandas->simpletransformers) (2018.9)\n",
            "Requirement already satisfied: python-dateutil>=2.6.1 in /usr/local/lib/python3.6/dist-packages (from pandas->simpletransformers) (2.6.1)\n",
            "Requirement already satisfied: joblib>=0.11 in /usr/local/lib/python3.6/dist-packages (from scikit-learn->simpletransformers) (0.14.1)\n",
            "Requirement already satisfied: pyyaml in /usr/local/lib/python3.6/dist-packages (from Keras>=2.2.4->seqeval->simpletransformers) (3.13)\n",
            "Requirement already satisfied: h5py in /usr/local/lib/python3.6/dist-packages (from Keras>=2.2.4->seqeval->simpletransformers) (2.8.0)\n",
            "Requirement already satisfied: keras-applications>=1.0.8 in /usr/local/lib/python3.6/dist-packages (from Keras>=2.2.4->seqeval->simpletransformers) (1.0.8)\n",
            "Requirement already satisfied: keras-preprocessing>=1.1.0 in /usr/local/lib/python3.6/dist-packages (from Keras>=2.2.4->seqeval->simpletransformers) (1.1.0)\n",
            "Requirement already satisfied: setuptools in /usr/local/lib/python3.6/dist-packages (from protobuf>=3.8.0->tensorboardx->simpletransformers) (45.2.0)\n",
            "Requirement already satisfied: s3transfer<0.4.0,>=0.3.0 in /usr/local/lib/python3.6/dist-packages (from boto3->transformers->simpletransformers) (0.3.3)\n",
            "Requirement already satisfied: jmespath<1.0.0,>=0.7.1 in /usr/local/lib/python3.6/dist-packages (from boto3->transformers->simpletransformers) (0.9.4)\n",
            "Requirement already satisfied: botocore<1.15.0,>=1.14.15 in /usr/local/lib/python3.6/dist-packages (from boto3->transformers->simpletransformers) (1.14.15)\n",
            "Requirement already satisfied: click in /usr/local/lib/python3.6/dist-packages (from sacremoses->transformers->simpletransformers) (7.0)\n",
            "Requirement already satisfied: docutils<0.16,>=0.10 in /usr/local/lib/python3.6/dist-packages (from botocore<1.15.0,>=1.14.15->boto3->transformers->simpletransformers) (0.15.2)\n",
            "Building wheels for collected packages: seqeval, sacremoses\n",
            "  Building wheel for seqeval (setup.py) ... \u001b[?25l\u001b[?25hdone\n",
            "  Created wheel for seqeval: filename=seqeval-0.0.12-cp36-none-any.whl size=7424 sha256=8e2637c9c73e490ceb97f1ff14d4ba2203e12157560bad9c69db2efea77b02d6\n",
            "  Stored in directory: /root/.cache/pip/wheels/4f/32/0a/df3b340a82583566975377d65e724895b3fad101a3fb729f68\n",
            "  Building wheel for sacremoses (setup.py) ... \u001b[?25l\u001b[?25hdone\n",
            "  Created wheel for sacremoses: filename=sacremoses-0.0.38-cp36-none-any.whl size=884628 sha256=de5d46120d5cdab22375bac56f1813da19e47eb0370ca6536fed496c7799ae98\n",
            "  Stored in directory: /root/.cache/pip/wheels/6d/ec/1a/21b8912e35e02741306f35f66c785f3afe94de754a0eaf1422\n",
            "Successfully built seqeval sacremoses\n",
            "Installing collected packages: seqeval, tensorboardx, sentencepiece, tokenizers, sacremoses, transformers, simpletransformers\n",
            "Successfully installed sacremoses-0.0.38 sentencepiece-0.1.85 seqeval-0.0.12 simpletransformers-0.21.3 tensorboardx-2.0 tokenizers-0.5.2 transformers-2.5.1\n"
          ],
          "name": "stdout"
        }
      ]
    },
    {
      "cell_type": "code",
      "metadata": {
        "id": "qSvO2D-wK4Bd",
        "colab_type": "code",
        "colab": {
          "base_uri": "https://localhost:8080/",
          "height": 134
        },
        "outputId": "d577335a-e452-4194-a9f0-f85ef3d4fc86"
      },
      "source": [
        "!git clone https://github.com/NVIDIA/apex"
      ],
      "execution_count": 32,
      "outputs": [
        {
          "output_type": "stream",
          "text": [
            "Cloning into 'apex'...\n",
            "remote: Enumerating objects: 79, done.\u001b[K\n",
            "remote: Counting objects: 100% (79/79), done.\u001b[K\n",
            "remote: Compressing objects: 100% (56/56), done.\u001b[K\n",
            "remote: Total 5914 (delta 45), reused 40 (delta 23), pack-reused 5835\u001b[K\n",
            "Receiving objects: 100% (5914/5914), 13.61 MiB | 8.11 MiB/s, done.\n",
            "Resolving deltas: 100% (3836/3836), done.\n"
          ],
          "name": "stdout"
        }
      ]
    },
    {
      "cell_type": "code",
      "metadata": {
        "id": "JsE0v1eWK3-o",
        "colab_type": "code",
        "colab": {
          "base_uri": "https://localhost:8080/",
          "height": 34
        },
        "outputId": "0dd22ee7-bee4-4498-8a1b-ae506e4ea74f"
      },
      "source": [
        "%cd apex"
      ],
      "execution_count": 33,
      "outputs": [
        {
          "output_type": "stream",
          "text": [
            "/content/apex\n"
          ],
          "name": "stdout"
        }
      ]
    },
    {
      "cell_type": "code",
      "metadata": {
        "id": "Yh5qoEYhK9qP",
        "colab_type": "code",
        "colab": {
          "base_uri": "https://localhost:8080/",
          "height": 1000
        },
        "outputId": "7db3106f-a15e-4954-8400-a87d7df28e8d"
      },
      "source": [
        "!pip install -v --no-cache-dir --global-option=\"--cpp_ext\" --global-option=\"--cuda_ext\" ./"
      ],
      "execution_count": 34,
      "outputs": [
        {
          "output_type": "stream",
          "text": [
            "/usr/local/lib/python3.6/dist-packages/pip/_internal/commands/install.py:283: UserWarning: Disabling all use of wheels due to the use of --build-options / --global-options / --install-options.\n",
            "  cmdoptions.check_install_build_global(options)\n",
            "Created temporary directory: /tmp/pip-ephem-wheel-cache-o26sl7bx\n",
            "Created temporary directory: /tmp/pip-req-tracker-sncikcrn\n",
            "Created requirements tracker '/tmp/pip-req-tracker-sncikcrn'\n",
            "Created temporary directory: /tmp/pip-install-mf14uvin\n",
            "Processing /content/apex\n",
            "  Created temporary directory: /tmp/pip-req-build-jj41_y9y\n",
            "  Added file:///content/apex to build tracker '/tmp/pip-req-tracker-sncikcrn'\n",
            "    Running setup.py (path:/tmp/pip-req-build-jj41_y9y/setup.py) egg_info for package from file:///content/apex\n",
            "    Running command python setup.py egg_info\n",
            "    torch.__version__  =  1.4.0\n",
            "    running egg_info\n",
            "    creating /tmp/pip-req-build-jj41_y9y/pip-egg-info/apex.egg-info\n",
            "    writing /tmp/pip-req-build-jj41_y9y/pip-egg-info/apex.egg-info/PKG-INFO\n",
            "    writing dependency_links to /tmp/pip-req-build-jj41_y9y/pip-egg-info/apex.egg-info/dependency_links.txt\n",
            "    writing top-level names to /tmp/pip-req-build-jj41_y9y/pip-egg-info/apex.egg-info/top_level.txt\n",
            "    writing manifest file '/tmp/pip-req-build-jj41_y9y/pip-egg-info/apex.egg-info/SOURCES.txt'\n",
            "    writing manifest file '/tmp/pip-req-build-jj41_y9y/pip-egg-info/apex.egg-info/SOURCES.txt'\n",
            "    /tmp/pip-req-build-jj41_y9y/setup.py:46: UserWarning: Option --pyprof not specified. Not installing PyProf dependencies!\n",
            "      warnings.warn(\"Option --pyprof not specified. Not installing PyProf dependencies!\")\n",
            "  Source in /tmp/pip-req-build-jj41_y9y has version 0.1, which satisfies requirement apex==0.1 from file:///content/apex\n",
            "  Removed apex==0.1 from file:///content/apex from build tracker '/tmp/pip-req-tracker-sncikcrn'\n",
            "Skipping wheel build for apex, due to binaries being disabled for it.\n",
            "Installing collected packages: apex\n",
            "  Created temporary directory: /tmp/pip-record-73uwpee3\n",
            "    Running command /usr/bin/python3 -u -c 'import sys, setuptools, tokenize; sys.argv[0] = '\"'\"'/tmp/pip-req-build-jj41_y9y/setup.py'\"'\"'; __file__='\"'\"'/tmp/pip-req-build-jj41_y9y/setup.py'\"'\"';f=getattr(tokenize, '\"'\"'open'\"'\"', open)(__file__);code=f.read().replace('\"'\"'\\r\\n'\"'\"', '\"'\"'\\n'\"'\"');f.close();exec(compile(code, __file__, '\"'\"'exec'\"'\"'))' --cpp_ext --cuda_ext install --record /tmp/pip-record-73uwpee3/install-record.txt --single-version-externally-managed --compile\n",
            "    torch.__version__  =  1.4.0\n",
            "    /tmp/pip-req-build-jj41_y9y/setup.py:46: UserWarning: Option --pyprof not specified. Not installing PyProf dependencies!\n",
            "      warnings.warn(\"Option --pyprof not specified. Not installing PyProf dependencies!\")\n",
            "\n",
            "    Compiling cuda extensions with\n",
            "    nvcc: NVIDIA (R) Cuda compiler driver\n",
            "    Copyright (c) 2005-2018 NVIDIA Corporation\n",
            "    Built on Sat_Aug_25_21:08:01_CDT_2018\n",
            "    Cuda compilation tools, release 10.0, V10.0.130\n",
            "    from /usr/local/cuda/bin\n",
            "\n",
            "    Traceback (most recent call last):\n",
            "      File \"<string>\", line 1, in <module>\n",
            "      File \"/tmp/pip-req-build-jj41_y9y/setup.py\", line 106, in <module>\n",
            "        check_cuda_torch_binary_vs_bare_metal(torch.utils.cpp_extension.CUDA_HOME)\n",
            "      File \"/tmp/pip-req-build-jj41_y9y/setup.py\", line 80, in check_cuda_torch_binary_vs_bare_metal\n",
            "        \"https://github.com/NVIDIA/apex/pull/323#discussion_r287021798.  \"\n",
            "    RuntimeError: Cuda extensions are being compiled with a version of Cuda that does not match the version used to compile Pytorch binaries.  Pytorch binaries were compiled with Cuda 10.1.\n",
            "    In some cases, a minor-version mismatch will not cause later errors:  https://github.com/NVIDIA/apex/pull/323#discussion_r287021798.  You can try commenting out this check (at your own risk).\n",
            "    Running setup.py install for apex ... \u001b[?25l\u001b[?25herror\n",
            "Cleaning up...\n",
            "  Removing source in /tmp/pip-req-build-jj41_y9y\n",
            "Removed build tracker '/tmp/pip-req-tracker-sncikcrn'\n",
            "\u001b[31mERROR: Command errored out with exit status 1: /usr/bin/python3 -u -c 'import sys, setuptools, tokenize; sys.argv[0] = '\"'\"'/tmp/pip-req-build-jj41_y9y/setup.py'\"'\"'; __file__='\"'\"'/tmp/pip-req-build-jj41_y9y/setup.py'\"'\"';f=getattr(tokenize, '\"'\"'open'\"'\"', open)(__file__);code=f.read().replace('\"'\"'\\r\\n'\"'\"', '\"'\"'\\n'\"'\"');f.close();exec(compile(code, __file__, '\"'\"'exec'\"'\"'))' --cpp_ext --cuda_ext install --record /tmp/pip-record-73uwpee3/install-record.txt --single-version-externally-managed --compile Check the logs for full command output.\u001b[0m\n",
            "Exception information:\n",
            "Traceback (most recent call last):\n",
            "  File \"/usr/local/lib/python3.6/dist-packages/pip/_internal/cli/base_command.py\", line 153, in _main\n",
            "    status = self.run(options, args)\n",
            "  File \"/usr/local/lib/python3.6/dist-packages/pip/_internal/commands/install.py\", line 455, in run\n",
            "    use_user_site=options.use_user_site,\n",
            "  File \"/usr/local/lib/python3.6/dist-packages/pip/_internal/req/__init__.py\", line 62, in install_given_reqs\n",
            "    **kwargs\n",
            "  File \"/usr/local/lib/python3.6/dist-packages/pip/_internal/req/req_install.py\", line 888, in install\n",
            "    cwd=self.unpacked_source_directory,\n",
            "  File \"/usr/local/lib/python3.6/dist-packages/pip/_internal/utils/subprocess.py\", line 275, in runner\n",
            "    spinner=spinner,\n",
            "  File \"/usr/local/lib/python3.6/dist-packages/pip/_internal/utils/subprocess.py\", line 242, in call_subprocess\n",
            "    raise InstallationError(exc_msg)\n",
            "pip._internal.exceptions.InstallationError: Command errored out with exit status 1: /usr/bin/python3 -u -c 'import sys, setuptools, tokenize; sys.argv[0] = '\"'\"'/tmp/pip-req-build-jj41_y9y/setup.py'\"'\"'; __file__='\"'\"'/tmp/pip-req-build-jj41_y9y/setup.py'\"'\"';f=getattr(tokenize, '\"'\"'open'\"'\"', open)(__file__);code=f.read().replace('\"'\"'\\r\\n'\"'\"', '\"'\"'\\n'\"'\"');f.close();exec(compile(code, __file__, '\"'\"'exec'\"'\"'))' --cpp_ext --cuda_ext install --record /tmp/pip-record-73uwpee3/install-record.txt --single-version-externally-managed --compile Check the logs for full command output.\n"
          ],
          "name": "stdout"
        }
      ]
    },
    {
      "cell_type": "code",
      "metadata": {
        "id": "Owx38Eys8smH",
        "colab_type": "code",
        "colab": {}
      },
      "source": [
        "import apex"
      ],
      "execution_count": 0,
      "outputs": []
    },
    {
      "cell_type": "code",
      "metadata": {
        "id": "t7VoIuV0v8VI",
        "colab_type": "code",
        "colab": {
          "base_uri": "https://localhost:8080/",
          "height": 258,
          "referenced_widgets": [
            "13e883b6e4da4327998918a1e950cac5",
            "7b7fc1af40134f14a8307381f2850923",
            "04eba43d3ae8429ebcc0e025775d0b9c",
            "15feae22d6d84c6a882013c1b4161ff6",
            "4769408c645248c3a3569bb9886e0ca7",
            "bfd022f1c7b04e318bc490eca47e8aa0",
            "978deb49cdae4a6794e7ec6c1c0cb4b6",
            "f90152abc60341fe905f7881e52cd38c",
            "49b18aabf79844d5b1e8990b6aac8670",
            "9acfb19776d64edfb5ad5952d4f0265d",
            "6a43d5d4ce8748b2af27f90e4ba600cd",
            "63b2273fa2964685904b031a83d8d7ee",
            "c9064ce10e294a6a840d2d56dbea213f",
            "a4189fffdd0a4d18940468d4844fec7a",
            "a6023971a1e342eba031078c8a5e96a3",
            "8ddc84c734344c67b2b7d4ea273fdc26",
            "46cd239c31c54f7a875d7fcdb20793fd",
            "268350f20f30433699c77fc67d70c737",
            "7c20c03585604549805bcdf106246845",
            "c1affec57346458c8e2b5143a3dfdc04",
            "efd31b50b2f745ef9e7a2d5806ae8293",
            "b4dc1108fe1e4b34b38fc837ec1755ff",
            "825bb9ca60cb4b348263aaeab803f467",
            "cfc1ed2c842c46c7a24b06f531fd63c3",
            "3c29f15feb2947fe81e52c769ede1ca9",
            "befcf89bd41048838900bec053e224c4",
            "0a8860edea434a66b295ea946db71dc8",
            "902b3dc64aef4548bb05828c196bc232",
            "6d4e4c1166284d1ea082f8e4c908ff8a",
            "b81f3e2fe8bc41e89537660f20e30322",
            "3c35bd991c7f41499bdff4c6b208bd8c",
            "75ae524108d5444ba79c170812c7e215"
          ]
        },
        "outputId": "ae8099a2-feab-467f-f3b2-43346f6b2efa"
      },
      "source": [
        "from simpletransformers.classification import MultiLabelClassificationModel\n",
        "model = MultiLabelClassificationModel('roberta', 'roberta-base', num_labels=27, args={'train_batch_size':2, 'reprocess_input_data': True, 'learning_rate': 3e-5, 'num_train_epochs': 3, 'max_seq_length': 256})"
      ],
      "execution_count": 36,
      "outputs": [
        {
          "output_type": "display_data",
          "data": {
            "text/html": [
              "<p style=\"color: red;\">\n",
              "The default version of TensorFlow in Colab will soon switch to TensorFlow 2.x.<br>\n",
              "We recommend you <a href=\"https://www.tensorflow.org/guide/migrate\" target=\"_blank\">upgrade</a> now \n",
              "or ensure your notebook will continue to use TensorFlow 1.x via the <code>%tensorflow_version 1.x</code> magic:\n",
              "<a href=\"https://colab.research.google.com/notebooks/tensorflow_version.ipynb\" target=\"_blank\">more info</a>.</p>\n"
            ],
            "text/plain": [
              "<IPython.core.display.HTML object>"
            ]
          },
          "metadata": {
            "tags": []
          }
        },
        {
          "output_type": "display_data",
          "data": {
            "application/vnd.jupyter.widget-view+json": {
              "model_id": "13e883b6e4da4327998918a1e950cac5",
              "version_minor": 0,
              "version_major": 2
            },
            "text/plain": [
              "HBox(children=(IntProgress(value=0, description='Downloading', max=524, style=ProgressStyle(description_width=…"
            ]
          },
          "metadata": {
            "tags": []
          }
        },
        {
          "output_type": "stream",
          "text": [
            "\n"
          ],
          "name": "stdout"
        },
        {
          "output_type": "display_data",
          "data": {
            "application/vnd.jupyter.widget-view+json": {
              "model_id": "49b18aabf79844d5b1e8990b6aac8670",
              "version_minor": 0,
              "version_major": 2
            },
            "text/plain": [
              "HBox(children=(IntProgress(value=0, description='Downloading', max=501200538, style=ProgressStyle(description_…"
            ]
          },
          "metadata": {
            "tags": []
          }
        },
        {
          "output_type": "stream",
          "text": [
            "\n"
          ],
          "name": "stdout"
        },
        {
          "output_type": "display_data",
          "data": {
            "application/vnd.jupyter.widget-view+json": {
              "model_id": "46cd239c31c54f7a875d7fcdb20793fd",
              "version_minor": 0,
              "version_major": 2
            },
            "text/plain": [
              "HBox(children=(IntProgress(value=0, description='Downloading', max=898823, style=ProgressStyle(description_wid…"
            ]
          },
          "metadata": {
            "tags": []
          }
        },
        {
          "output_type": "stream",
          "text": [
            "\n"
          ],
          "name": "stdout"
        },
        {
          "output_type": "display_data",
          "data": {
            "application/vnd.jupyter.widget-view+json": {
              "model_id": "3c29f15feb2947fe81e52c769ede1ca9",
              "version_minor": 0,
              "version_major": 2
            },
            "text/plain": [
              "HBox(children=(IntProgress(value=0, description='Downloading', max=456318, style=ProgressStyle(description_wid…"
            ]
          },
          "metadata": {
            "tags": []
          }
        },
        {
          "output_type": "stream",
          "text": [
            "\n"
          ],
          "name": "stdout"
        }
      ]
    },
    {
      "cell_type": "code",
      "metadata": {
        "colab_type": "code",
        "outputId": "273d145e-3f50-4dfe-afef-cb770ecb68b2",
        "id": "Xoidb0uf4cPC",
        "colab": {
          "base_uri": "https://localhost:8080/",
          "height": 701,
          "referenced_widgets": [
            "38de734c303f424680728a6906058848",
            "471bbece28f845e09819083810d98a7a",
            "d8e2c93f5e6c4f429131d05061266c4b",
            "0a1c2d7eb6284f5ab7dce8d3b2a5c1b5",
            "e5ec5dbfef6f4e6f82d479633297ca88",
            "68fbc9ed644d4f3c9333265a3b6c589e",
            "e26f268f2b534f42bec315d8a7603f0f",
            "c7560bc05df84e8b995d8d34ce262881",
            "0051814f3b964b91aaa375e332e41ade",
            "b0091cc2837c41e1b4597291144a2bc8",
            "cc72e42abb8f4bb9b4daddcc276cef0d",
            "7db7d0a0ddff46808a5f7a1b76eb3bbb",
            "a8c743cdb5db42d2833015ffbe42c8cd",
            "a496726918ac4059aca8aa265cc479cc",
            "93289f23b7ef41429570d17383c59d70",
            "ab45960c29c7449cb4647de2c04cea62",
            "bae2c99d262445f18c8a24cdf1919430",
            "9877345a50db4ca4aefad5fac2483229",
            "a125b64c7d3444a7a72a301c8f07b095",
            "17005a1a66e64fb4beb5d82eecb17e90",
            "011d3293bebd4aa6802bffede3fe6285",
            "27bc9a848e6c41f58a609455c12a4a3e",
            "d0bf0db59aba4cf59e143fbcce721064",
            "c4d745b48f0a47dc895bfd33eba2f181",
            "b79c8942e1b5485c9b64c53101653888",
            "8bcf4eb88d5d49e997b471eb00c38bab",
            "39ab48f5be674560917ff2a045ec0326",
            "f821c352751345a09ab4228067eca6b7",
            "5a0ea1c598c64d8cb81ce3c798002f18",
            "cb566694599048ea82990549413eb8b6",
            "32aa37d6f77f4e7a8f72339ce4f2ea13",
            "ad7531f49d5e4878b979d541f2f82669",
            "5c4d4645bca54dd9b9f0ac4217eebcbd",
            "4992ad77c92440078c2b99fc996c249b",
            "623424eac309421483b644b6afed4146",
            "0ec2814edd5b4360b9d0c28f9aa3e13b",
            "3fa978f52e5b464ba03a1d6267a2fdf6",
            "f5c0a7363d82410fa12e6e13db194beb",
            "89eee77ee5da4bf38c9c058d593971c0",
            "f4af19a009d84cd7ac5b50aba27fd501"
          ]
        }
      },
      "source": [
        "# Train the model\n",
        "model.train_model(train_df)"
      ],
      "execution_count": 37,
      "outputs": [
        {
          "output_type": "stream",
          "text": [
            "Converting to features started. Cache is not used.\n"
          ],
          "name": "stdout"
        },
        {
          "output_type": "display_data",
          "data": {
            "application/vnd.jupyter.widget-view+json": {
              "model_id": "38de734c303f424680728a6906058848",
              "version_minor": 0,
              "version_major": 2
            },
            "text/plain": [
              "HBox(children=(IntProgress(value=0, max=670), HTML(value='')))"
            ]
          },
          "metadata": {
            "tags": []
          }
        },
        {
          "output_type": "stream",
          "text": [
            "\n",
            "Selected optimization level O1:  Insert automatic casts around Pytorch functions and Tensor methods.\n",
            "\n",
            "Defaults for this optimization level are:\n",
            "enabled                : True\n",
            "opt_level              : O1\n",
            "cast_model_type        : None\n",
            "patch_torch_functions  : True\n",
            "keep_batchnorm_fp32    : None\n",
            "master_weights         : None\n",
            "loss_scale             : dynamic\n",
            "Processing user overrides (additional kwargs that are not None)...\n",
            "After processing overrides, optimization options are:\n",
            "enabled                : True\n",
            "opt_level              : O1\n",
            "cast_model_type        : None\n",
            "patch_torch_functions  : True\n",
            "keep_batchnorm_fp32    : None\n",
            "master_weights         : None\n",
            "loss_scale             : dynamic\n",
            "Warning:  multi_tensor_applier fused unscale kernel is unavailable, possibly because apex was installed without --cuda_ext --cpp_ext. Using Python fallback.  Original ImportError was: ModuleNotFoundError(\"No module named 'amp_C'\",)\n"
          ],
          "name": "stdout"
        },
        {
          "output_type": "display_data",
          "data": {
            "application/vnd.jupyter.widget-view+json": {
              "model_id": "0051814f3b964b91aaa375e332e41ade",
              "version_minor": 0,
              "version_major": 2
            },
            "text/plain": [
              "HBox(children=(IntProgress(value=0, description='Epoch', max=3, style=ProgressStyle(description_width='initial…"
            ]
          },
          "metadata": {
            "tags": []
          }
        },
        {
          "output_type": "display_data",
          "data": {
            "application/vnd.jupyter.widget-view+json": {
              "model_id": "bae2c99d262445f18c8a24cdf1919430",
              "version_minor": 0,
              "version_major": 2
            },
            "text/plain": [
              "HBox(children=(IntProgress(value=0, description='Current iteration', max=335, style=ProgressStyle(description_…"
            ]
          },
          "metadata": {
            "tags": []
          }
        },
        {
          "output_type": "stream",
          "text": [
            "\rRunning loss: 0.689980"
          ],
          "name": "stdout"
        },
        {
          "output_type": "stream",
          "text": [
            "/usr/local/lib/python3.6/dist-packages/torch/optim/lr_scheduler.py:113: UserWarning: Seems like `optimizer.step()` has been overridden after learning rate scheduler initialization. Please, make sure to call `optimizer.step()` before `lr_scheduler.step()`. See more details at https://pytorch.org/docs/stable/optim.html#how-to-adjust-learning-rate\n",
            "  \"https://pytorch.org/docs/stable/optim.html#how-to-adjust-learning-rate\", UserWarning)\n"
          ],
          "name": "stderr"
        },
        {
          "output_type": "stream",
          "text": [
            "Running loss: 0.310805"
          ],
          "name": "stdout"
        },
        {
          "output_type": "stream",
          "text": [
            "/usr/local/lib/python3.6/dist-packages/torch/optim/lr_scheduler.py:224: UserWarning: To get the last learning rate computed by the scheduler, please use `get_last_lr()`.\n",
            "  warnings.warn(\"To get the last learning rate computed by the scheduler, \"\n"
          ],
          "name": "stderr"
        },
        {
          "output_type": "stream",
          "text": [
            "Running loss: 0.069301"
          ],
          "name": "stdout"
        },
        {
          "output_type": "display_data",
          "data": {
            "application/vnd.jupyter.widget-view+json": {
              "model_id": "b79c8942e1b5485c9b64c53101653888",
              "version_minor": 0,
              "version_major": 2
            },
            "text/plain": [
              "HBox(children=(IntProgress(value=0, description='Current iteration', max=335, style=ProgressStyle(description_…"
            ]
          },
          "metadata": {
            "tags": []
          }
        },
        {
          "output_type": "stream",
          "text": [
            "Running loss: 0.110312"
          ],
          "name": "stdout"
        },
        {
          "output_type": "display_data",
          "data": {
            "application/vnd.jupyter.widget-view+json": {
              "model_id": "5c4d4645bca54dd9b9f0ac4217eebcbd",
              "version_minor": 0,
              "version_major": 2
            },
            "text/plain": [
              "HBox(children=(IntProgress(value=0, description='Current iteration', max=335, style=ProgressStyle(description_…"
            ]
          },
          "metadata": {
            "tags": []
          }
        },
        {
          "output_type": "stream",
          "text": [
            "Running loss: 0.081400\n",
            "Training of roberta model complete. Saved to outputs/.\n"
          ],
          "name": "stdout"
        }
      ]
    },
    {
      "cell_type": "code",
      "metadata": {
        "id": "q8gnPy70xzf0",
        "colab_type": "code",
        "outputId": "81b10338-222f-45b3-db48-0e1290160f54",
        "colab": {
          "base_uri": "https://localhost:8080/",
          "height": 114,
          "referenced_widgets": [
            "d0962a2e2ed84a3eae6ff1fdedad54a6",
            "7fca5e3610284dc6be3b0e881646a5db",
            "623124f1dfa341cda237f7e66f8c0620",
            "7f2bad6736324c4681758f6db1ebe984",
            "3faccdccf430421285b7872937c71545",
            "a650c3b5c26a424d88936f1649d3006d",
            "e034539201e14adc844dd761375f1b44",
            "fbb21e1d7d93443fb25d05e218b8848c",
            "d92d018e91c24494b25c0c8138f373a8",
            "b87f91bb0d66467c8e32e681e3d15e0d",
            "8c2aba3205994996893889ef2bd5ebf2",
            "0d54a8a6b4304a1e8b28181990fb74b4",
            "eb14f88323c64b12bf4b5dd23da1ebcf",
            "a75f9d5bf22a4e51b8f7325192e8d706",
            "08746b70ebca4d3a960c52d57dea95c8",
            "3743d308914a447ca09e9c043c42a0ae"
          ]
        }
      },
      "source": [
        "import sklearn\n",
        "result, model_outputs, wrong_predictions = model.eval_model(eval_df)"
      ],
      "execution_count": 38,
      "outputs": [
        {
          "output_type": "display_data",
          "data": {
            "application/vnd.jupyter.widget-view+json": {
              "model_id": "d0962a2e2ed84a3eae6ff1fdedad54a6",
              "version_minor": 0,
              "version_major": 2
            },
            "text/plain": [
              "HBox(children=(IntProgress(value=0, max=75), HTML(value='')))"
            ]
          },
          "metadata": {
            "tags": []
          }
        },
        {
          "output_type": "stream",
          "text": [
            "\n"
          ],
          "name": "stdout"
        },
        {
          "output_type": "display_data",
          "data": {
            "application/vnd.jupyter.widget-view+json": {
              "model_id": "d92d018e91c24494b25c0c8138f373a8",
              "version_minor": 0,
              "version_major": 2
            },
            "text/plain": [
              "HBox(children=(IntProgress(value=0, max=10), HTML(value='')))"
            ]
          },
          "metadata": {
            "tags": []
          }
        },
        {
          "output_type": "stream",
          "text": [
            "\n"
          ],
          "name": "stdout"
        }
      ]
    },
    {
      "cell_type": "code",
      "metadata": {
        "id": "X0fDXKumV5Dk",
        "colab_type": "code",
        "outputId": "86cbf38e-2851-473f-8c7f-fa716ea66cf7",
        "colab": {
          "base_uri": "https://localhost:8080/",
          "height": 134
        }
      },
      "source": [
        "print(model_outputs)"
      ],
      "execution_count": 39,
      "outputs": [
        {
          "output_type": "stream",
          "text": [
            "[[0.02680969 0.00841522 0.01020813 ... 0.09515381 0.0236969  0.45458984]\n",
            " [0.02442932 0.00748825 0.01262665 ... 0.6713867  0.02194214 0.16394043]\n",
            " [0.02323914 0.01173401 0.01395416 ... 0.05511475 0.01979065 0.05340576]\n",
            " ...\n",
            " [0.02342224 0.01187134 0.01406097 ... 0.05499268 0.01991272 0.05300903]\n",
            " [0.0255127  0.00857544 0.00955963 ... 0.12390137 0.02236938 0.50683594]\n",
            " [0.02404785 0.00844574 0.00926971 ... 0.0982666  0.02258301 0.46655273]]\n"
          ],
          "name": "stdout"
        }
      ]
    },
    {
      "cell_type": "code",
      "metadata": {
        "id": "f2aqB88KWcWq",
        "colab_type": "code",
        "outputId": "ace435b5-b2fd-4825-b412-94a76c972a6c",
        "colab": {
          "base_uri": "https://localhost:8080/",
          "height": 34
        }
      },
      "source": [
        "result"
      ],
      "execution_count": 40,
      "outputs": [
        {
          "output_type": "execute_result",
          "data": {
            "text/plain": [
              "{'LRAP': 0.7036587979921314, 'eval_loss': 0.0854238037019968}"
            ]
          },
          "metadata": {
            "tags": []
          },
          "execution_count": 40
        }
      ]
    },
    {
      "cell_type": "code",
      "metadata": {
        "id": "o2t-MHbKec0k",
        "colab_type": "code",
        "colab": {}
      },
      "source": [
        ""
      ],
      "execution_count": 0,
      "outputs": []
    },
    {
      "cell_type": "code",
      "metadata": {
        "id": "Qu65_eghezqD",
        "colab_type": "code",
        "colab": {}
      },
      "source": [
        ""
      ],
      "execution_count": 0,
      "outputs": []
    },
    {
      "cell_type": "code",
      "metadata": {
        "id": "4zH5PcbA2xAA",
        "colab_type": "code",
        "colab": {}
      },
      "source": [
        ""
      ],
      "execution_count": 0,
      "outputs": []
    },
    {
      "cell_type": "markdown",
      "metadata": {
        "id": "GWQcOuiFyxYf",
        "colab_type": "text"
      },
      "source": [
        "Constructing my own neural network architecture to test performance"
      ]
    },
    {
      "cell_type": "code",
      "metadata": {
        "id": "Y0PeuX3aezoM",
        "colab_type": "code",
        "colab": {}
      },
      "source": [
        "#tring to make my own neural architecture\n",
        "import sys, os, re, csv, codecs, numpy as np, pandas as pd\n",
        "\n",
        "from keras.preprocessing.text import Tokenizer\n",
        "from keras.preprocessing.sequence import pad_sequences\n",
        "from keras.layers import Dense, Input, LSTM, Embedding, Dropout, Activation\n",
        "from keras.layers import Bidirectional, GlobalMaxPool1D\n",
        "from keras.models import Model\n",
        "from keras import initializers, regularizers, constraints, optimizers, layers\n",
        "from keras.models import Sequential\n",
        "from keras.layers import Dense, Flatten, LSTM, Conv1D, MaxPooling1D, Dropout, Activation, BatchNormalization, GlobalMaxPooling1D\n",
        "from sklearn.model_selection import train_test_split"
      ],
      "execution_count": 0,
      "outputs": []
    },
    {
      "cell_type": "code",
      "metadata": {
        "id": "TcE5jBECezl-",
        "colab_type": "code",
        "colab": {}
      },
      "source": [
        "df_n2 = pd.merge(df,data, on='Document ID')"
      ],
      "execution_count": 0,
      "outputs": []
    },
    {
      "cell_type": "code",
      "metadata": {
        "id": "6I93OU6gfSOU",
        "colab_type": "code",
        "outputId": "c4bd3e21-7ffe-4f56-9186-6b451c53a94e",
        "colab": {
          "base_uri": "https://localhost:8080/",
          "height": 402
        }
      },
      "source": [
        "df_n2"
      ],
      "execution_count": 0,
      "outputs": [
        {
          "output_type": "execute_result",
          "data": {
            "text/html": [
              "<div>\n",
              "<style scoped>\n",
              "    .dataframe tbody tr th:only-of-type {\n",
              "        vertical-align: middle;\n",
              "    }\n",
              "\n",
              "    .dataframe tbody tr th {\n",
              "        vertical-align: top;\n",
              "    }\n",
              "\n",
              "    .dataframe thead th {\n",
              "        text-align: right;\n",
              "    }\n",
              "</style>\n",
              "<table border=\"1\" class=\"dataframe\">\n",
              "  <thead>\n",
              "    <tr style=\"text-align: right;\">\n",
              "      <th></th>\n",
              "      <th>Document ID</th>\n",
              "      <th>decription</th>\n",
              "      <th>Department</th>\n",
              "    </tr>\n",
              "  </thead>\n",
              "  <tbody>\n",
              "    <tr>\n",
              "      <th>0</th>\n",
              "      <td>8278991</td>\n",
              "      <td>We have opening for&amp;nbsp; Store Manager &amp;nbsp;...</td>\n",
              "      <td>Sales</td>\n",
              "    </tr>\n",
              "    <tr>\n",
              "      <th>1</th>\n",
              "      <td>8208777</td>\n",
              "      <td>Deck Cadet Job Description. Be it on a militar...</td>\n",
              "      <td>Marine Engineering</td>\n",
              "    </tr>\n",
              "    <tr>\n",
              "      <th>2</th>\n",
              "      <td>8331687</td>\n",
              "      <td>Hiring for INTERNATIONAL BPO (call simran-9711...</td>\n",
              "      <td>Customer service</td>\n",
              "    </tr>\n",
              "    <tr>\n",
              "      <th>3</th>\n",
              "      <td>8072903</td>\n",
              "      <td>We need candidates for part time /work from ho...</td>\n",
              "      <td>Digital Marketing</td>\n",
              "    </tr>\n",
              "    <tr>\n",
              "      <th>4</th>\n",
              "      <td>8253293</td>\n",
              "      <td>Dear Candidate ,Greetings from ABM Travels &amp;am...</td>\n",
              "      <td>Ticketing</td>\n",
              "    </tr>\n",
              "    <tr>\n",
              "      <th>...</th>\n",
              "      <td>...</td>\n",
              "      <td>...</td>\n",
              "      <td>...</td>\n",
              "    </tr>\n",
              "    <tr>\n",
              "      <th>740</th>\n",
              "      <td>8305287</td>\n",
              "      <td>Job Description for Visa Assistant1. Candidate...</td>\n",
              "      <td>Customer service</td>\n",
              "    </tr>\n",
              "    <tr>\n",
              "      <th>741</th>\n",
              "      <td>7889695</td>\n",
              "      <td>Dear Candidates,Greetings !&amp;nbsp;We are hiring...</td>\n",
              "      <td>Sales</td>\n",
              "    </tr>\n",
              "    <tr>\n",
              "      <th>742</th>\n",
              "      <td>8388763</td>\n",
              "      <td>We are looking for a Tax Accountant to prepare...</td>\n",
              "      <td>Ticketing</td>\n",
              "    </tr>\n",
              "    <tr>\n",
              "      <th>743</th>\n",
              "      <td>8058909</td>\n",
              "      <td>Handle International Ticketing / Domestics Tic...</td>\n",
              "      <td>Ticketing</td>\n",
              "    </tr>\n",
              "    <tr>\n",
              "      <th>744</th>\n",
              "      <td>7881105</td>\n",
              "      <td>Arsenius Skill Capital is Hiring International...</td>\n",
              "      <td>Ticketing</td>\n",
              "    </tr>\n",
              "  </tbody>\n",
              "</table>\n",
              "<p>745 rows × 3 columns</p>\n",
              "</div>"
            ],
            "text/plain": [
              "     Document ID  ...           Department\n",
              "0        8278991  ...                Sales\n",
              "1        8208777  ...  Marine Engineering \n",
              "2        8331687  ...     Customer service\n",
              "3        8072903  ...    Digital Marketing\n",
              "4        8253293  ...            Ticketing\n",
              "..           ...  ...                  ...\n",
              "740      8305287  ...     Customer service\n",
              "741      7889695  ...                Sales\n",
              "742      8388763  ...            Ticketing\n",
              "743      8058909  ...            Ticketing\n",
              "744      7881105  ...            Ticketing\n",
              "\n",
              "[745 rows x 3 columns]"
            ]
          },
          "metadata": {
            "tags": []
          },
          "execution_count": 80
        }
      ]
    },
    {
      "cell_type": "code",
      "metadata": {
        "id": "0QA-xYQXfTd_",
        "colab_type": "code",
        "colab": {}
      },
      "source": [
        "def normalize(s):\n",
        "    s = s.lower()\n",
        "    # Isolate punctuation\n",
        "    s = re.sub(r'([\\'\\\"\\.\\(\\)\\!\\?\\-\\\\\\/\\,])', r' \\1 ', s)\n",
        "    # Remove some special characters\n",
        "    s = re.sub(r'([\\;\\:\\|•«\\n])', ' ', s)\n",
        "    s = s.replace('nbsp', '')\n",
        "    s = re.sub(\" \\d+\", \" \", s)\n",
        "    return s"
      ],
      "execution_count": 0,
      "outputs": []
    },
    {
      "cell_type": "code",
      "metadata": {
        "id": "Ny1FS9w-f3_n",
        "colab_type": "code",
        "outputId": "d34032e7-59c5-4afe-a388-2e57d50e1027",
        "colab": {
          "base_uri": "https://localhost:8080/",
          "height": 50
        }
      },
      "source": [
        "import nltk\n",
        "nltk.download('stopwords')\n",
        "from nltk.corpus import stopwords\n",
        "stop = set(stopwords.words('english'))"
      ],
      "execution_count": 0,
      "outputs": [
        {
          "output_type": "stream",
          "text": [
            "[nltk_data] Downloading package stopwords to /root/nltk_data...\n",
            "[nltk_data]   Package stopwords is already up-to-date!\n"
          ],
          "name": "stdout"
        }
      ]
    },
    {
      "cell_type": "code",
      "metadata": {
        "id": "DLd-gvi6f4oy",
        "colab_type": "code",
        "colab": {}
      },
      "source": [
        "train_norm_text=[]\n",
        "for line in df_n2['decription'].values:\n",
        "    line=str(line)\n",
        "    line = normalize(line)\n",
        "    line = line.lower()\n",
        "    line_by_words = re.findall(r'(?:\\w+)', line, flags = re.UNICODE) # remove punctuation ans split\n",
        "    new_line=[]\n",
        "    for word in line_by_words:\n",
        "        if word not in stop:\n",
        "            new_line.append(word)\n",
        "    train_norm_text.append(\" \".join(new_line))"
      ],
      "execution_count": 0,
      "outputs": []
    },
    {
      "cell_type": "code",
      "metadata": {
        "id": "j2MUtyXggAhS",
        "colab_type": "code",
        "colab": {}
      },
      "source": [
        "df_n2['decription']=train_norm_text"
      ],
      "execution_count": 0,
      "outputs": []
    },
    {
      "cell_type": "code",
      "metadata": {
        "id": "Wujgy1LOgDKb",
        "colab_type": "code",
        "outputId": "f8462ac5-2b55-41c0-8785-7ba2c99c4b98",
        "colab": {
          "base_uri": "https://localhost:8080/",
          "height": 195
        }
      },
      "source": [
        "df_n2.head()"
      ],
      "execution_count": 0,
      "outputs": [
        {
          "output_type": "execute_result",
          "data": {
            "text/html": [
              "<div>\n",
              "<style scoped>\n",
              "    .dataframe tbody tr th:only-of-type {\n",
              "        vertical-align: middle;\n",
              "    }\n",
              "\n",
              "    .dataframe tbody tr th {\n",
              "        vertical-align: top;\n",
              "    }\n",
              "\n",
              "    .dataframe thead th {\n",
              "        text-align: right;\n",
              "    }\n",
              "</style>\n",
              "<table border=\"1\" class=\"dataframe\">\n",
              "  <thead>\n",
              "    <tr style=\"text-align: right;\">\n",
              "      <th></th>\n",
              "      <th>Document ID</th>\n",
              "      <th>decription</th>\n",
              "      <th>Department</th>\n",
              "    </tr>\n",
              "  </thead>\n",
              "  <tbody>\n",
              "    <tr>\n",
              "      <th>0</th>\n",
              "      <td>8278991</td>\n",
              "      <td>opening store manager kindly find job details ...</td>\n",
              "      <td>Sales</td>\n",
              "    </tr>\n",
              "    <tr>\n",
              "      <th>1</th>\n",
              "      <td>8208777</td>\n",
              "      <td>deck cadet job description military vessel lux...</td>\n",
              "      <td>Marine Engineering</td>\n",
              "    </tr>\n",
              "    <tr>\n",
              "      <th>2</th>\n",
              "      <td>8331687</td>\n",
              "      <td>hiring international bpo call simran prashant ...</td>\n",
              "      <td>Customer service</td>\n",
              "    </tr>\n",
              "    <tr>\n",
              "      <th>3</th>\n",
              "      <td>8072903</td>\n",
              "      <td>need candidates part time work home spend hrs ...</td>\n",
              "      <td>Digital Marketing</td>\n",
              "    </tr>\n",
              "    <tr>\n",
              "      <th>4</th>\n",
              "      <td>8253293</td>\n",
              "      <td>dear candidate greetings abm travels amp tours...</td>\n",
              "      <td>Ticketing</td>\n",
              "    </tr>\n",
              "  </tbody>\n",
              "</table>\n",
              "</div>"
            ],
            "text/plain": [
              "   Document ID  ...           Department\n",
              "0      8278991  ...                Sales\n",
              "1      8208777  ...  Marine Engineering \n",
              "2      8331687  ...     Customer service\n",
              "3      8072903  ...    Digital Marketing\n",
              "4      8253293  ...            Ticketing\n",
              "\n",
              "[5 rows x 3 columns]"
            ]
          },
          "metadata": {
            "tags": []
          },
          "execution_count": 85
        }
      ]
    },
    {
      "cell_type": "code",
      "metadata": {
        "id": "hbxjNg-Lggtr",
        "colab_type": "code",
        "outputId": "7a6bfd4e-ac4b-48ea-b2ee-adbeef1bf246",
        "colab": {
          "base_uri": "https://localhost:8080/",
          "height": 602
        }
      },
      "source": [
        "train = pd.get_dummies(df_n2, columns = [\"Department\"])\n",
        "train.head()"
      ],
      "execution_count": 0,
      "outputs": [
        {
          "output_type": "execute_result",
          "data": {
            "text/html": [
              "<div>\n",
              "<style scoped>\n",
              "    .dataframe tbody tr th:only-of-type {\n",
              "        vertical-align: middle;\n",
              "    }\n",
              "\n",
              "    .dataframe tbody tr th {\n",
              "        vertical-align: top;\n",
              "    }\n",
              "\n",
              "    .dataframe thead th {\n",
              "        text-align: right;\n",
              "    }\n",
              "</style>\n",
              "<table border=\"1\" class=\"dataframe\">\n",
              "  <thead>\n",
              "    <tr style=\"text-align: right;\">\n",
              "      <th></th>\n",
              "      <th>Document ID</th>\n",
              "      <th>decription</th>\n",
              "      <th>Department_Administration</th>\n",
              "      <th>Department_Airline Ground Operations</th>\n",
              "      <th>Department_Analytics</th>\n",
              "      <th>Department_Back office ticketing</th>\n",
              "      <th>Department_Content</th>\n",
              "      <th>Department_Customer service</th>\n",
              "      <th>Department_Data entry</th>\n",
              "      <th>Department_Digital Marketing</th>\n",
              "      <th>Department_Engineering Design Construction</th>\n",
              "      <th>Department_Finance</th>\n",
              "      <th>Department_Flight Operations</th>\n",
              "      <th>Department_IT</th>\n",
              "      <th>Department_Learning and Development</th>\n",
              "      <th>Department_Logistics</th>\n",
              "      <th>Department_Maintenance</th>\n",
              "      <th>Department_Marine Deck</th>\n",
              "      <th>Department_Marine Engineering</th>\n",
              "      <th>Department_Marine Service Steward</th>\n",
              "      <th>Department_Marketing</th>\n",
              "      <th>Department_Operations</th>\n",
              "      <th>Department_Presales</th>\n",
              "      <th>Department_Procurement</th>\n",
              "      <th>Department_Public Relations</th>\n",
              "      <th>Department_Recruitment</th>\n",
              "      <th>Department_Sales</th>\n",
              "      <th>Department_Technology</th>\n",
              "      <th>Department_Ticketing</th>\n",
              "    </tr>\n",
              "  </thead>\n",
              "  <tbody>\n",
              "    <tr>\n",
              "      <th>0</th>\n",
              "      <td>8278991</td>\n",
              "      <td>opening store manager kindly find job details ...</td>\n",
              "      <td>0</td>\n",
              "      <td>0</td>\n",
              "      <td>0</td>\n",
              "      <td>0</td>\n",
              "      <td>0</td>\n",
              "      <td>0</td>\n",
              "      <td>0</td>\n",
              "      <td>0</td>\n",
              "      <td>0</td>\n",
              "      <td>0</td>\n",
              "      <td>0</td>\n",
              "      <td>0</td>\n",
              "      <td>0</td>\n",
              "      <td>0</td>\n",
              "      <td>0</td>\n",
              "      <td>0</td>\n",
              "      <td>0</td>\n",
              "      <td>0</td>\n",
              "      <td>0</td>\n",
              "      <td>0</td>\n",
              "      <td>0</td>\n",
              "      <td>0</td>\n",
              "      <td>0</td>\n",
              "      <td>0</td>\n",
              "      <td>1</td>\n",
              "      <td>0</td>\n",
              "      <td>0</td>\n",
              "    </tr>\n",
              "    <tr>\n",
              "      <th>1</th>\n",
              "      <td>8208777</td>\n",
              "      <td>deck cadet job description military vessel lux...</td>\n",
              "      <td>0</td>\n",
              "      <td>0</td>\n",
              "      <td>0</td>\n",
              "      <td>0</td>\n",
              "      <td>0</td>\n",
              "      <td>0</td>\n",
              "      <td>0</td>\n",
              "      <td>0</td>\n",
              "      <td>0</td>\n",
              "      <td>0</td>\n",
              "      <td>0</td>\n",
              "      <td>0</td>\n",
              "      <td>0</td>\n",
              "      <td>0</td>\n",
              "      <td>0</td>\n",
              "      <td>0</td>\n",
              "      <td>1</td>\n",
              "      <td>0</td>\n",
              "      <td>0</td>\n",
              "      <td>0</td>\n",
              "      <td>0</td>\n",
              "      <td>0</td>\n",
              "      <td>0</td>\n",
              "      <td>0</td>\n",
              "      <td>0</td>\n",
              "      <td>0</td>\n",
              "      <td>0</td>\n",
              "    </tr>\n",
              "    <tr>\n",
              "      <th>2</th>\n",
              "      <td>8331687</td>\n",
              "      <td>hiring international bpo call simran prashant ...</td>\n",
              "      <td>0</td>\n",
              "      <td>0</td>\n",
              "      <td>0</td>\n",
              "      <td>0</td>\n",
              "      <td>0</td>\n",
              "      <td>1</td>\n",
              "      <td>0</td>\n",
              "      <td>0</td>\n",
              "      <td>0</td>\n",
              "      <td>0</td>\n",
              "      <td>0</td>\n",
              "      <td>0</td>\n",
              "      <td>0</td>\n",
              "      <td>0</td>\n",
              "      <td>0</td>\n",
              "      <td>0</td>\n",
              "      <td>0</td>\n",
              "      <td>0</td>\n",
              "      <td>0</td>\n",
              "      <td>0</td>\n",
              "      <td>0</td>\n",
              "      <td>0</td>\n",
              "      <td>0</td>\n",
              "      <td>0</td>\n",
              "      <td>0</td>\n",
              "      <td>0</td>\n",
              "      <td>0</td>\n",
              "    </tr>\n",
              "    <tr>\n",
              "      <th>3</th>\n",
              "      <td>8072903</td>\n",
              "      <td>need candidates part time work home spend hrs ...</td>\n",
              "      <td>0</td>\n",
              "      <td>0</td>\n",
              "      <td>0</td>\n",
              "      <td>0</td>\n",
              "      <td>0</td>\n",
              "      <td>0</td>\n",
              "      <td>0</td>\n",
              "      <td>1</td>\n",
              "      <td>0</td>\n",
              "      <td>0</td>\n",
              "      <td>0</td>\n",
              "      <td>0</td>\n",
              "      <td>0</td>\n",
              "      <td>0</td>\n",
              "      <td>0</td>\n",
              "      <td>0</td>\n",
              "      <td>0</td>\n",
              "      <td>0</td>\n",
              "      <td>0</td>\n",
              "      <td>0</td>\n",
              "      <td>0</td>\n",
              "      <td>0</td>\n",
              "      <td>0</td>\n",
              "      <td>0</td>\n",
              "      <td>0</td>\n",
              "      <td>0</td>\n",
              "      <td>0</td>\n",
              "    </tr>\n",
              "    <tr>\n",
              "      <th>4</th>\n",
              "      <td>8253293</td>\n",
              "      <td>dear candidate greetings abm travels amp tours...</td>\n",
              "      <td>0</td>\n",
              "      <td>0</td>\n",
              "      <td>0</td>\n",
              "      <td>0</td>\n",
              "      <td>0</td>\n",
              "      <td>0</td>\n",
              "      <td>0</td>\n",
              "      <td>0</td>\n",
              "      <td>0</td>\n",
              "      <td>0</td>\n",
              "      <td>0</td>\n",
              "      <td>0</td>\n",
              "      <td>0</td>\n",
              "      <td>0</td>\n",
              "      <td>0</td>\n",
              "      <td>0</td>\n",
              "      <td>0</td>\n",
              "      <td>0</td>\n",
              "      <td>0</td>\n",
              "      <td>0</td>\n",
              "      <td>0</td>\n",
              "      <td>0</td>\n",
              "      <td>0</td>\n",
              "      <td>0</td>\n",
              "      <td>0</td>\n",
              "      <td>0</td>\n",
              "      <td>1</td>\n",
              "    </tr>\n",
              "  </tbody>\n",
              "</table>\n",
              "</div>"
            ],
            "text/plain": [
              "   Document ID  ... Department_Ticketing\n",
              "0      8278991  ...                    0\n",
              "1      8208777  ...                    0\n",
              "2      8331687  ...                    0\n",
              "3      8072903  ...                    0\n",
              "4      8253293  ...                    1\n",
              "\n",
              "[5 rows x 29 columns]"
            ]
          },
          "metadata": {
            "tags": []
          },
          "execution_count": 86
        }
      ]
    },
    {
      "cell_type": "code",
      "metadata": {
        "id": "eGdSlHFGmRBe",
        "colab_type": "code",
        "outputId": "3bbfbb97-6c71-4d79-a6d6-8a56cfbc7610",
        "colab": {
          "base_uri": "https://localhost:8080/",
          "height": 34
        }
      },
      "source": [
        "train.shape"
      ],
      "execution_count": 0,
      "outputs": [
        {
          "output_type": "execute_result",
          "data": {
            "text/plain": [
              "(745, 29)"
            ]
          },
          "metadata": {
            "tags": []
          },
          "execution_count": 87
        }
      ]
    },
    {
      "cell_type": "code",
      "metadata": {
        "id": "JOyyXX8ng7hS",
        "colab_type": "code",
        "outputId": "ac3f0db2-e456-4195-b2c9-e65286f05b96",
        "colab": {
          "base_uri": "https://localhost:8080/",
          "height": 269
        }
      },
      "source": [
        "train.columns"
      ],
      "execution_count": 0,
      "outputs": [
        {
          "output_type": "execute_result",
          "data": {
            "text/plain": [
              "Index(['Document ID', 'decription', 'Department_Administration',\n",
              "       'Department_Airline Ground Operations', 'Department_Analytics',\n",
              "       'Department_Back office ticketing', 'Department_Content',\n",
              "       'Department_Customer service', 'Department_Data entry',\n",
              "       'Department_Digital Marketing',\n",
              "       'Department_Engineering Design Construction', 'Department_Finance',\n",
              "       'Department_Flight Operations', 'Department_IT',\n",
              "       'Department_Learning and Development ', 'Department_Logistics',\n",
              "       'Department_Maintenance', 'Department_Marine Deck ',\n",
              "       'Department_Marine Engineering ', 'Department_Marine Service Steward ',\n",
              "       'Department_Marketing', 'Department_Operations', 'Department_Presales ',\n",
              "       'Department_Procurement', 'Department_Public Relations ',\n",
              "       'Department_Recruitment', 'Department_Sales', 'Department_Technology',\n",
              "       'Department_Ticketing'],\n",
              "      dtype='object')"
            ]
          },
          "metadata": {
            "tags": []
          },
          "execution_count": 88
        }
      ]
    },
    {
      "cell_type": "code",
      "metadata": {
        "id": "n8WaJZ6ymTz1",
        "colab_type": "code",
        "colab": {}
      },
      "source": [
        "X=train['decription'].values"
      ],
      "execution_count": 0,
      "outputs": []
    },
    {
      "cell_type": "code",
      "metadata": {
        "id": "PHfRviXlmTyB",
        "colab_type": "code",
        "outputId": "e861af90-8154-4b36-ad39-d107861a8ab0",
        "colab": {
          "base_uri": "https://localhost:8080/",
          "height": 34
        }
      },
      "source": [
        "len(X)"
      ],
      "execution_count": 0,
      "outputs": [
        {
          "output_type": "execute_result",
          "data": {
            "text/plain": [
              "745"
            ]
          },
          "metadata": {
            "tags": []
          },
          "execution_count": 90
        }
      ]
    },
    {
      "cell_type": "code",
      "metadata": {
        "id": "qYZzZJJTmTvB",
        "colab_type": "code",
        "colab": {}
      },
      "source": [
        "list_classes = ['Department_Administration', 'Department_Airline Ground Operations', 'Department_Analytics', 'Department_Back office ticketing', 'Department_Content', 'Department_Customer service', 'Department_Data entry', 'Department_Digital Marketing', 'Department_Engineering Design Construction', 'Department_Finance', 'Department_Flight Operations', 'Department_IT', 'Department_Learning and Development ', 'Department_Logistics', 'Department_Maintenance', 'Department_Marine Deck ', 'Department_Marine Engineering ', 'Department_Marine Service Steward ', 'Department_Marketing', 'Department_Operations', 'Department_Presales ', 'Department_Procurement', 'Department_Public Relations ', 'Department_Recruitment', 'Department_Sales', 'Department_Technology', 'Department_Ticketing']\n",
        "y = train[list_classes].values"
      ],
      "execution_count": 0,
      "outputs": []
    },
    {
      "cell_type": "code",
      "metadata": {
        "id": "eK5Fks1ymTsS",
        "colab_type": "code",
        "outputId": "f42dd9a2-94f3-4478-eb3e-ba0a1db37dc1",
        "colab": {
          "base_uri": "https://localhost:8080/",
          "height": 34
        }
      },
      "source": [
        "len(y)"
      ],
      "execution_count": 0,
      "outputs": [
        {
          "output_type": "execute_result",
          "data": {
            "text/plain": [
              "745"
            ]
          },
          "metadata": {
            "tags": []
          },
          "execution_count": 92
        }
      ]
    },
    {
      "cell_type": "code",
      "metadata": {
        "id": "I8hA5ki5igyA",
        "colab_type": "code",
        "colab": {}
      },
      "source": [
        "X_train, X_test, y_train, y_test = train_test_split(X, y, test_size=0.1, random_state=42)"
      ],
      "execution_count": 0,
      "outputs": []
    },
    {
      "cell_type": "code",
      "metadata": {
        "id": "J7C7svHPirRM",
        "colab_type": "code",
        "outputId": "63ee71fd-f2b5-4d77-a7bd-34c88fbe50d4",
        "colab": {
          "base_uri": "https://localhost:8080/",
          "height": 34
        }
      },
      "source": [
        "X_train.shape"
      ],
      "execution_count": 0,
      "outputs": [
        {
          "output_type": "execute_result",
          "data": {
            "text/plain": [
              "(670,)"
            ]
          },
          "metadata": {
            "tags": []
          },
          "execution_count": 94
        }
      ]
    },
    {
      "cell_type": "code",
      "metadata": {
        "id": "hd2RgnpPiuY6",
        "colab_type": "code",
        "outputId": "cf758c7f-efb1-4900-a6d6-e1917e33dbc6",
        "colab": {
          "base_uri": "https://localhost:8080/",
          "height": 34
        }
      },
      "source": [
        "y_train.shape"
      ],
      "execution_count": 0,
      "outputs": [
        {
          "output_type": "execute_result",
          "data": {
            "text/plain": [
              "(670, 27)"
            ]
          },
          "metadata": {
            "tags": []
          },
          "execution_count": 95
        }
      ]
    },
    {
      "cell_type": "code",
      "metadata": {
        "id": "aBdahvnwhRUp",
        "colab_type": "code",
        "colab": {}
      },
      "source": [
        "tokenizer = Tokenizer(num_words=10000)\n",
        "tokenizer.fit_on_texts(X_train)\n",
        "\n",
        "X_train = tokenizer.texts_to_sequences(X_train)\n",
        "X_test = tokenizer.texts_to_sequences(X_test)\n",
        "\n",
        "vocab_size = len(tokenizer.word_index) + 1\n",
        "\n",
        "maxlen = 200\n",
        "\n",
        "X_train = pad_sequences(X_train, padding='post', maxlen=maxlen)\n",
        "X_test = pad_sequences(X_test, padding='post', maxlen=maxlen)"
      ],
      "execution_count": 0,
      "outputs": []
    },
    {
      "cell_type": "code",
      "metadata": {
        "id": "C8WUB_SpnNKG",
        "colab_type": "code",
        "outputId": "72a3713e-6324-4411-962a-3a5d29d9174c",
        "colab": {
          "base_uri": "https://localhost:8080/",
          "height": 202
        }
      },
      "source": [
        "!wget https://www.floydhub.com/api/v1/resources/Av2ThePYtAHXMAuSXEBV8X/glove.6B.100d.txt?content=true&rename=glove6b100dtxt\n"
      ],
      "execution_count": 0,
      "outputs": [
        {
          "output_type": "stream",
          "text": [
            "--2020-03-05 11:58:02--  https://www.floydhub.com/api/v1/resources/Av2ThePYtAHXMAuSXEBV8X/glove.6B.100d.txt?content=true\n",
            "Resolving www.floydhub.com (www.floydhub.com)... 104.26.1.30, 104.26.0.30, 2606:4700:20::681a:1e, ...\n",
            "Connecting to www.floydhub.com (www.floydhub.com)|104.26.1.30|:443... connected.\n",
            "HTTP request sent, awaiting response... 200 OK\n",
            "Length: unspecified [application/octet-stream]\n",
            "Saving to: ‘glove.6B.100d.txt?content=true’\n",
            "\n",
            "glove.6B.100d.txt?c     [     <=>            ] 331.04M  11.6MB/s    in 29s     \n",
            "\n",
            "2020-03-05 11:58:33 (11.2 MB/s) - ‘glove.6B.100d.txt?content=true’ saved [347116733]\n",
            "\n"
          ],
          "name": "stdout"
        }
      ]
    },
    {
      "cell_type": "markdown",
      "metadata": {
        "id": "BbUfbddmy_YR",
        "colab_type": "text"
      },
      "source": [
        "Using 100 dimensional pretrained glove"
      ]
    },
    {
      "cell_type": "code",
      "metadata": {
        "id": "mQaHk_eWhWhz",
        "colab_type": "code",
        "colab": {}
      },
      "source": [
        "from numpy import array\n",
        "from numpy import asarray\n",
        "from numpy import zeros\n",
        "\n",
        "embeddings_dictionary = dict()\n",
        "\n",
        "glove_file = open('/content/glove.6B.100d.txt?content=true', encoding=\"utf8\")\n",
        "\n",
        "for line in glove_file:\n",
        "    records = line.split()\n",
        "    word = records[0]\n",
        "    vector_dimensions = asarray(records[1:], dtype='float32')\n",
        "    embeddings_dictionary[word] = vector_dimensions\n",
        "glove_file.close()\n",
        "\n",
        "embedding_matrix = zeros((vocab_size, 100))\n",
        "for word, index in tokenizer.word_index.items():\n",
        "    embedding_vector = embeddings_dictionary.get(word)\n",
        "    if embedding_vector is not None:\n",
        "        embedding_matrix[index] = embedding_vector"
      ],
      "execution_count": 0,
      "outputs": []
    },
    {
      "cell_type": "code",
      "metadata": {
        "id": "CSnxfv5qiLVF",
        "colab_type": "code",
        "colab": {}
      },
      "source": [
        "deep_inputs = Input(shape=(maxlen,))\n",
        "embedding_layer = Embedding(vocab_size, 100, weights=[embedding_matrix], trainable=False)(deep_inputs)\n",
        "LSTM_Layer_1 = LSTM(128)(embedding_layer)\n",
        "dense_layer_1 = Dense(27, activation='softmax')(LSTM_Layer_1)\n",
        "model = Model(inputs=deep_inputs, outputs=dense_layer_1)\n",
        "\n",
        "model.compile(loss='categorical_crossentropy', optimizer='adam', metrics=['acc'])"
      ],
      "execution_count": 0,
      "outputs": []
    },
    {
      "cell_type": "code",
      "metadata": {
        "id": "8Vl8jUKUobht",
        "colab_type": "code",
        "colab": {}
      },
      "source": [
        "model = Sequential()\n",
        "model.add(Embedding(vocab_size, 100, weights=[embedding_matrix], trainable=False))\n",
        "model.add(Conv1D(128, 5, activation='relu'))\n",
        "model.add(MaxPooling1D(pool_size=2))\n",
        "model.add(LSTM(100))\n",
        "model.add(Dense(27, activation='softmax'))\n",
        "model.compile(loss='categorical_crossentropy', optimizer='adam', metrics=['accuracy'])"
      ],
      "execution_count": 0,
      "outputs": []
    },
    {
      "cell_type": "code",
      "metadata": {
        "id": "bXAyWCbQhiBK",
        "colab_type": "code",
        "outputId": "6f480977-679c-4c49-f38b-250cabf4cdc0",
        "colab": {
          "base_uri": "https://localhost:8080/",
          "height": 336
        }
      },
      "source": [
        "print(model.summary())"
      ],
      "execution_count": 0,
      "outputs": [
        {
          "output_type": "stream",
          "text": [
            "Model: \"sequential_7\"\n",
            "_________________________________________________________________\n",
            "Layer (type)                 Output Shape              Param #   \n",
            "=================================================================\n",
            "embedding_17 (Embedding)     (None, None, 100)         539600    \n",
            "_________________________________________________________________\n",
            "conv1d_7 (Conv1D)            (None, None, 128)         64128     \n",
            "_________________________________________________________________\n",
            "max_pooling1d_7 (MaxPooling1 (None, None, 128)         0         \n",
            "_________________________________________________________________\n",
            "lstm_13 (LSTM)               (None, 100)               91600     \n",
            "_________________________________________________________________\n",
            "dense_21 (Dense)             (None, 27)                2727      \n",
            "=================================================================\n",
            "Total params: 698,055\n",
            "Trainable params: 158,455\n",
            "Non-trainable params: 539,600\n",
            "_________________________________________________________________\n",
            "None\n"
          ],
          "name": "stdout"
        }
      ]
    },
    {
      "cell_type": "code",
      "metadata": {
        "id": "rD-yfiCNoc9d",
        "colab_type": "code",
        "outputId": "364949e3-f4e4-4b48-8ab7-16da1522ca7b",
        "colab": {
          "base_uri": "https://localhost:8080/",
          "height": 421
        }
      },
      "source": [
        "history = model.fit(X_train, y_train, batch_size=1, epochs=20, verbose=1, validation_split=0.2)"
      ],
      "execution_count": 0,
      "outputs": [
        {
          "output_type": "stream",
          "text": [
            "Train on 536 samples, validate on 134 samples\n",
            "Epoch 1/20\n",
            "536/536 [==============================] - 71s 132ms/step - loss: 1.9300 - acc: 0.4590 - val_loss: 1.8108 - val_acc: 0.4627\n",
            "Epoch 2/20\n",
            "536/536 [==============================] - 72s 134ms/step - loss: 1.7519 - acc: 0.4757 - val_loss: 1.7962 - val_acc: 0.4627\n",
            "Epoch 3/20\n",
            "258/536 [=============>................] - ETA: 35s - loss: 1.7312 - acc: 0.5039"
          ],
          "name": "stdout"
        },
        {
          "output_type": "error",
          "ename": "KeyboardInterrupt",
          "evalue": "ignored",
          "traceback": [
            "\u001b[0;31m---------------------------------------------------------------------------\u001b[0m",
            "\u001b[0;31mKeyboardInterrupt\u001b[0m                         Traceback (most recent call last)",
            "\u001b[0;32m<ipython-input-129-fbb9b918a89b>\u001b[0m in \u001b[0;36m<module>\u001b[0;34m()\u001b[0m\n\u001b[0;32m----> 1\u001b[0;31m \u001b[0mhistory\u001b[0m \u001b[0;34m=\u001b[0m \u001b[0mmodel\u001b[0m\u001b[0;34m.\u001b[0m\u001b[0mfit\u001b[0m\u001b[0;34m(\u001b[0m\u001b[0mX_train\u001b[0m\u001b[0;34m,\u001b[0m \u001b[0my_train\u001b[0m\u001b[0;34m,\u001b[0m \u001b[0mbatch_size\u001b[0m\u001b[0;34m=\u001b[0m\u001b[0;36m1\u001b[0m\u001b[0;34m,\u001b[0m \u001b[0mepochs\u001b[0m\u001b[0;34m=\u001b[0m\u001b[0;36m20\u001b[0m\u001b[0;34m,\u001b[0m \u001b[0mverbose\u001b[0m\u001b[0;34m=\u001b[0m\u001b[0;36m1\u001b[0m\u001b[0;34m,\u001b[0m \u001b[0mvalidation_split\u001b[0m\u001b[0;34m=\u001b[0m\u001b[0;36m0.2\u001b[0m\u001b[0;34m)\u001b[0m\u001b[0;34m\u001b[0m\u001b[0;34m\u001b[0m\u001b[0m\n\u001b[0m",
            "\u001b[0;32m/usr/local/lib/python3.6/dist-packages/keras/engine/training.py\u001b[0m in \u001b[0;36mfit\u001b[0;34m(self, x, y, batch_size, epochs, verbose, callbacks, validation_split, validation_data, shuffle, class_weight, sample_weight, initial_epoch, steps_per_epoch, validation_steps, validation_freq, max_queue_size, workers, use_multiprocessing, **kwargs)\u001b[0m\n\u001b[1;32m   1176\u001b[0m                                         \u001b[0msteps_per_epoch\u001b[0m\u001b[0;34m=\u001b[0m\u001b[0msteps_per_epoch\u001b[0m\u001b[0;34m,\u001b[0m\u001b[0;34m\u001b[0m\u001b[0;34m\u001b[0m\u001b[0m\n\u001b[1;32m   1177\u001b[0m                                         \u001b[0mvalidation_steps\u001b[0m\u001b[0;34m=\u001b[0m\u001b[0mvalidation_steps\u001b[0m\u001b[0;34m,\u001b[0m\u001b[0;34m\u001b[0m\u001b[0;34m\u001b[0m\u001b[0m\n\u001b[0;32m-> 1178\u001b[0;31m                                         validation_freq=validation_freq)\n\u001b[0m\u001b[1;32m   1179\u001b[0m \u001b[0;34m\u001b[0m\u001b[0m\n\u001b[1;32m   1180\u001b[0m     def evaluate(self,\n",
            "\u001b[0;32m/usr/local/lib/python3.6/dist-packages/keras/engine/training_arrays.py\u001b[0m in \u001b[0;36mfit_loop\u001b[0;34m(model, fit_function, fit_inputs, out_labels, batch_size, epochs, verbose, callbacks, val_function, val_inputs, shuffle, callback_metrics, initial_epoch, steps_per_epoch, validation_steps, validation_freq)\u001b[0m\n\u001b[1;32m    202\u001b[0m                     \u001b[0mins_batch\u001b[0m\u001b[0;34m[\u001b[0m\u001b[0mi\u001b[0m\u001b[0;34m]\u001b[0m \u001b[0;34m=\u001b[0m \u001b[0mins_batch\u001b[0m\u001b[0;34m[\u001b[0m\u001b[0mi\u001b[0m\u001b[0;34m]\u001b[0m\u001b[0;34m.\u001b[0m\u001b[0mtoarray\u001b[0m\u001b[0;34m(\u001b[0m\u001b[0;34m)\u001b[0m\u001b[0;34m\u001b[0m\u001b[0;34m\u001b[0m\u001b[0m\n\u001b[1;32m    203\u001b[0m \u001b[0;34m\u001b[0m\u001b[0m\n\u001b[0;32m--> 204\u001b[0;31m                 \u001b[0mouts\u001b[0m \u001b[0;34m=\u001b[0m \u001b[0mfit_function\u001b[0m\u001b[0;34m(\u001b[0m\u001b[0mins_batch\u001b[0m\u001b[0;34m)\u001b[0m\u001b[0;34m\u001b[0m\u001b[0;34m\u001b[0m\u001b[0m\n\u001b[0m\u001b[1;32m    205\u001b[0m                 \u001b[0mouts\u001b[0m \u001b[0;34m=\u001b[0m \u001b[0mto_list\u001b[0m\u001b[0;34m(\u001b[0m\u001b[0mouts\u001b[0m\u001b[0;34m)\u001b[0m\u001b[0;34m\u001b[0m\u001b[0;34m\u001b[0m\u001b[0m\n\u001b[1;32m    206\u001b[0m                 \u001b[0;32mfor\u001b[0m \u001b[0ml\u001b[0m\u001b[0;34m,\u001b[0m \u001b[0mo\u001b[0m \u001b[0;32min\u001b[0m \u001b[0mzip\u001b[0m\u001b[0;34m(\u001b[0m\u001b[0mout_labels\u001b[0m\u001b[0;34m,\u001b[0m \u001b[0mouts\u001b[0m\u001b[0;34m)\u001b[0m\u001b[0;34m:\u001b[0m\u001b[0;34m\u001b[0m\u001b[0;34m\u001b[0m\u001b[0m\n",
            "\u001b[0;32m/usr/local/lib/python3.6/dist-packages/keras/backend/tensorflow_backend.py\u001b[0m in \u001b[0;36m__call__\u001b[0;34m(self, inputs)\u001b[0m\n\u001b[1;32m   2977\u001b[0m                     \u001b[0;32mreturn\u001b[0m \u001b[0mself\u001b[0m\u001b[0;34m.\u001b[0m\u001b[0m_legacy_call\u001b[0m\u001b[0;34m(\u001b[0m\u001b[0minputs\u001b[0m\u001b[0;34m)\u001b[0m\u001b[0;34m\u001b[0m\u001b[0;34m\u001b[0m\u001b[0m\n\u001b[1;32m   2978\u001b[0m \u001b[0;34m\u001b[0m\u001b[0m\n\u001b[0;32m-> 2979\u001b[0;31m             \u001b[0;32mreturn\u001b[0m \u001b[0mself\u001b[0m\u001b[0;34m.\u001b[0m\u001b[0m_call\u001b[0m\u001b[0;34m(\u001b[0m\u001b[0minputs\u001b[0m\u001b[0;34m)\u001b[0m\u001b[0;34m\u001b[0m\u001b[0;34m\u001b[0m\u001b[0m\n\u001b[0m\u001b[1;32m   2980\u001b[0m         \u001b[0;32melse\u001b[0m\u001b[0;34m:\u001b[0m\u001b[0;34m\u001b[0m\u001b[0;34m\u001b[0m\u001b[0m\n\u001b[1;32m   2981\u001b[0m             \u001b[0;32mif\u001b[0m \u001b[0mpy_any\u001b[0m\u001b[0;34m(\u001b[0m\u001b[0mis_tensor\u001b[0m\u001b[0;34m(\u001b[0m\u001b[0mx\u001b[0m\u001b[0;34m)\u001b[0m \u001b[0;32mfor\u001b[0m \u001b[0mx\u001b[0m \u001b[0;32min\u001b[0m \u001b[0minputs\u001b[0m\u001b[0;34m)\u001b[0m\u001b[0;34m:\u001b[0m\u001b[0;34m\u001b[0m\u001b[0;34m\u001b[0m\u001b[0m\n",
            "\u001b[0;32m/usr/local/lib/python3.6/dist-packages/keras/backend/tensorflow_backend.py\u001b[0m in \u001b[0;36m_call\u001b[0;34m(self, inputs)\u001b[0m\n\u001b[1;32m   2935\u001b[0m             \u001b[0mfetched\u001b[0m \u001b[0;34m=\u001b[0m \u001b[0mself\u001b[0m\u001b[0;34m.\u001b[0m\u001b[0m_callable_fn\u001b[0m\u001b[0;34m(\u001b[0m\u001b[0;34m*\u001b[0m\u001b[0marray_vals\u001b[0m\u001b[0;34m,\u001b[0m \u001b[0mrun_metadata\u001b[0m\u001b[0;34m=\u001b[0m\u001b[0mself\u001b[0m\u001b[0;34m.\u001b[0m\u001b[0mrun_metadata\u001b[0m\u001b[0;34m)\u001b[0m\u001b[0;34m\u001b[0m\u001b[0;34m\u001b[0m\u001b[0m\n\u001b[1;32m   2936\u001b[0m         \u001b[0;32melse\u001b[0m\u001b[0;34m:\u001b[0m\u001b[0;34m\u001b[0m\u001b[0;34m\u001b[0m\u001b[0m\n\u001b[0;32m-> 2937\u001b[0;31m             \u001b[0mfetched\u001b[0m \u001b[0;34m=\u001b[0m \u001b[0mself\u001b[0m\u001b[0;34m.\u001b[0m\u001b[0m_callable_fn\u001b[0m\u001b[0;34m(\u001b[0m\u001b[0;34m*\u001b[0m\u001b[0marray_vals\u001b[0m\u001b[0;34m)\u001b[0m\u001b[0;34m\u001b[0m\u001b[0;34m\u001b[0m\u001b[0m\n\u001b[0m\u001b[1;32m   2938\u001b[0m         \u001b[0;32mreturn\u001b[0m \u001b[0mfetched\u001b[0m\u001b[0;34m[\u001b[0m\u001b[0;34m:\u001b[0m\u001b[0mlen\u001b[0m\u001b[0;34m(\u001b[0m\u001b[0mself\u001b[0m\u001b[0;34m.\u001b[0m\u001b[0moutputs\u001b[0m\u001b[0;34m)\u001b[0m\u001b[0;34m]\u001b[0m\u001b[0;34m\u001b[0m\u001b[0;34m\u001b[0m\u001b[0m\n\u001b[1;32m   2939\u001b[0m \u001b[0;34m\u001b[0m\u001b[0m\n",
            "\u001b[0;32m/usr/local/lib/python3.6/dist-packages/tensorflow_core/python/client/session.py\u001b[0m in \u001b[0;36m__call__\u001b[0;34m(self, *args, **kwargs)\u001b[0m\n\u001b[1;32m   1470\u001b[0m         ret = tf_session.TF_SessionRunCallable(self._session._session,\n\u001b[1;32m   1471\u001b[0m                                                \u001b[0mself\u001b[0m\u001b[0;34m.\u001b[0m\u001b[0m_handle\u001b[0m\u001b[0;34m,\u001b[0m \u001b[0margs\u001b[0m\u001b[0;34m,\u001b[0m\u001b[0;34m\u001b[0m\u001b[0;34m\u001b[0m\u001b[0m\n\u001b[0;32m-> 1472\u001b[0;31m                                                run_metadata_ptr)\n\u001b[0m\u001b[1;32m   1473\u001b[0m         \u001b[0;32mif\u001b[0m \u001b[0mrun_metadata\u001b[0m\u001b[0;34m:\u001b[0m\u001b[0;34m\u001b[0m\u001b[0;34m\u001b[0m\u001b[0m\n\u001b[1;32m   1474\u001b[0m           \u001b[0mproto_data\u001b[0m \u001b[0;34m=\u001b[0m \u001b[0mtf_session\u001b[0m\u001b[0;34m.\u001b[0m\u001b[0mTF_GetBuffer\u001b[0m\u001b[0;34m(\u001b[0m\u001b[0mrun_metadata_ptr\u001b[0m\u001b[0;34m)\u001b[0m\u001b[0;34m\u001b[0m\u001b[0;34m\u001b[0m\u001b[0m\n",
            "\u001b[0;31mKeyboardInterrupt\u001b[0m: "
          ]
        }
      ]
    },
    {
      "cell_type": "code",
      "metadata": {
        "id": "o_3Mu9fGojDh",
        "colab_type": "code",
        "outputId": "5edaec3a-b2f6-4c73-d7dc-f24b9b5b9c02",
        "colab": {
          "base_uri": "https://localhost:8080/",
          "height": 67
        }
      },
      "source": [
        "score = model.evaluate(X_test, y_test, verbose=1)\n",
        "\n",
        "print(\"Test Score:\", score[0])\n",
        "print(\"Test Accuracy:\", score[1])"
      ],
      "execution_count": 0,
      "outputs": [
        {
          "output_type": "stream",
          "text": [
            "75/75 [==============================] - 0s 1ms/step\n",
            "Test Score: 1.850233057339986\n",
            "Test Accuracy: 0.45333333532015485\n"
          ],
          "name": "stdout"
        }
      ]
    },
    {
      "cell_type": "code",
      "metadata": {
        "id": "vc9CuOIDoyBq",
        "colab_type": "code",
        "outputId": "61f6634c-a651-4968-8e70-97630b020cf2",
        "colab": {
          "base_uri": "https://localhost:8080/",
          "height": 573
        }
      },
      "source": [
        "import matplotlib.pyplot as plt\n",
        "\n",
        "plt.plot(history.history['acc'])\n",
        "plt.plot(history.history['val_acc'])\n",
        "\n",
        "plt.title('model accuracy')\n",
        "plt.ylabel('accuracy')\n",
        "plt.xlabel('epoch')\n",
        "plt.legend(['train','test'], loc='upper left')\n",
        "plt.show()\n",
        "\n",
        "plt.plot(history.history['loss'])\n",
        "plt.plot(history.history['val_loss'])\n",
        "\n",
        "plt.title('model loss')\n",
        "plt.ylabel('loss')\n",
        "plt.xlabel('epoch')\n",
        "plt.legend(['train','test'], loc='upper left')\n",
        "plt.show()"
      ],
      "execution_count": 0,
      "outputs": [
        {
          "output_type": "display_data",
          "data": {
            "image/png": "[encoded data removed]",
            "text/plain": [
              "<Figure size 432x288 with 1 Axes>"
            ]
          },
          "metadata": {
            "tags": []
          }
        },
        {
          "output_type": "display_data",
          "data": {
            "image/png": "[encoded data removed]",
            "text/plain": [
              "<Figure size 432x288 with 1 Axes>"
            ]
          },
          "metadata": {
            "tags": []
          }
        }
      ]
    },
    {
      "cell_type": "code",
      "metadata": {
        "id": "iCP6orygo53p",
        "colab_type": "code",
        "colab": {}
      },
      "source": [
        ""
      ],
      "execution_count": 0,
      "outputs": []
    },
    {
      "cell_type": "code",
      "metadata": {
        "id": "wYLnqyL7pLny",
        "colab_type": "code",
        "colab": {}
      },
      "source": [
        ""
      ],
      "execution_count": 0,
      "outputs": []
    },
    {
      "cell_type": "markdown",
      "metadata": {
        "id": "8yUy-DiO220C",
        "colab_type": "text"
      },
      "source": [
        "**Results Summary:**\n",
        "_Provide a brief summary of results obtained like model accuracy & other insights based on EDA & your interpretations_\n",
        "\n",
        "1. The dataset is small. As it is told that we can only use the value of description field inside the jd_information field, the data gets even more reduced because lot of cases had empty description\n",
        "2. In my work, I have shown how I go about first compiling the data in easy comprehensible format and then working upon feature extraction which is followed by training.\n",
        "3. I have shown 2 ways i.e. using fine tuning the data on the pretrained BERT model and 2nd using simple CNN+LSTM network. Though I have not focussed on getting high accuracy because the dataset is highly unbalanced and is also small. My focus is how I can convert the data into simpler format so that it is easily understood by the machines. Fruther I have tried different latest approaches to extract features from the text that take semantic and contextual knowlegde into consideration.\n",
        "4. Further, I can work on optimising the model even more (hyperparameter tuning, regularisation..etc) by exploring latest research and implementing them here for the good of our comapany."
      ]
    },
    {
      "cell_type": "code",
      "metadata": {
        "id": "9nPvcd-9pLlh",
        "colab_type": "code",
        "colab": {}
      },
      "source": [
        ""
      ],
      "execution_count": 0,
      "outputs": []
    },
    {
      "cell_type": "code",
      "metadata": {
        "id": "EQOSxJ4ipLi2",
        "colab_type": "code",
        "colab": {}
      },
      "source": [
        ""
      ],
      "execution_count": 0,
      "outputs": []
    }
  ]
}